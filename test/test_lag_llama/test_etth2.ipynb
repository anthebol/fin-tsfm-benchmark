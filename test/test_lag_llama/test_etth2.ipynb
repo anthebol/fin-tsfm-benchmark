{
 "cells": [
  {
   "cell_type": "code",
   "execution_count": 2,
   "metadata": {},
   "outputs": [],
   "source": [
    "import os\n",
    "import sys\n",
    "module_path = os.path.abspath(os.path.join('..'))\n",
    "if module_path not in sys.path:\n",
    "    sys.path.append(module_path)"
   ]
  },
  {
   "cell_type": "code",
   "execution_count": 3,
   "metadata": {},
   "outputs": [
    {
     "name": "stdout",
     "output_type": "stream",
     "text": [
      "fatal: destination path 'lag-llama' already exists and is not an empty directory.\n"
     ]
    }
   ],
   "source": [
    "!git clone https://github.com/time-series-foundation-models/lag-llama/ "
   ]
  },
  {
   "cell_type": "code",
   "execution_count": 4,
   "metadata": {},
   "outputs": [
    {
     "name": "stdout",
     "output_type": "stream",
     "text": [
      "/Users/anthonybolton/Developer/FYP/ts-fm-benchmark-financial/test/test_lag_llama/lag-llama\n"
     ]
    },
    {
     "name": "stderr",
     "output_type": "stream",
     "text": [
      "/Users/anthonybolton/Developer/FYP/ts-fm-benchmark-financial/lag_llama_venv/lib/python3.12/site-packages/IPython/core/magics/osm.py:417: UserWarning: This is now an optional IPython functionality, setting dhist requires you to install the `pickleshare` library.\n",
      "  self.shell.db['dhist'] = compress_dhist(dhist)[-100:]\n"
     ]
    }
   ],
   "source": [
    "cd lag-llama "
   ]
  },
  {
   "cell_type": "code",
   "execution_count": 5,
   "metadata": {},
   "outputs": [
    {
     "name": "stdout",
     "output_type": "stream",
     "text": [
      "\n",
      "\u001b[1m[\u001b[0m\u001b[34;49mnotice\u001b[0m\u001b[1;39;49m]\u001b[0m\u001b[39;49m A new release of pip is available: \u001b[0m\u001b[31;49m24.0\u001b[0m\u001b[39;49m -> \u001b[0m\u001b[32;49m24.3.1\u001b[0m\n",
      "\u001b[1m[\u001b[0m\u001b[34;49mnotice\u001b[0m\u001b[1;39;49m]\u001b[0m\u001b[39;49m To update, run: \u001b[0m\u001b[32;49mpip install --upgrade pip\u001b[0m\n",
      "Note: you may need to restart the kernel to use updated packages.\n"
     ]
    }
   ],
   "source": [
    "pip install -r requirements.txt --quiet "
   ]
  },
  {
   "cell_type": "code",
   "execution_count": 6,
   "metadata": {},
   "outputs": [
    {
     "name": "stdout",
     "output_type": "stream",
     "text": [
      "weights/lag-llama.ckpt\n"
     ]
    }
   ],
   "source": [
    "!huggingface-cli download time-series-foundation-models/Lag-Llama lag-llama.ckpt --local-dir weights/"
   ]
  },
  {
   "cell_type": "code",
   "execution_count": 7,
   "metadata": {},
   "outputs": [
    {
     "name": "stdout",
     "output_type": "stream",
     "text": [
      "\n",
      "\u001b[1m[\u001b[0m\u001b[34;49mnotice\u001b[0m\u001b[1;39;49m]\u001b[0m\u001b[39;49m A new release of pip is available: \u001b[0m\u001b[31;49m24.0\u001b[0m\u001b[39;49m -> \u001b[0m\u001b[32;49m24.3.1\u001b[0m\n",
      "\u001b[1m[\u001b[0m\u001b[34;49mnotice\u001b[0m\u001b[1;39;49m]\u001b[0m\u001b[39;49m To update, run: \u001b[0m\u001b[32;49mpip install --upgrade pip\u001b[0m\n",
      "Note: you may need to restart the kernel to use updated packages.\n"
     ]
    }
   ],
   "source": [
    "pip install yfinance --quiet"
   ]
  },
  {
   "cell_type": "code",
   "execution_count": 8,
   "metadata": {},
   "outputs": [],
   "source": [
    "import pandas as pd\n",
    "\n",
    "df_etth2 = pd.read_csv('ETTh2.csv')"
   ]
  },
  {
   "cell_type": "code",
   "execution_count": 9,
   "metadata": {},
   "outputs": [],
   "source": [
    "df_etth2.drop(columns=['HULL', 'MULL', 'LUFL', 'LULL'], inplace=True)"
   ]
  },
  {
   "cell_type": "code",
   "execution_count": 13,
   "metadata": {},
   "outputs": [],
   "source": [
    "df_etth2['date'] = pd.to_datetime(df_etth2['date'])"
   ]
  },
  {
   "cell_type": "code",
   "execution_count": 22,
   "metadata": {},
   "outputs": [
    {
     "data": {
      "text/html": [
       "<div>\n",
       "<style scoped>\n",
       "    .dataframe tbody tr th:only-of-type {\n",
       "        vertical-align: middle;\n",
       "    }\n",
       "\n",
       "    .dataframe tbody tr th {\n",
       "        vertical-align: top;\n",
       "    }\n",
       "\n",
       "    .dataframe thead th {\n",
       "        text-align: right;\n",
       "    }\n",
       "</style>\n",
       "<table border=\"1\" class=\"dataframe\">\n",
       "  <thead>\n",
       "    <tr style=\"text-align: right;\">\n",
       "      <th></th>\n",
       "      <th>date</th>\n",
       "      <th>HUFL</th>\n",
       "      <th>MUFL</th>\n",
       "      <th>OT</th>\n",
       "    </tr>\n",
       "  </thead>\n",
       "  <tbody>\n",
       "    <tr>\n",
       "      <th>0</th>\n",
       "      <td>2016-07-01 00:00:00</td>\n",
       "      <td>41.130001</td>\n",
       "      <td>36.535999</td>\n",
       "      <td>38.661999</td>\n",
       "    </tr>\n",
       "    <tr>\n",
       "      <th>1</th>\n",
       "      <td>2016-07-01 01:00:00</td>\n",
       "      <td>37.528000</td>\n",
       "      <td>33.936001</td>\n",
       "      <td>37.124001</td>\n",
       "    </tr>\n",
       "    <tr>\n",
       "      <th>2</th>\n",
       "      <td>2016-07-01 02:00:00</td>\n",
       "      <td>37.946999</td>\n",
       "      <td>35.330002</td>\n",
       "      <td>36.465000</td>\n",
       "    </tr>\n",
       "    <tr>\n",
       "      <th>3</th>\n",
       "      <td>2016-07-01 03:00:00</td>\n",
       "      <td>38.952000</td>\n",
       "      <td>35.543999</td>\n",
       "      <td>33.608501</td>\n",
       "    </tr>\n",
       "    <tr>\n",
       "      <th>4</th>\n",
       "      <td>2016-07-01 04:00:00</td>\n",
       "      <td>38.113998</td>\n",
       "      <td>35.410000</td>\n",
       "      <td>31.850500</td>\n",
       "    </tr>\n",
       "    <tr>\n",
       "      <th>...</th>\n",
       "      <td>...</td>\n",
       "      <td>...</td>\n",
       "      <td>...</td>\n",
       "      <td>...</td>\n",
       "    </tr>\n",
       "    <tr>\n",
       "      <th>17415</th>\n",
       "      <td>2018-06-26 15:00:00</td>\n",
       "      <td>39.202999</td>\n",
       "      <td>49.644001</td>\n",
       "      <td>47.084999</td>\n",
       "    </tr>\n",
       "    <tr>\n",
       "      <th>17416</th>\n",
       "      <td>2018-06-26 16:00:00</td>\n",
       "      <td>38.113998</td>\n",
       "      <td>48.759998</td>\n",
       "      <td>48.183498</td>\n",
       "    </tr>\n",
       "    <tr>\n",
       "      <th>17417</th>\n",
       "      <td>2018-06-26 17:00:00</td>\n",
       "      <td>39.622002</td>\n",
       "      <td>50.609001</td>\n",
       "      <td>48.183498</td>\n",
       "    </tr>\n",
       "    <tr>\n",
       "      <th>17418</th>\n",
       "      <td>2018-06-26 18:00:00</td>\n",
       "      <td>43.643002</td>\n",
       "      <td>54.737000</td>\n",
       "      <td>46.865501</td>\n",
       "    </tr>\n",
       "    <tr>\n",
       "      <th>17419</th>\n",
       "      <td>2018-06-26 19:00:00</td>\n",
       "      <td>38.868000</td>\n",
       "      <td>49.859001</td>\n",
       "      <td>45.986500</td>\n",
       "    </tr>\n",
       "  </tbody>\n",
       "</table>\n",
       "<p>17420 rows × 4 columns</p>\n",
       "</div>"
      ],
      "text/plain": [
       "                     date       HUFL       MUFL         OT\n",
       "0     2016-07-01 00:00:00  41.130001  36.535999  38.661999\n",
       "1     2016-07-01 01:00:00  37.528000  33.936001  37.124001\n",
       "2     2016-07-01 02:00:00  37.946999  35.330002  36.465000\n",
       "3     2016-07-01 03:00:00  38.952000  35.543999  33.608501\n",
       "4     2016-07-01 04:00:00  38.113998  35.410000  31.850500\n",
       "...                   ...        ...        ...        ...\n",
       "17415 2018-06-26 15:00:00  39.202999  49.644001  47.084999\n",
       "17416 2018-06-26 16:00:00  38.113998  48.759998  48.183498\n",
       "17417 2018-06-26 17:00:00  39.622002  50.609001  48.183498\n",
       "17418 2018-06-26 18:00:00  43.643002  54.737000  46.865501\n",
       "17419 2018-06-26 19:00:00  38.868000  49.859001  45.986500\n",
       "\n",
       "[17420 rows x 4 columns]"
      ]
     },
     "execution_count": 22,
     "metadata": {},
     "output_type": "execute_result"
    }
   ],
   "source": [
    "df_etth2"
   ]
  },
  {
   "cell_type": "code",
   "execution_count": 205,
   "metadata": {},
   "outputs": [
    {
     "data": {
      "text/plain": [
       "Timestamp('2017-06-26 23:00:00')"
      ]
     },
     "execution_count": 205,
     "metadata": {},
     "output_type": "execute_result"
    }
   ],
   "source": [
    "df_etth2.loc[8663, 'date']"
   ]
  },
  {
   "cell_type": "code",
   "execution_count": 260,
   "metadata": {},
   "outputs": [
    {
     "data": {
      "text/plain": [
       "8183    28.555000\n",
       "8184    28.115000\n",
       "8185    27.895500\n",
       "8186    27.676001\n",
       "8187    27.236000\n",
       "          ...    \n",
       "8659    38.442501\n",
       "8660    37.563499\n",
       "8661    36.465000\n",
       "8662    36.025002\n",
       "8663    35.805500\n",
       "Name: OT, Length: 481, dtype: float64"
      ]
     },
     "execution_count": 260,
     "metadata": {},
     "output_type": "execute_result"
    }
   ],
   "source": [
    "CONTEXT_WINDOW = 480\n",
    "target_date = pd.Timestamp('2017-06-27 00:00:00')\n",
    "# target_date = pd.Timestamp('2017-06-29 00:00:00')\n",
    "# target_date = pd.Timestamp('2017-07-04 00:00:00')\n",
    "start_idx = df_etth2[df_etth2['date'] < target_date].index[-1]\n",
    "\n",
    "current_idx = start_idx + 0\n",
    "context_start = current_idx - CONTEXT_WINDOW\n",
    "context_end = current_idx\n",
    "\n",
    "df_etth2['OT'].iloc[context_start:context_end + 1]"
   ]
  },
  {
   "cell_type": "code",
   "execution_count": 225,
   "metadata": {},
   "outputs": [
    {
     "data": {
      "text/plain": [
       "480"
      ]
     },
     "execution_count": 225,
     "metadata": {},
     "output_type": "execute_result"
    }
   ],
   "source": [
    "foo_df = df_etth2['OT'].iloc[context_start + 1:context_end + 1]\n",
    "len(foo_df)"
   ]
  },
  {
   "cell_type": "code",
   "execution_count": 221,
   "metadata": {},
   "outputs": [
    {
     "data": {
      "text/plain": [
       "Timestamp('2017-06-06 23:00:00')"
      ]
     },
     "execution_count": 221,
     "metadata": {},
     "output_type": "execute_result"
    }
   ],
   "source": [
    "context_start_date = df_etth2['date'].iloc[context_start]\n",
    "context_start_date"
   ]
  },
  {
   "cell_type": "code",
   "execution_count": 216,
   "metadata": {},
   "outputs": [
    {
     "data": {
      "text/html": [
       "<div>\n",
       "<style scoped>\n",
       "    .dataframe tbody tr th:only-of-type {\n",
       "        vertical-align: middle;\n",
       "    }\n",
       "\n",
       "    .dataframe tbody tr th {\n",
       "        vertical-align: top;\n",
       "    }\n",
       "\n",
       "    .dataframe thead th {\n",
       "        text-align: right;\n",
       "    }\n",
       "</style>\n",
       "<table border=\"1\" class=\"dataframe\">\n",
       "  <thead>\n",
       "    <tr style=\"text-align: right;\">\n",
       "      <th></th>\n",
       "      <th>date</th>\n",
       "      <th>HUFL</th>\n",
       "      <th>MUFL</th>\n",
       "      <th>OT</th>\n",
       "    </tr>\n",
       "  </thead>\n",
       "  <tbody>\n",
       "    <tr>\n",
       "      <th>8663</th>\n",
       "      <td>2017-06-26 23:00:00</td>\n",
       "      <td>30.993999</td>\n",
       "      <td>38.386002</td>\n",
       "      <td>35.8055</td>\n",
       "    </tr>\n",
       "  </tbody>\n",
       "</table>\n",
       "</div>"
      ],
      "text/plain": [
       "                    date       HUFL       MUFL       OT\n",
       "8663 2017-06-26 23:00:00  30.993999  38.386002  35.8055"
      ]
     },
     "execution_count": 216,
     "metadata": {},
     "output_type": "execute_result"
    }
   ],
   "source": [
    "target_date = pd.Timestamp('2017-06-26 23:00:00')\n",
    "\n",
    "df_etth2[df_etth2['date'] == target_date]"
   ]
  },
  {
   "cell_type": "markdown",
   "metadata": {},
   "source": [
    "# ETT-H2 Diagram 1"
   ]
  },
  {
   "cell_type": "code",
   "execution_count": 257,
   "metadata": {},
   "outputs": [
    {
     "name": "stdout",
     "output_type": "stream",
     "text": [
      "Start index: 8663\n",
      "\n",
      "Forecast Setup Details:\n",
      "Total data length: 17420\n",
      "Start index (last point in context window): 8663\n",
      "Context window size: 478\n",
      "\n",
      "Step 1 / 25\n",
      "  Context indices = [8185, 8663]\n",
      "  Forecast index  = 8663\n",
      "  Context date range = 2017-06-07 01:00:00 to 2017-06-26 23:00:00\n",
      "  Forecast date       = 2017-06-27 00:00:00\n",
      "478\n",
      "2017-06-07 01:00:00\n"
     ]
    },
    {
     "name": "stderr",
     "output_type": "stream",
     "text": [
      "/var/folders/x3/lq5xm_7n0p34sd9k354_nyjh0000gn/T/ipykernel_4416/3702767029.py:17: FutureWarning: You are using `torch.load` with `weights_only=False` (the current default value), which uses the default pickle module implicitly. It is possible to construct malicious pickle data which will execute arbitrary code during unpickling (See https://github.com/pytorch/pytorch/blob/main/SECURITY.md#untrusted-models for more details). In a future release, the default value for `weights_only` will be flipped to `True`. This limits the functions that could be executed during unpickling. Arbitrary objects will no longer be allowed to be loaded via this mode unless they are explicitly allowlisted by the user via `torch.serialization.add_safe_globals`. We recommend you start setting `weights_only=True` for any use case where you don't have full control of the loaded file. Please open an issue on GitHub for any issues related to this experimental feature.\n",
      "  ckpt = torch.load(\"weights/lag-llama.ckpt\", map_location=torch.device(\"mps\" if torch.mps.is_available() else \"cpu\"))\n",
      "/Users/anthonybolton/Developer/FYP/ts-fm-benchmark-financial/lag_llama_venv/lib/python3.12/site-packages/lightning/fabric/utilities/cloud_io.py:56: You are using `torch.load` with `weights_only=False` (the current default value), which uses the default pickle module implicitly. It is possible to construct malicious pickle data which will execute arbitrary code during unpickling (See https://github.com/pytorch/pytorch/blob/main/SECURITY.md#untrusted-models for more details). In a future release, the default value for `weights_only` will be flipped to `True`. This limits the functions that could be executed during unpickling. Arbitrary objects will no longer be allowed to be loaded via this mode unless they are explicitly allowlisted by the user via `torch.serialization.add_safe_globals`. We recommend you start setting `weights_only=True` for any use case where you don't have full control of the loaded file. Please open an issue on GitHub for any issues related to this experimental feature.\n"
     ]
    },
    {
     "name": "stdout",
     "output_type": "stream",
     "text": [
      "  Forecast median = 35.58, Actual = 35.37\n",
      "\n",
      "Step 2 / 25\n",
      "  Context indices = [8186, 8664]\n",
      "  Forecast index  = 8664\n",
      "  Context date range = 2017-06-07 02:00:00 to 2017-06-27 00:00:00\n",
      "  Forecast date       = 2017-06-27 01:00:00\n",
      "478\n",
      "2017-06-07 02:00:00\n"
     ]
    },
    {
     "name": "stderr",
     "output_type": "stream",
     "text": [
      "/var/folders/x3/lq5xm_7n0p34sd9k354_nyjh0000gn/T/ipykernel_4416/3702767029.py:17: FutureWarning: You are using `torch.load` with `weights_only=False` (the current default value), which uses the default pickle module implicitly. It is possible to construct malicious pickle data which will execute arbitrary code during unpickling (See https://github.com/pytorch/pytorch/blob/main/SECURITY.md#untrusted-models for more details). In a future release, the default value for `weights_only` will be flipped to `True`. This limits the functions that could be executed during unpickling. Arbitrary objects will no longer be allowed to be loaded via this mode unless they are explicitly allowlisted by the user via `torch.serialization.add_safe_globals`. We recommend you start setting `weights_only=True` for any use case where you don't have full control of the loaded file. Please open an issue on GitHub for any issues related to this experimental feature.\n",
      "  ckpt = torch.load(\"weights/lag-llama.ckpt\", map_location=torch.device(\"mps\" if torch.mps.is_available() else \"cpu\"))\n",
      "/Users/anthonybolton/Developer/FYP/ts-fm-benchmark-financial/lag_llama_venv/lib/python3.12/site-packages/lightning/fabric/utilities/cloud_io.py:56: You are using `torch.load` with `weights_only=False` (the current default value), which uses the default pickle module implicitly. It is possible to construct malicious pickle data which will execute arbitrary code during unpickling (See https://github.com/pytorch/pytorch/blob/main/SECURITY.md#untrusted-models for more details). In a future release, the default value for `weights_only` will be flipped to `True`. This limits the functions that could be executed during unpickling. Arbitrary objects will no longer be allowed to be loaded via this mode unless they are explicitly allowlisted by the user via `torch.serialization.add_safe_globals`. We recommend you start setting `weights_only=True` for any use case where you don't have full control of the loaded file. Please open an issue on GitHub for any issues related to this experimental feature.\n"
     ]
    },
    {
     "name": "stdout",
     "output_type": "stream",
     "text": [
      "  Forecast median = 35.67, Actual = 34.93\n",
      "\n",
      "Step 3 / 25\n",
      "  Context indices = [8187, 8665]\n",
      "  Forecast index  = 8665\n",
      "  Context date range = 2017-06-07 03:00:00 to 2017-06-27 01:00:00\n",
      "  Forecast date       = 2017-06-27 02:00:00\n",
      "478\n",
      "2017-06-07 03:00:00\n"
     ]
    },
    {
     "name": "stderr",
     "output_type": "stream",
     "text": [
      "/var/folders/x3/lq5xm_7n0p34sd9k354_nyjh0000gn/T/ipykernel_4416/3702767029.py:17: FutureWarning: You are using `torch.load` with `weights_only=False` (the current default value), which uses the default pickle module implicitly. It is possible to construct malicious pickle data which will execute arbitrary code during unpickling (See https://github.com/pytorch/pytorch/blob/main/SECURITY.md#untrusted-models for more details). In a future release, the default value for `weights_only` will be flipped to `True`. This limits the functions that could be executed during unpickling. Arbitrary objects will no longer be allowed to be loaded via this mode unless they are explicitly allowlisted by the user via `torch.serialization.add_safe_globals`. We recommend you start setting `weights_only=True` for any use case where you don't have full control of the loaded file. Please open an issue on GitHub for any issues related to this experimental feature.\n",
      "  ckpt = torch.load(\"weights/lag-llama.ckpt\", map_location=torch.device(\"mps\" if torch.mps.is_available() else \"cpu\"))\n",
      "/Users/anthonybolton/Developer/FYP/ts-fm-benchmark-financial/lag_llama_venv/lib/python3.12/site-packages/lightning/fabric/utilities/cloud_io.py:56: You are using `torch.load` with `weights_only=False` (the current default value), which uses the default pickle module implicitly. It is possible to construct malicious pickle data which will execute arbitrary code during unpickling (See https://github.com/pytorch/pytorch/blob/main/SECURITY.md#untrusted-models for more details). In a future release, the default value for `weights_only` will be flipped to `True`. This limits the functions that could be executed during unpickling. Arbitrary objects will no longer be allowed to be loaded via this mode unless they are explicitly allowlisted by the user via `torch.serialization.add_safe_globals`. We recommend you start setting `weights_only=True` for any use case where you don't have full control of the loaded file. Please open an issue on GitHub for any issues related to this experimental feature.\n"
     ]
    },
    {
     "name": "stdout",
     "output_type": "stream",
     "text": [
      "  Forecast median = 35.43, Actual = 34.49\n",
      "\n",
      "Step 4 / 25\n",
      "  Context indices = [8188, 8666]\n",
      "  Forecast index  = 8666\n",
      "  Context date range = 2017-06-07 04:00:00 to 2017-06-27 02:00:00\n",
      "  Forecast date       = 2017-06-27 03:00:00\n",
      "478\n",
      "2017-06-07 04:00:00\n"
     ]
    },
    {
     "name": "stderr",
     "output_type": "stream",
     "text": [
      "/var/folders/x3/lq5xm_7n0p34sd9k354_nyjh0000gn/T/ipykernel_4416/3702767029.py:17: FutureWarning: You are using `torch.load` with `weights_only=False` (the current default value), which uses the default pickle module implicitly. It is possible to construct malicious pickle data which will execute arbitrary code during unpickling (See https://github.com/pytorch/pytorch/blob/main/SECURITY.md#untrusted-models for more details). In a future release, the default value for `weights_only` will be flipped to `True`. This limits the functions that could be executed during unpickling. Arbitrary objects will no longer be allowed to be loaded via this mode unless they are explicitly allowlisted by the user via `torch.serialization.add_safe_globals`. We recommend you start setting `weights_only=True` for any use case where you don't have full control of the loaded file. Please open an issue on GitHub for any issues related to this experimental feature.\n",
      "  ckpt = torch.load(\"weights/lag-llama.ckpt\", map_location=torch.device(\"mps\" if torch.mps.is_available() else \"cpu\"))\n",
      "/Users/anthonybolton/Developer/FYP/ts-fm-benchmark-financial/lag_llama_venv/lib/python3.12/site-packages/lightning/fabric/utilities/cloud_io.py:56: You are using `torch.load` with `weights_only=False` (the current default value), which uses the default pickle module implicitly. It is possible to construct malicious pickle data which will execute arbitrary code during unpickling (See https://github.com/pytorch/pytorch/blob/main/SECURITY.md#untrusted-models for more details). In a future release, the default value for `weights_only` will be flipped to `True`. This limits the functions that could be executed during unpickling. Arbitrary objects will no longer be allowed to be loaded via this mode unless they are explicitly allowlisted by the user via `torch.serialization.add_safe_globals`. We recommend you start setting `weights_only=True` for any use case where you don't have full control of the loaded file. Please open an issue on GitHub for any issues related to this experimental feature.\n"
     ]
    },
    {
     "name": "stdout",
     "output_type": "stream",
     "text": [
      "  Forecast median = 34.84, Actual = 34.05\n",
      "\n",
      "Step 5 / 25\n",
      "  Context indices = [8189, 8667]\n",
      "  Forecast index  = 8667\n",
      "  Context date range = 2017-06-07 05:00:00 to 2017-06-27 03:00:00\n",
      "  Forecast date       = 2017-06-27 04:00:00\n",
      "478\n",
      "2017-06-07 05:00:00\n"
     ]
    },
    {
     "name": "stderr",
     "output_type": "stream",
     "text": [
      "/var/folders/x3/lq5xm_7n0p34sd9k354_nyjh0000gn/T/ipykernel_4416/3702767029.py:17: FutureWarning: You are using `torch.load` with `weights_only=False` (the current default value), which uses the default pickle module implicitly. It is possible to construct malicious pickle data which will execute arbitrary code during unpickling (See https://github.com/pytorch/pytorch/blob/main/SECURITY.md#untrusted-models for more details). In a future release, the default value for `weights_only` will be flipped to `True`. This limits the functions that could be executed during unpickling. Arbitrary objects will no longer be allowed to be loaded via this mode unless they are explicitly allowlisted by the user via `torch.serialization.add_safe_globals`. We recommend you start setting `weights_only=True` for any use case where you don't have full control of the loaded file. Please open an issue on GitHub for any issues related to this experimental feature.\n",
      "  ckpt = torch.load(\"weights/lag-llama.ckpt\", map_location=torch.device(\"mps\" if torch.mps.is_available() else \"cpu\"))\n",
      "/Users/anthonybolton/Developer/FYP/ts-fm-benchmark-financial/lag_llama_venv/lib/python3.12/site-packages/lightning/fabric/utilities/cloud_io.py:56: You are using `torch.load` with `weights_only=False` (the current default value), which uses the default pickle module implicitly. It is possible to construct malicious pickle data which will execute arbitrary code during unpickling (See https://github.com/pytorch/pytorch/blob/main/SECURITY.md#untrusted-models for more details). In a future release, the default value for `weights_only` will be flipped to `True`. This limits the functions that could be executed during unpickling. Arbitrary objects will no longer be allowed to be loaded via this mode unless they are explicitly allowlisted by the user via `torch.serialization.add_safe_globals`. We recommend you start setting `weights_only=True` for any use case where you don't have full control of the loaded file. Please open an issue on GitHub for any issues related to this experimental feature.\n"
     ]
    },
    {
     "name": "stdout",
     "output_type": "stream",
     "text": [
      "  Forecast median = 34.46, Actual = 33.83\n",
      "\n",
      "Step 6 / 25\n",
      "  Context indices = [8190, 8668]\n",
      "  Forecast index  = 8668\n",
      "  Context date range = 2017-06-07 06:00:00 to 2017-06-27 04:00:00\n",
      "  Forecast date       = 2017-06-27 05:00:00\n",
      "478\n",
      "2017-06-07 06:00:00\n"
     ]
    },
    {
     "name": "stderr",
     "output_type": "stream",
     "text": [
      "/var/folders/x3/lq5xm_7n0p34sd9k354_nyjh0000gn/T/ipykernel_4416/3702767029.py:17: FutureWarning: You are using `torch.load` with `weights_only=False` (the current default value), which uses the default pickle module implicitly. It is possible to construct malicious pickle data which will execute arbitrary code during unpickling (See https://github.com/pytorch/pytorch/blob/main/SECURITY.md#untrusted-models for more details). In a future release, the default value for `weights_only` will be flipped to `True`. This limits the functions that could be executed during unpickling. Arbitrary objects will no longer be allowed to be loaded via this mode unless they are explicitly allowlisted by the user via `torch.serialization.add_safe_globals`. We recommend you start setting `weights_only=True` for any use case where you don't have full control of the loaded file. Please open an issue on GitHub for any issues related to this experimental feature.\n",
      "  ckpt = torch.load(\"weights/lag-llama.ckpt\", map_location=torch.device(\"mps\" if torch.mps.is_available() else \"cpu\"))\n",
      "/Users/anthonybolton/Developer/FYP/ts-fm-benchmark-financial/lag_llama_venv/lib/python3.12/site-packages/lightning/fabric/utilities/cloud_io.py:56: You are using `torch.load` with `weights_only=False` (the current default value), which uses the default pickle module implicitly. It is possible to construct malicious pickle data which will execute arbitrary code during unpickling (See https://github.com/pytorch/pytorch/blob/main/SECURITY.md#untrusted-models for more details). In a future release, the default value for `weights_only` will be flipped to `True`. This limits the functions that could be executed during unpickling. Arbitrary objects will no longer be allowed to be loaded via this mode unless they are explicitly allowlisted by the user via `torch.serialization.add_safe_globals`. We recommend you start setting `weights_only=True` for any use case where you don't have full control of the loaded file. Please open an issue on GitHub for any issues related to this experimental feature.\n"
     ]
    },
    {
     "name": "stdout",
     "output_type": "stream",
     "text": [
      "  Forecast median = 34.15, Actual = 33.39\n",
      "\n",
      "Step 7 / 25\n",
      "  Context indices = [8191, 8669]\n",
      "  Forecast index  = 8669\n",
      "  Context date range = 2017-06-07 07:00:00 to 2017-06-27 05:00:00\n",
      "  Forecast date       = 2017-06-27 06:00:00\n",
      "478\n",
      "2017-06-07 07:00:00\n"
     ]
    },
    {
     "name": "stderr",
     "output_type": "stream",
     "text": [
      "/var/folders/x3/lq5xm_7n0p34sd9k354_nyjh0000gn/T/ipykernel_4416/3702767029.py:17: FutureWarning: You are using `torch.load` with `weights_only=False` (the current default value), which uses the default pickle module implicitly. It is possible to construct malicious pickle data which will execute arbitrary code during unpickling (See https://github.com/pytorch/pytorch/blob/main/SECURITY.md#untrusted-models for more details). In a future release, the default value for `weights_only` will be flipped to `True`. This limits the functions that could be executed during unpickling. Arbitrary objects will no longer be allowed to be loaded via this mode unless they are explicitly allowlisted by the user via `torch.serialization.add_safe_globals`. We recommend you start setting `weights_only=True` for any use case where you don't have full control of the loaded file. Please open an issue on GitHub for any issues related to this experimental feature.\n",
      "  ckpt = torch.load(\"weights/lag-llama.ckpt\", map_location=torch.device(\"mps\" if torch.mps.is_available() else \"cpu\"))\n",
      "/Users/anthonybolton/Developer/FYP/ts-fm-benchmark-financial/lag_llama_venv/lib/python3.12/site-packages/lightning/fabric/utilities/cloud_io.py:56: You are using `torch.load` with `weights_only=False` (the current default value), which uses the default pickle module implicitly. It is possible to construct malicious pickle data which will execute arbitrary code during unpickling (See https://github.com/pytorch/pytorch/blob/main/SECURITY.md#untrusted-models for more details). In a future release, the default value for `weights_only` will be flipped to `True`. This limits the functions that could be executed during unpickling. Arbitrary objects will no longer be allowed to be loaded via this mode unless they are explicitly allowlisted by the user via `torch.serialization.add_safe_globals`. We recommend you start setting `weights_only=True` for any use case where you don't have full control of the loaded file. Please open an issue on GitHub for any issues related to this experimental feature.\n"
     ]
    },
    {
     "name": "stdout",
     "output_type": "stream",
     "text": [
      "  Forecast median = 33.81, Actual = 33.39\n",
      "\n",
      "Step 8 / 25\n",
      "  Context indices = [8192, 8670]\n",
      "  Forecast index  = 8670\n",
      "  Context date range = 2017-06-07 08:00:00 to 2017-06-27 06:00:00\n",
      "  Forecast date       = 2017-06-27 07:00:00\n",
      "478\n",
      "2017-06-07 08:00:00\n"
     ]
    },
    {
     "name": "stderr",
     "output_type": "stream",
     "text": [
      "/var/folders/x3/lq5xm_7n0p34sd9k354_nyjh0000gn/T/ipykernel_4416/3702767029.py:17: FutureWarning: You are using `torch.load` with `weights_only=False` (the current default value), which uses the default pickle module implicitly. It is possible to construct malicious pickle data which will execute arbitrary code during unpickling (See https://github.com/pytorch/pytorch/blob/main/SECURITY.md#untrusted-models for more details). In a future release, the default value for `weights_only` will be flipped to `True`. This limits the functions that could be executed during unpickling. Arbitrary objects will no longer be allowed to be loaded via this mode unless they are explicitly allowlisted by the user via `torch.serialization.add_safe_globals`. We recommend you start setting `weights_only=True` for any use case where you don't have full control of the loaded file. Please open an issue on GitHub for any issues related to this experimental feature.\n",
      "  ckpt = torch.load(\"weights/lag-llama.ckpt\", map_location=torch.device(\"mps\" if torch.mps.is_available() else \"cpu\"))\n",
      "/Users/anthonybolton/Developer/FYP/ts-fm-benchmark-financial/lag_llama_venv/lib/python3.12/site-packages/lightning/fabric/utilities/cloud_io.py:56: You are using `torch.load` with `weights_only=False` (the current default value), which uses the default pickle module implicitly. It is possible to construct malicious pickle data which will execute arbitrary code during unpickling (See https://github.com/pytorch/pytorch/blob/main/SECURITY.md#untrusted-models for more details). In a future release, the default value for `weights_only` will be flipped to `True`. This limits the functions that could be executed during unpickling. Arbitrary objects will no longer be allowed to be loaded via this mode unless they are explicitly allowlisted by the user via `torch.serialization.add_safe_globals`. We recommend you start setting `weights_only=True` for any use case where you don't have full control of the loaded file. Please open an issue on GitHub for any issues related to this experimental feature.\n"
     ]
    },
    {
     "name": "stdout",
     "output_type": "stream",
     "text": [
      "  Forecast median = 33.66, Actual = 33.39\n",
      "\n",
      "Step 9 / 25\n",
      "  Context indices = [8193, 8671]\n",
      "  Forecast index  = 8671\n",
      "  Context date range = 2017-06-07 09:00:00 to 2017-06-27 07:00:00\n",
      "  Forecast date       = 2017-06-27 08:00:00\n",
      "478\n",
      "2017-06-07 09:00:00\n"
     ]
    },
    {
     "name": "stderr",
     "output_type": "stream",
     "text": [
      "/var/folders/x3/lq5xm_7n0p34sd9k354_nyjh0000gn/T/ipykernel_4416/3702767029.py:17: FutureWarning: You are using `torch.load` with `weights_only=False` (the current default value), which uses the default pickle module implicitly. It is possible to construct malicious pickle data which will execute arbitrary code during unpickling (See https://github.com/pytorch/pytorch/blob/main/SECURITY.md#untrusted-models for more details). In a future release, the default value for `weights_only` will be flipped to `True`. This limits the functions that could be executed during unpickling. Arbitrary objects will no longer be allowed to be loaded via this mode unless they are explicitly allowlisted by the user via `torch.serialization.add_safe_globals`. We recommend you start setting `weights_only=True` for any use case where you don't have full control of the loaded file. Please open an issue on GitHub for any issues related to this experimental feature.\n",
      "  ckpt = torch.load(\"weights/lag-llama.ckpt\", map_location=torch.device(\"mps\" if torch.mps.is_available() else \"cpu\"))\n",
      "/Users/anthonybolton/Developer/FYP/ts-fm-benchmark-financial/lag_llama_venv/lib/python3.12/site-packages/lightning/fabric/utilities/cloud_io.py:56: You are using `torch.load` with `weights_only=False` (the current default value), which uses the default pickle module implicitly. It is possible to construct malicious pickle data which will execute arbitrary code during unpickling (See https://github.com/pytorch/pytorch/blob/main/SECURITY.md#untrusted-models for more details). In a future release, the default value for `weights_only` will be flipped to `True`. This limits the functions that could be executed during unpickling. Arbitrary objects will no longer be allowed to be loaded via this mode unless they are explicitly allowlisted by the user via `torch.serialization.add_safe_globals`. We recommend you start setting `weights_only=True` for any use case where you don't have full control of the loaded file. Please open an issue on GitHub for any issues related to this experimental feature.\n"
     ]
    },
    {
     "name": "stdout",
     "output_type": "stream",
     "text": [
      "  Forecast median = 33.51, Actual = 34.49\n",
      "\n",
      "Step 10 / 25\n",
      "  Context indices = [8194, 8672]\n",
      "  Forecast index  = 8672\n",
      "  Context date range = 2017-06-07 10:00:00 to 2017-06-27 08:00:00\n",
      "  Forecast date       = 2017-06-27 09:00:00\n",
      "478\n",
      "2017-06-07 10:00:00\n"
     ]
    },
    {
     "name": "stderr",
     "output_type": "stream",
     "text": [
      "/var/folders/x3/lq5xm_7n0p34sd9k354_nyjh0000gn/T/ipykernel_4416/3702767029.py:17: FutureWarning: You are using `torch.load` with `weights_only=False` (the current default value), which uses the default pickle module implicitly. It is possible to construct malicious pickle data which will execute arbitrary code during unpickling (See https://github.com/pytorch/pytorch/blob/main/SECURITY.md#untrusted-models for more details). In a future release, the default value for `weights_only` will be flipped to `True`. This limits the functions that could be executed during unpickling. Arbitrary objects will no longer be allowed to be loaded via this mode unless they are explicitly allowlisted by the user via `torch.serialization.add_safe_globals`. We recommend you start setting `weights_only=True` for any use case where you don't have full control of the loaded file. Please open an issue on GitHub for any issues related to this experimental feature.\n",
      "  ckpt = torch.load(\"weights/lag-llama.ckpt\", map_location=torch.device(\"mps\" if torch.mps.is_available() else \"cpu\"))\n",
      "/Users/anthonybolton/Developer/FYP/ts-fm-benchmark-financial/lag_llama_venv/lib/python3.12/site-packages/lightning/fabric/utilities/cloud_io.py:56: You are using `torch.load` with `weights_only=False` (the current default value), which uses the default pickle module implicitly. It is possible to construct malicious pickle data which will execute arbitrary code during unpickling (See https://github.com/pytorch/pytorch/blob/main/SECURITY.md#untrusted-models for more details). In a future release, the default value for `weights_only` will be flipped to `True`. This limits the functions that could be executed during unpickling. Arbitrary objects will no longer be allowed to be loaded via this mode unless they are explicitly allowlisted by the user via `torch.serialization.add_safe_globals`. We recommend you start setting `weights_only=True` for any use case where you don't have full control of the loaded file. Please open an issue on GitHub for any issues related to this experimental feature.\n"
     ]
    },
    {
     "name": "stdout",
     "output_type": "stream",
     "text": [
      "  Forecast median = 33.79, Actual = 35.59\n",
      "\n",
      "Step 11 / 25\n",
      "  Context indices = [8195, 8673]\n",
      "  Forecast index  = 8673\n",
      "  Context date range = 2017-06-07 11:00:00 to 2017-06-27 09:00:00\n",
      "  Forecast date       = 2017-06-27 10:00:00\n",
      "478\n",
      "2017-06-07 11:00:00\n"
     ]
    },
    {
     "name": "stderr",
     "output_type": "stream",
     "text": [
      "/var/folders/x3/lq5xm_7n0p34sd9k354_nyjh0000gn/T/ipykernel_4416/3702767029.py:17: FutureWarning: You are using `torch.load` with `weights_only=False` (the current default value), which uses the default pickle module implicitly. It is possible to construct malicious pickle data which will execute arbitrary code during unpickling (See https://github.com/pytorch/pytorch/blob/main/SECURITY.md#untrusted-models for more details). In a future release, the default value for `weights_only` will be flipped to `True`. This limits the functions that could be executed during unpickling. Arbitrary objects will no longer be allowed to be loaded via this mode unless they are explicitly allowlisted by the user via `torch.serialization.add_safe_globals`. We recommend you start setting `weights_only=True` for any use case where you don't have full control of the loaded file. Please open an issue on GitHub for any issues related to this experimental feature.\n",
      "  ckpt = torch.load(\"weights/lag-llama.ckpt\", map_location=torch.device(\"mps\" if torch.mps.is_available() else \"cpu\"))\n",
      "/Users/anthonybolton/Developer/FYP/ts-fm-benchmark-financial/lag_llama_venv/lib/python3.12/site-packages/lightning/fabric/utilities/cloud_io.py:56: You are using `torch.load` with `weights_only=False` (the current default value), which uses the default pickle module implicitly. It is possible to construct malicious pickle data which will execute arbitrary code during unpickling (See https://github.com/pytorch/pytorch/blob/main/SECURITY.md#untrusted-models for more details). In a future release, the default value for `weights_only` will be flipped to `True`. This limits the functions that could be executed during unpickling. Arbitrary objects will no longer be allowed to be loaded via this mode unless they are explicitly allowlisted by the user via `torch.serialization.add_safe_globals`. We recommend you start setting `weights_only=True` for any use case where you don't have full control of the loaded file. Please open an issue on GitHub for any issues related to this experimental feature.\n"
     ]
    },
    {
     "name": "stdout",
     "output_type": "stream",
     "text": [
      "  Forecast median = 34.53, Actual = 37.56\n",
      "\n",
      "Step 12 / 25\n",
      "  Context indices = [8196, 8674]\n",
      "  Forecast index  = 8674\n",
      "  Context date range = 2017-06-07 12:00:00 to 2017-06-27 10:00:00\n",
      "  Forecast date       = 2017-06-27 11:00:00\n",
      "478\n",
      "2017-06-07 12:00:00\n"
     ]
    },
    {
     "name": "stderr",
     "output_type": "stream",
     "text": [
      "/var/folders/x3/lq5xm_7n0p34sd9k354_nyjh0000gn/T/ipykernel_4416/3702767029.py:17: FutureWarning: You are using `torch.load` with `weights_only=False` (the current default value), which uses the default pickle module implicitly. It is possible to construct malicious pickle data which will execute arbitrary code during unpickling (See https://github.com/pytorch/pytorch/blob/main/SECURITY.md#untrusted-models for more details). In a future release, the default value for `weights_only` will be flipped to `True`. This limits the functions that could be executed during unpickling. Arbitrary objects will no longer be allowed to be loaded via this mode unless they are explicitly allowlisted by the user via `torch.serialization.add_safe_globals`. We recommend you start setting `weights_only=True` for any use case where you don't have full control of the loaded file. Please open an issue on GitHub for any issues related to this experimental feature.\n",
      "  ckpt = torch.load(\"weights/lag-llama.ckpt\", map_location=torch.device(\"mps\" if torch.mps.is_available() else \"cpu\"))\n",
      "/Users/anthonybolton/Developer/FYP/ts-fm-benchmark-financial/lag_llama_venv/lib/python3.12/site-packages/lightning/fabric/utilities/cloud_io.py:56: You are using `torch.load` with `weights_only=False` (the current default value), which uses the default pickle module implicitly. It is possible to construct malicious pickle data which will execute arbitrary code during unpickling (See https://github.com/pytorch/pytorch/blob/main/SECURITY.md#untrusted-models for more details). In a future release, the default value for `weights_only` will be flipped to `True`. This limits the functions that could be executed during unpickling. Arbitrary objects will no longer be allowed to be loaded via this mode unless they are explicitly allowlisted by the user via `torch.serialization.add_safe_globals`. We recommend you start setting `weights_only=True` for any use case where you don't have full control of the loaded file. Please open an issue on GitHub for any issues related to this experimental feature.\n"
     ]
    },
    {
     "name": "stdout",
     "output_type": "stream",
     "text": [
      "  Forecast median = 35.45, Actual = 40.86\n",
      "\n",
      "Step 13 / 25\n",
      "  Context indices = [8197, 8675]\n",
      "  Forecast index  = 8675\n",
      "  Context date range = 2017-06-07 13:00:00 to 2017-06-27 11:00:00\n",
      "  Forecast date       = 2017-06-27 12:00:00\n",
      "478\n",
      "2017-06-07 13:00:00\n"
     ]
    },
    {
     "name": "stderr",
     "output_type": "stream",
     "text": [
      "/var/folders/x3/lq5xm_7n0p34sd9k354_nyjh0000gn/T/ipykernel_4416/3702767029.py:17: FutureWarning: You are using `torch.load` with `weights_only=False` (the current default value), which uses the default pickle module implicitly. It is possible to construct malicious pickle data which will execute arbitrary code during unpickling (See https://github.com/pytorch/pytorch/blob/main/SECURITY.md#untrusted-models for more details). In a future release, the default value for `weights_only` will be flipped to `True`. This limits the functions that could be executed during unpickling. Arbitrary objects will no longer be allowed to be loaded via this mode unless they are explicitly allowlisted by the user via `torch.serialization.add_safe_globals`. We recommend you start setting `weights_only=True` for any use case where you don't have full control of the loaded file. Please open an issue on GitHub for any issues related to this experimental feature.\n",
      "  ckpt = torch.load(\"weights/lag-llama.ckpt\", map_location=torch.device(\"mps\" if torch.mps.is_available() else \"cpu\"))\n",
      "/Users/anthonybolton/Developer/FYP/ts-fm-benchmark-financial/lag_llama_venv/lib/python3.12/site-packages/lightning/fabric/utilities/cloud_io.py:56: You are using `torch.load` with `weights_only=False` (the current default value), which uses the default pickle module implicitly. It is possible to construct malicious pickle data which will execute arbitrary code during unpickling (See https://github.com/pytorch/pytorch/blob/main/SECURITY.md#untrusted-models for more details). In a future release, the default value for `weights_only` will be flipped to `True`. This limits the functions that could be executed during unpickling. Arbitrary objects will no longer be allowed to be loaded via this mode unless they are explicitly allowlisted by the user via `torch.serialization.add_safe_globals`. We recommend you start setting `weights_only=True` for any use case where you don't have full control of the loaded file. Please open an issue on GitHub for any issues related to this experimental feature.\n"
     ]
    },
    {
     "name": "stdout",
     "output_type": "stream",
     "text": [
      "  Forecast median = 37.19, Actual = 42.40\n",
      "\n",
      "Step 14 / 25\n",
      "  Context indices = [8198, 8676]\n",
      "  Forecast index  = 8676\n",
      "  Context date range = 2017-06-07 14:00:00 to 2017-06-27 12:00:00\n",
      "  Forecast date       = 2017-06-27 13:00:00\n",
      "478\n",
      "2017-06-07 14:00:00\n"
     ]
    },
    {
     "name": "stderr",
     "output_type": "stream",
     "text": [
      "/var/folders/x3/lq5xm_7n0p34sd9k354_nyjh0000gn/T/ipykernel_4416/3702767029.py:17: FutureWarning: You are using `torch.load` with `weights_only=False` (the current default value), which uses the default pickle module implicitly. It is possible to construct malicious pickle data which will execute arbitrary code during unpickling (See https://github.com/pytorch/pytorch/blob/main/SECURITY.md#untrusted-models for more details). In a future release, the default value for `weights_only` will be flipped to `True`. This limits the functions that could be executed during unpickling. Arbitrary objects will no longer be allowed to be loaded via this mode unless they are explicitly allowlisted by the user via `torch.serialization.add_safe_globals`. We recommend you start setting `weights_only=True` for any use case where you don't have full control of the loaded file. Please open an issue on GitHub for any issues related to this experimental feature.\n",
      "  ckpt = torch.load(\"weights/lag-llama.ckpt\", map_location=torch.device(\"mps\" if torch.mps.is_available() else \"cpu\"))\n",
      "/Users/anthonybolton/Developer/FYP/ts-fm-benchmark-financial/lag_llama_venv/lib/python3.12/site-packages/lightning/fabric/utilities/cloud_io.py:56: You are using `torch.load` with `weights_only=False` (the current default value), which uses the default pickle module implicitly. It is possible to construct malicious pickle data which will execute arbitrary code during unpickling (See https://github.com/pytorch/pytorch/blob/main/SECURITY.md#untrusted-models for more details). In a future release, the default value for `weights_only` will be flipped to `True`. This limits the functions that could be executed during unpickling. Arbitrary objects will no longer be allowed to be loaded via this mode unless they are explicitly allowlisted by the user via `torch.serialization.add_safe_globals`. We recommend you start setting `weights_only=True` for any use case where you don't have full control of the loaded file. Please open an issue on GitHub for any issues related to this experimental feature.\n"
     ]
    },
    {
     "name": "stdout",
     "output_type": "stream",
     "text": [
      "  Forecast median = 40.14, Actual = 44.59\n",
      "\n",
      "Step 15 / 25\n",
      "  Context indices = [8199, 8677]\n",
      "  Forecast index  = 8677\n",
      "  Context date range = 2017-06-07 15:00:00 to 2017-06-27 13:00:00\n",
      "  Forecast date       = 2017-06-27 14:00:00\n",
      "478\n",
      "2017-06-07 15:00:00\n"
     ]
    },
    {
     "name": "stderr",
     "output_type": "stream",
     "text": [
      "/var/folders/x3/lq5xm_7n0p34sd9k354_nyjh0000gn/T/ipykernel_4416/3702767029.py:17: FutureWarning: You are using `torch.load` with `weights_only=False` (the current default value), which uses the default pickle module implicitly. It is possible to construct malicious pickle data which will execute arbitrary code during unpickling (See https://github.com/pytorch/pytorch/blob/main/SECURITY.md#untrusted-models for more details). In a future release, the default value for `weights_only` will be flipped to `True`. This limits the functions that could be executed during unpickling. Arbitrary objects will no longer be allowed to be loaded via this mode unless they are explicitly allowlisted by the user via `torch.serialization.add_safe_globals`. We recommend you start setting `weights_only=True` for any use case where you don't have full control of the loaded file. Please open an issue on GitHub for any issues related to this experimental feature.\n",
      "  ckpt = torch.load(\"weights/lag-llama.ckpt\", map_location=torch.device(\"mps\" if torch.mps.is_available() else \"cpu\"))\n",
      "/Users/anthonybolton/Developer/FYP/ts-fm-benchmark-financial/lag_llama_venv/lib/python3.12/site-packages/lightning/fabric/utilities/cloud_io.py:56: You are using `torch.load` with `weights_only=False` (the current default value), which uses the default pickle module implicitly. It is possible to construct malicious pickle data which will execute arbitrary code during unpickling (See https://github.com/pytorch/pytorch/blob/main/SECURITY.md#untrusted-models for more details). In a future release, the default value for `weights_only` will be flipped to `True`. This limits the functions that could be executed during unpickling. Arbitrary objects will no longer be allowed to be loaded via this mode unless they are explicitly allowlisted by the user via `torch.serialization.add_safe_globals`. We recommend you start setting `weights_only=True` for any use case where you don't have full control of the loaded file. Please open an issue on GitHub for any issues related to this experimental feature.\n"
     ]
    },
    {
     "name": "stdout",
     "output_type": "stream",
     "text": [
      "  Forecast median = 41.63, Actual = 45.69\n",
      "\n",
      "Step 16 / 25\n",
      "  Context indices = [8200, 8678]\n",
      "  Forecast index  = 8678\n",
      "  Context date range = 2017-06-07 16:00:00 to 2017-06-27 14:00:00\n",
      "  Forecast date       = 2017-06-27 15:00:00\n",
      "478\n",
      "2017-06-07 16:00:00\n"
     ]
    },
    {
     "name": "stderr",
     "output_type": "stream",
     "text": [
      "/var/folders/x3/lq5xm_7n0p34sd9k354_nyjh0000gn/T/ipykernel_4416/3702767029.py:17: FutureWarning: You are using `torch.load` with `weights_only=False` (the current default value), which uses the default pickle module implicitly. It is possible to construct malicious pickle data which will execute arbitrary code during unpickling (See https://github.com/pytorch/pytorch/blob/main/SECURITY.md#untrusted-models for more details). In a future release, the default value for `weights_only` will be flipped to `True`. This limits the functions that could be executed during unpickling. Arbitrary objects will no longer be allowed to be loaded via this mode unless they are explicitly allowlisted by the user via `torch.serialization.add_safe_globals`. We recommend you start setting `weights_only=True` for any use case where you don't have full control of the loaded file. Please open an issue on GitHub for any issues related to this experimental feature.\n",
      "  ckpt = torch.load(\"weights/lag-llama.ckpt\", map_location=torch.device(\"mps\" if torch.mps.is_available() else \"cpu\"))\n",
      "/Users/anthonybolton/Developer/FYP/ts-fm-benchmark-financial/lag_llama_venv/lib/python3.12/site-packages/lightning/fabric/utilities/cloud_io.py:56: You are using `torch.load` with `weights_only=False` (the current default value), which uses the default pickle module implicitly. It is possible to construct malicious pickle data which will execute arbitrary code during unpickling (See https://github.com/pytorch/pytorch/blob/main/SECURITY.md#untrusted-models for more details). In a future release, the default value for `weights_only` will be flipped to `True`. This limits the functions that could be executed during unpickling. Arbitrary objects will no longer be allowed to be loaded via this mode unless they are explicitly allowlisted by the user via `torch.serialization.add_safe_globals`. We recommend you start setting `weights_only=True` for any use case where you don't have full control of the loaded file. Please open an issue on GitHub for any issues related to this experimental feature.\n"
     ]
    },
    {
     "name": "stdout",
     "output_type": "stream",
     "text": [
      "  Forecast median = 44.83, Actual = 46.79\n",
      "\n",
      "Step 17 / 25\n",
      "  Context indices = [8201, 8679]\n",
      "  Forecast index  = 8679\n",
      "  Context date range = 2017-06-07 17:00:00 to 2017-06-27 15:00:00\n",
      "  Forecast date       = 2017-06-27 16:00:00\n",
      "478\n",
      "2017-06-07 17:00:00\n"
     ]
    },
    {
     "name": "stderr",
     "output_type": "stream",
     "text": [
      "/var/folders/x3/lq5xm_7n0p34sd9k354_nyjh0000gn/T/ipykernel_4416/3702767029.py:17: FutureWarning: You are using `torch.load` with `weights_only=False` (the current default value), which uses the default pickle module implicitly. It is possible to construct malicious pickle data which will execute arbitrary code during unpickling (See https://github.com/pytorch/pytorch/blob/main/SECURITY.md#untrusted-models for more details). In a future release, the default value for `weights_only` will be flipped to `True`. This limits the functions that could be executed during unpickling. Arbitrary objects will no longer be allowed to be loaded via this mode unless they are explicitly allowlisted by the user via `torch.serialization.add_safe_globals`. We recommend you start setting `weights_only=True` for any use case where you don't have full control of the loaded file. Please open an issue on GitHub for any issues related to this experimental feature.\n",
      "  ckpt = torch.load(\"weights/lag-llama.ckpt\", map_location=torch.device(\"mps\" if torch.mps.is_available() else \"cpu\"))\n",
      "/Users/anthonybolton/Developer/FYP/ts-fm-benchmark-financial/lag_llama_venv/lib/python3.12/site-packages/lightning/fabric/utilities/cloud_io.py:56: You are using `torch.load` with `weights_only=False` (the current default value), which uses the default pickle module implicitly. It is possible to construct malicious pickle data which will execute arbitrary code during unpickling (See https://github.com/pytorch/pytorch/blob/main/SECURITY.md#untrusted-models for more details). In a future release, the default value for `weights_only` will be flipped to `True`. This limits the functions that could be executed during unpickling. Arbitrary objects will no longer be allowed to be loaded via this mode unless they are explicitly allowlisted by the user via `torch.serialization.add_safe_globals`. We recommend you start setting `weights_only=True` for any use case where you don't have full control of the loaded file. Please open an issue on GitHub for any issues related to this experimental feature.\n"
     ]
    },
    {
     "name": "stdout",
     "output_type": "stream",
     "text": [
      "  Forecast median = 45.85, Actual = 45.47\n",
      "\n",
      "Step 18 / 25\n",
      "  Context indices = [8202, 8680]\n",
      "  Forecast index  = 8680\n",
      "  Context date range = 2017-06-07 18:00:00 to 2017-06-27 16:00:00\n",
      "  Forecast date       = 2017-06-27 17:00:00\n",
      "478\n",
      "2017-06-07 18:00:00\n"
     ]
    },
    {
     "name": "stderr",
     "output_type": "stream",
     "text": [
      "/var/folders/x3/lq5xm_7n0p34sd9k354_nyjh0000gn/T/ipykernel_4416/3702767029.py:17: FutureWarning: You are using `torch.load` with `weights_only=False` (the current default value), which uses the default pickle module implicitly. It is possible to construct malicious pickle data which will execute arbitrary code during unpickling (See https://github.com/pytorch/pytorch/blob/main/SECURITY.md#untrusted-models for more details). In a future release, the default value for `weights_only` will be flipped to `True`. This limits the functions that could be executed during unpickling. Arbitrary objects will no longer be allowed to be loaded via this mode unless they are explicitly allowlisted by the user via `torch.serialization.add_safe_globals`. We recommend you start setting `weights_only=True` for any use case where you don't have full control of the loaded file. Please open an issue on GitHub for any issues related to this experimental feature.\n",
      "  ckpt = torch.load(\"weights/lag-llama.ckpt\", map_location=torch.device(\"mps\" if torch.mps.is_available() else \"cpu\"))\n",
      "/Users/anthonybolton/Developer/FYP/ts-fm-benchmark-financial/lag_llama_venv/lib/python3.12/site-packages/lightning/fabric/utilities/cloud_io.py:56: You are using `torch.load` with `weights_only=False` (the current default value), which uses the default pickle module implicitly. It is possible to construct malicious pickle data which will execute arbitrary code during unpickling (See https://github.com/pytorch/pytorch/blob/main/SECURITY.md#untrusted-models for more details). In a future release, the default value for `weights_only` will be flipped to `True`. This limits the functions that could be executed during unpickling. Arbitrary objects will no longer be allowed to be loaded via this mode unless they are explicitly allowlisted by the user via `torch.serialization.add_safe_globals`. We recommend you start setting `weights_only=True` for any use case where you don't have full control of the loaded file. Please open an issue on GitHub for any issues related to this experimental feature.\n"
     ]
    },
    {
     "name": "stdout",
     "output_type": "stream",
     "text": [
      "  Forecast median = 46.66, Actual = 42.84\n",
      "\n",
      "Step 19 / 25\n",
      "  Context indices = [8203, 8681]\n",
      "  Forecast index  = 8681\n",
      "  Context date range = 2017-06-07 19:00:00 to 2017-06-27 17:00:00\n",
      "  Forecast date       = 2017-06-27 18:00:00\n",
      "478\n",
      "2017-06-07 19:00:00\n"
     ]
    },
    {
     "name": "stderr",
     "output_type": "stream",
     "text": [
      "/var/folders/x3/lq5xm_7n0p34sd9k354_nyjh0000gn/T/ipykernel_4416/3702767029.py:17: FutureWarning: You are using `torch.load` with `weights_only=False` (the current default value), which uses the default pickle module implicitly. It is possible to construct malicious pickle data which will execute arbitrary code during unpickling (See https://github.com/pytorch/pytorch/blob/main/SECURITY.md#untrusted-models for more details). In a future release, the default value for `weights_only` will be flipped to `True`. This limits the functions that could be executed during unpickling. Arbitrary objects will no longer be allowed to be loaded via this mode unless they are explicitly allowlisted by the user via `torch.serialization.add_safe_globals`. We recommend you start setting `weights_only=True` for any use case where you don't have full control of the loaded file. Please open an issue on GitHub for any issues related to this experimental feature.\n",
      "  ckpt = torch.load(\"weights/lag-llama.ckpt\", map_location=torch.device(\"mps\" if torch.mps.is_available() else \"cpu\"))\n",
      "/Users/anthonybolton/Developer/FYP/ts-fm-benchmark-financial/lag_llama_venv/lib/python3.12/site-packages/lightning/fabric/utilities/cloud_io.py:56: You are using `torch.load` with `weights_only=False` (the current default value), which uses the default pickle module implicitly. It is possible to construct malicious pickle data which will execute arbitrary code during unpickling (See https://github.com/pytorch/pytorch/blob/main/SECURITY.md#untrusted-models for more details). In a future release, the default value for `weights_only` will be flipped to `True`. This limits the functions that could be executed during unpickling. Arbitrary objects will no longer be allowed to be loaded via this mode unless they are explicitly allowlisted by the user via `torch.serialization.add_safe_globals`. We recommend you start setting `weights_only=True` for any use case where you don't have full control of the loaded file. Please open an issue on GitHub for any issues related to this experimental feature.\n"
     ]
    },
    {
     "name": "stdout",
     "output_type": "stream",
     "text": [
      "  Forecast median = 44.36, Actual = 41.96\n",
      "\n",
      "Step 20 / 25\n",
      "  Context indices = [8204, 8682]\n",
      "  Forecast index  = 8682\n",
      "  Context date range = 2017-06-07 20:00:00 to 2017-06-27 18:00:00\n",
      "  Forecast date       = 2017-06-27 19:00:00\n",
      "478\n",
      "2017-06-07 20:00:00\n"
     ]
    },
    {
     "name": "stderr",
     "output_type": "stream",
     "text": [
      "/var/folders/x3/lq5xm_7n0p34sd9k354_nyjh0000gn/T/ipykernel_4416/3702767029.py:17: FutureWarning: You are using `torch.load` with `weights_only=False` (the current default value), which uses the default pickle module implicitly. It is possible to construct malicious pickle data which will execute arbitrary code during unpickling (See https://github.com/pytorch/pytorch/blob/main/SECURITY.md#untrusted-models for more details). In a future release, the default value for `weights_only` will be flipped to `True`. This limits the functions that could be executed during unpickling. Arbitrary objects will no longer be allowed to be loaded via this mode unless they are explicitly allowlisted by the user via `torch.serialization.add_safe_globals`. We recommend you start setting `weights_only=True` for any use case where you don't have full control of the loaded file. Please open an issue on GitHub for any issues related to this experimental feature.\n",
      "  ckpt = torch.load(\"weights/lag-llama.ckpt\", map_location=torch.device(\"mps\" if torch.mps.is_available() else \"cpu\"))\n",
      "/Users/anthonybolton/Developer/FYP/ts-fm-benchmark-financial/lag_llama_venv/lib/python3.12/site-packages/lightning/fabric/utilities/cloud_io.py:56: You are using `torch.load` with `weights_only=False` (the current default value), which uses the default pickle module implicitly. It is possible to construct malicious pickle data which will execute arbitrary code during unpickling (See https://github.com/pytorch/pytorch/blob/main/SECURITY.md#untrusted-models for more details). In a future release, the default value for `weights_only` will be flipped to `True`. This limits the functions that could be executed during unpickling. Arbitrary objects will no longer be allowed to be loaded via this mode unless they are explicitly allowlisted by the user via `torch.serialization.add_safe_globals`. We recommend you start setting `weights_only=True` for any use case where you don't have full control of the loaded file. Please open an issue on GitHub for any issues related to this experimental feature.\n"
     ]
    },
    {
     "name": "stdout",
     "output_type": "stream",
     "text": [
      "  Forecast median = 40.78, Actual = 40.86\n",
      "\n",
      "Step 21 / 25\n",
      "  Context indices = [8205, 8683]\n",
      "  Forecast index  = 8683\n",
      "  Context date range = 2017-06-07 21:00:00 to 2017-06-27 19:00:00\n",
      "  Forecast date       = 2017-06-27 20:00:00\n",
      "478\n",
      "2017-06-07 21:00:00\n"
     ]
    },
    {
     "name": "stderr",
     "output_type": "stream",
     "text": [
      "/var/folders/x3/lq5xm_7n0p34sd9k354_nyjh0000gn/T/ipykernel_4416/3702767029.py:17: FutureWarning: You are using `torch.load` with `weights_only=False` (the current default value), which uses the default pickle module implicitly. It is possible to construct malicious pickle data which will execute arbitrary code during unpickling (See https://github.com/pytorch/pytorch/blob/main/SECURITY.md#untrusted-models for more details). In a future release, the default value for `weights_only` will be flipped to `True`. This limits the functions that could be executed during unpickling. Arbitrary objects will no longer be allowed to be loaded via this mode unless they are explicitly allowlisted by the user via `torch.serialization.add_safe_globals`. We recommend you start setting `weights_only=True` for any use case where you don't have full control of the loaded file. Please open an issue on GitHub for any issues related to this experimental feature.\n",
      "  ckpt = torch.load(\"weights/lag-llama.ckpt\", map_location=torch.device(\"mps\" if torch.mps.is_available() else \"cpu\"))\n",
      "/Users/anthonybolton/Developer/FYP/ts-fm-benchmark-financial/lag_llama_venv/lib/python3.12/site-packages/lightning/fabric/utilities/cloud_io.py:56: You are using `torch.load` with `weights_only=False` (the current default value), which uses the default pickle module implicitly. It is possible to construct malicious pickle data which will execute arbitrary code during unpickling (See https://github.com/pytorch/pytorch/blob/main/SECURITY.md#untrusted-models for more details). In a future release, the default value for `weights_only` will be flipped to `True`. This limits the functions that could be executed during unpickling. Arbitrary objects will no longer be allowed to be loaded via this mode unless they are explicitly allowlisted by the user via `torch.serialization.add_safe_globals`. We recommend you start setting `weights_only=True` for any use case where you don't have full control of the loaded file. Please open an issue on GitHub for any issues related to this experimental feature.\n"
     ]
    },
    {
     "name": "stdout",
     "output_type": "stream",
     "text": [
      "  Forecast median = 40.48, Actual = 39.98\n",
      "\n",
      "Step 22 / 25\n",
      "  Context indices = [8206, 8684]\n",
      "  Forecast index  = 8684\n",
      "  Context date range = 2017-06-07 22:00:00 to 2017-06-27 20:00:00\n",
      "  Forecast date       = 2017-06-27 21:00:00\n",
      "478\n",
      "2017-06-07 22:00:00\n"
     ]
    },
    {
     "name": "stderr",
     "output_type": "stream",
     "text": [
      "/var/folders/x3/lq5xm_7n0p34sd9k354_nyjh0000gn/T/ipykernel_4416/3702767029.py:17: FutureWarning: You are using `torch.load` with `weights_only=False` (the current default value), which uses the default pickle module implicitly. It is possible to construct malicious pickle data which will execute arbitrary code during unpickling (See https://github.com/pytorch/pytorch/blob/main/SECURITY.md#untrusted-models for more details). In a future release, the default value for `weights_only` will be flipped to `True`. This limits the functions that could be executed during unpickling. Arbitrary objects will no longer be allowed to be loaded via this mode unless they are explicitly allowlisted by the user via `torch.serialization.add_safe_globals`. We recommend you start setting `weights_only=True` for any use case where you don't have full control of the loaded file. Please open an issue on GitHub for any issues related to this experimental feature.\n",
      "  ckpt = torch.load(\"weights/lag-llama.ckpt\", map_location=torch.device(\"mps\" if torch.mps.is_available() else \"cpu\"))\n",
      "/Users/anthonybolton/Developer/FYP/ts-fm-benchmark-financial/lag_llama_venv/lib/python3.12/site-packages/lightning/fabric/utilities/cloud_io.py:56: You are using `torch.load` with `weights_only=False` (the current default value), which uses the default pickle module implicitly. It is possible to construct malicious pickle data which will execute arbitrary code during unpickling (See https://github.com/pytorch/pytorch/blob/main/SECURITY.md#untrusted-models for more details). In a future release, the default value for `weights_only` will be flipped to `True`. This limits the functions that could be executed during unpickling. Arbitrary objects will no longer be allowed to be loaded via this mode unless they are explicitly allowlisted by the user via `torch.serialization.add_safe_globals`. We recommend you start setting `weights_only=True` for any use case where you don't have full control of the loaded file. Please open an issue on GitHub for any issues related to this experimental feature.\n"
     ]
    },
    {
     "name": "stdout",
     "output_type": "stream",
     "text": [
      "  Forecast median = 39.61, Actual = 38.66\n",
      "\n",
      "Step 23 / 25\n",
      "  Context indices = [8207, 8685]\n",
      "  Forecast index  = 8685\n",
      "  Context date range = 2017-06-07 23:00:00 to 2017-06-27 21:00:00\n",
      "  Forecast date       = 2017-06-27 22:00:00\n",
      "478\n",
      "2017-06-07 23:00:00\n"
     ]
    },
    {
     "name": "stderr",
     "output_type": "stream",
     "text": [
      "/var/folders/x3/lq5xm_7n0p34sd9k354_nyjh0000gn/T/ipykernel_4416/3702767029.py:17: FutureWarning: You are using `torch.load` with `weights_only=False` (the current default value), which uses the default pickle module implicitly. It is possible to construct malicious pickle data which will execute arbitrary code during unpickling (See https://github.com/pytorch/pytorch/blob/main/SECURITY.md#untrusted-models for more details). In a future release, the default value for `weights_only` will be flipped to `True`. This limits the functions that could be executed during unpickling. Arbitrary objects will no longer be allowed to be loaded via this mode unless they are explicitly allowlisted by the user via `torch.serialization.add_safe_globals`. We recommend you start setting `weights_only=True` for any use case where you don't have full control of the loaded file. Please open an issue on GitHub for any issues related to this experimental feature.\n",
      "  ckpt = torch.load(\"weights/lag-llama.ckpt\", map_location=torch.device(\"mps\" if torch.mps.is_available() else \"cpu\"))\n",
      "/Users/anthonybolton/Developer/FYP/ts-fm-benchmark-financial/lag_llama_venv/lib/python3.12/site-packages/lightning/fabric/utilities/cloud_io.py:56: You are using `torch.load` with `weights_only=False` (the current default value), which uses the default pickle module implicitly. It is possible to construct malicious pickle data which will execute arbitrary code during unpickling (See https://github.com/pytorch/pytorch/blob/main/SECURITY.md#untrusted-models for more details). In a future release, the default value for `weights_only` will be flipped to `True`. This limits the functions that could be executed during unpickling. Arbitrary objects will no longer be allowed to be loaded via this mode unless they are explicitly allowlisted by the user via `torch.serialization.add_safe_globals`. We recommend you start setting `weights_only=True` for any use case where you don't have full control of the loaded file. Please open an issue on GitHub for any issues related to this experimental feature.\n"
     ]
    },
    {
     "name": "stdout",
     "output_type": "stream",
     "text": [
      "  Forecast median = 38.82, Actual = 37.78\n",
      "\n",
      "Step 24 / 25\n",
      "  Context indices = [8208, 8686]\n",
      "  Forecast index  = 8686\n",
      "  Context date range = 2017-06-08 00:00:00 to 2017-06-27 22:00:00\n",
      "  Forecast date       = 2017-06-27 23:00:00\n",
      "478\n",
      "2017-06-08 00:00:00\n"
     ]
    },
    {
     "name": "stderr",
     "output_type": "stream",
     "text": [
      "/var/folders/x3/lq5xm_7n0p34sd9k354_nyjh0000gn/T/ipykernel_4416/3702767029.py:17: FutureWarning: You are using `torch.load` with `weights_only=False` (the current default value), which uses the default pickle module implicitly. It is possible to construct malicious pickle data which will execute arbitrary code during unpickling (See https://github.com/pytorch/pytorch/blob/main/SECURITY.md#untrusted-models for more details). In a future release, the default value for `weights_only` will be flipped to `True`. This limits the functions that could be executed during unpickling. Arbitrary objects will no longer be allowed to be loaded via this mode unless they are explicitly allowlisted by the user via `torch.serialization.add_safe_globals`. We recommend you start setting `weights_only=True` for any use case where you don't have full control of the loaded file. Please open an issue on GitHub for any issues related to this experimental feature.\n",
      "  ckpt = torch.load(\"weights/lag-llama.ckpt\", map_location=torch.device(\"mps\" if torch.mps.is_available() else \"cpu\"))\n",
      "/Users/anthonybolton/Developer/FYP/ts-fm-benchmark-financial/lag_llama_venv/lib/python3.12/site-packages/lightning/fabric/utilities/cloud_io.py:56: You are using `torch.load` with `weights_only=False` (the current default value), which uses the default pickle module implicitly. It is possible to construct malicious pickle data which will execute arbitrary code during unpickling (See https://github.com/pytorch/pytorch/blob/main/SECURITY.md#untrusted-models for more details). In a future release, the default value for `weights_only` will be flipped to `True`. This limits the functions that could be executed during unpickling. Arbitrary objects will no longer be allowed to be loaded via this mode unless they are explicitly allowlisted by the user via `torch.serialization.add_safe_globals`. We recommend you start setting `weights_only=True` for any use case where you don't have full control of the loaded file. Please open an issue on GitHub for any issues related to this experimental feature.\n"
     ]
    },
    {
     "name": "stdout",
     "output_type": "stream",
     "text": [
      "  Forecast median = 38.00, Actual = 37.12\n",
      "\n",
      "Step 25 / 25\n",
      "  Context indices = [8209, 8687]\n",
      "  Forecast index  = 8687\n",
      "  Context date range = 2017-06-08 01:00:00 to 2017-06-27 23:00:00\n",
      "  Forecast date       = 2017-06-28 00:00:00\n",
      "478\n",
      "2017-06-08 01:00:00\n"
     ]
    },
    {
     "name": "stderr",
     "output_type": "stream",
     "text": [
      "/var/folders/x3/lq5xm_7n0p34sd9k354_nyjh0000gn/T/ipykernel_4416/3702767029.py:17: FutureWarning: You are using `torch.load` with `weights_only=False` (the current default value), which uses the default pickle module implicitly. It is possible to construct malicious pickle data which will execute arbitrary code during unpickling (See https://github.com/pytorch/pytorch/blob/main/SECURITY.md#untrusted-models for more details). In a future release, the default value for `weights_only` will be flipped to `True`. This limits the functions that could be executed during unpickling. Arbitrary objects will no longer be allowed to be loaded via this mode unless they are explicitly allowlisted by the user via `torch.serialization.add_safe_globals`. We recommend you start setting `weights_only=True` for any use case where you don't have full control of the loaded file. Please open an issue on GitHub for any issues related to this experimental feature.\n",
      "  ckpt = torch.load(\"weights/lag-llama.ckpt\", map_location=torch.device(\"mps\" if torch.mps.is_available() else \"cpu\"))\n",
      "/Users/anthonybolton/Developer/FYP/ts-fm-benchmark-financial/lag_llama_venv/lib/python3.12/site-packages/lightning/fabric/utilities/cloud_io.py:56: You are using `torch.load` with `weights_only=False` (the current default value), which uses the default pickle module implicitly. It is possible to construct malicious pickle data which will execute arbitrary code during unpickling (See https://github.com/pytorch/pytorch/blob/main/SECURITY.md#untrusted-models for more details). In a future release, the default value for `weights_only` will be flipped to `True`. This limits the functions that could be executed during unpickling. Arbitrary objects will no longer be allowed to be loaded via this mode unless they are explicitly allowlisted by the user via `torch.serialization.add_safe_globals`. We recommend you start setting `weights_only=True` for any use case where you don't have full control of the loaded file. Please open an issue on GitHub for any issues related to this experimental feature.\n"
     ]
    },
    {
     "name": "stdout",
     "output_type": "stream",
     "text": [
      "  Forecast median = 37.42, Actual = 36.90\n",
      "\n",
      "Sliding Window Forecast Metrics:\n",
      "MAE: 0.9108\n",
      "MSE: 1.6659\n",
      "RMSE: 1.2907\n",
      "MAPE: 2.2612\n",
      "SMAPE: 2.3001\n",
      "MASE: N/A\n"
     ]
    },
    {
     "data": {
      "image/png": "[encoded data removed]",
      "text/plain": [
       "<Figure size 1000x600 with 1 Axes>"
      ]
     },
     "metadata": {},
     "output_type": "display_data"
    }
   ],
   "source": [
    "import pandas as pd\n",
    "import numpy as np\n",
    "import matplotlib.pyplot as plt\n",
    "import torch\n",
    "from gluonts.dataset.common import ListDataset\n",
    "from gluonts.evaluation import make_evaluation_predictions\n",
    "from lag_llama.gluon.estimator import LagLlamaEstimator\n",
    "\n",
    "from utils_snp.metrics import calculate_metrics\n",
    "\n",
    "# $32$, $64$, $128$, $256$, $512$, $1024$\n",
    "# 480, 1120, 1152, 1536, 1664， 1600\n",
    "CONTEXT_WINDOW = 478\n",
    "FORECAST_STEPS = 25 # Number of one-step forecasts to make\n",
    "\n",
    "def get_lag_llama_predictions(dataset, prediction_length, context_length=32, use_rope_scaling=False, num_samples=100):\n",
    "    ckpt = torch.load(\"weights/lag-llama.ckpt\", map_location=torch.device(\"mps\" if torch.mps.is_available() else \"cpu\"))\n",
    "    estimator_args = ckpt[\"hyper_parameters\"][\"model_kwargs\"]\n",
    "    \n",
    "    rope_scaling_arguments = {\n",
    "        \"type\": \"linear\",\n",
    "        \"factor\": max(1.0, (context_length + prediction_length) / estimator_args[\"context_length\"]),\n",
    "    }\n",
    "    \n",
    "    estimator = LagLlamaEstimator(\n",
    "        ckpt_path=\"weights/lag-llama.ckpt\",\n",
    "        prediction_length=prediction_length,\n",
    "        context_length=context_length,\n",
    "        input_size=estimator_args[\"input_size\"],\n",
    "        n_layer=estimator_args[\"n_layer\"],\n",
    "        n_embd_per_head=estimator_args[\"n_embd_per_head\"],\n",
    "        n_head=estimator_args[\"n_head\"],\n",
    "        scaling=estimator_args[\"scaling\"],\n",
    "        time_feat=estimator_args[\"time_feat\"],\n",
    "        rope_scaling=rope_scaling_arguments if use_rope_scaling else None,\n",
    "        device=torch.device(\"mps\" if torch.mps.is_available() else \"cpu\")\n",
    "    )\n",
    "    \n",
    "    lightning_module = estimator.create_lightning_module()\n",
    "    transformation = estimator.create_transformation()\n",
    "    predictor = estimator.create_predictor(transformation, lightning_module)\n",
    "    \n",
    "    forecast_it, ts_it = make_evaluation_predictions(\n",
    "        dataset=dataset,\n",
    "        predictor=predictor,\n",
    "        num_samples=num_samples\n",
    "    )\n",
    "    forecasts = list(forecast_it)\n",
    "    tss = list(ts_it)\n",
    "    \n",
    "    return forecasts, tss\n",
    "\n",
    "def generate_single_forecast(context_data, start_date):\n",
    "    \"\"\"Generate a single one-step forecast\"\"\"\n",
    "    # Ensure context_data is 1D\n",
    "    context_data = np.asarray(context_data).flatten()\n",
    "    \n",
    "    # Create ListDataset for the current context window\n",
    "    dataset = ListDataset(\n",
    "        [{\"start\": start_date, \"target\": context_data}],\n",
    "        freq=\"1h\"\n",
    "    )\n",
    "    \n",
    "    # Generate forecast\n",
    "    forecasts, _ = get_lag_llama_predictions(\n",
    "        dataset=dataset,\n",
    "        prediction_length=1,  # One-step forecast\n",
    "        context_length=CONTEXT_WINDOW,\n",
    "        use_rope_scaling=True,\n",
    "        num_samples=100\n",
    "    )\n",
    "    \n",
    "    forecast_samples = forecasts[0].samples\n",
    "    \n",
    "    # Extract quantilesss\n",
    "    low, median, high = np.percentile(forecast_samples, [10, 50, 90], axis=0)\n",
    "    return low[0], median[0], high[0]  # Return single values instead of arrays\n",
    "\n",
    "def generate_sliding_window_forecasts(data, start_idx):\n",
    "    \"\"\"Generate forecasts using sliding window approach with corrected date alignment\"\"\"\n",
    "    print(f\"\\nForecast Setup Details:\")\n",
    "    print(f\"Total data length: {len(data)}\")\n",
    "    print(f\"Start index (last point in context window): {start_idx}\")\n",
    "    print(f\"Context window size: {CONTEXT_WINDOW}\")\n",
    "    \n",
    "    all_forecasts = {\n",
    "        'median': [],\n",
    "        'low': [],\n",
    "        'high': [],\n",
    "        'dates': []\n",
    "    }\n",
    "    \n",
    "    for i in range(FORECAST_STEPS):\n",
    "        current_idx = start_idx + i\n",
    "        context_start = current_idx - CONTEXT_WINDOW\n",
    "        context_end = current_idx\n",
    "\n",
    "        print(f\"\\nStep {i+1} / {FORECAST_STEPS}\")\n",
    "        print(f\"  Context indices = [{context_start}, {context_end}]\")\n",
    "        print(f\"  Forecast index  = {current_idx}\")\n",
    "        print(f\"  Context date range = {data['date'].iloc[context_start]} \"\n",
    "              f\"to {data['date'].iloc[context_end]}\")\n",
    "        print(f\"  Forecast date       = {data['date'].iloc[current_idx + 1]}\")  # Note the +1 here\n",
    "\n",
    "        context_data = data['OT'].iloc[context_start + 1: context_end + 1].to_numpy()\n",
    "        print(len(context_data))\n",
    "        context_start_date = data['date'].iloc[context_start]\n",
    "        print(context_start_date)\n",
    "        low, median, high = generate_single_forecast(context_data, context_start_date)\n",
    "        \n",
    "        if current_idx + 1 < len(data):\n",
    "            actual_val = data['OT'].iloc[current_idx + 1]\n",
    "            print(f\"  Forecast median = {median:.2f}, Actual = {actual_val:.2f}\")\n",
    "        \n",
    "        all_forecasts['median'].append(median)\n",
    "        all_forecasts['low'].append(low)\n",
    "        all_forecasts['high'].append(high)\n",
    "        all_forecasts['dates'].append(data['date'].iloc[current_idx + 1])  # Store the next timestamp\n",
    "    \n",
    "    return all_forecasts\n",
    "\n",
    "def plot_forecast_with_sliding_window(data, start_idx, forecasts):\n",
    "    \"\"\"Modified plotting function for sliding window forecasts with corrected alignment\"\"\"\n",
    "    plt.figure(figsize=(10, 6))\n",
    "    \n",
    "    # Plot historical context (last window before forecasts begin)\n",
    "    # Note: Now ends at start_idx (exclusive) to avoid overlap\n",
    "    context_data = data.iloc[start_idx - 48:start_idx + FORECAST_STEPS + 1]\n",
    "    plt.plot(\n",
    "        context_data['date'],\n",
    "        context_data['OT'],\n",
    "        color='royalblue',\n",
    "        label='Historical Data'\n",
    "    )\n",
    "    \n",
    "    # Plot forecasts\n",
    "    forecast_dates = forecasts['dates']\n",
    "    plt.plot(\n",
    "        forecast_dates,\n",
    "        forecasts['median'],\n",
    "        color='tomato',\n",
    "        label='Prediction'\n",
    "    )\n",
    "    plt.fill_between(\n",
    "        forecast_dates,\n",
    "        forecasts['low'],\n",
    "        forecasts['high'],\n",
    "        color='tomato',\n",
    "        alpha=0.3,\n",
    "        label='80% Prediction Interval'\n",
    "    )\n",
    "    \n",
    "    plt.xlabel('date')\n",
    "    plt.ylabel('Transformer Oil Temperature')\n",
    "    plt.title('Transformer Oil Temperature (ETTh2) Prediction with Lag-Llama (Sliding Window One-step Forecasting)')\n",
    "    plt.xticks(rotation=45)\n",
    "    plt.legend()\n",
    "    plt.grid(True)\n",
    "    plt.tight_layout()\n",
    "    plt.show()\n",
    "\n",
    "def calculate_sliding_window_metrics(actual_values, predicted_values):\n",
    "    \"\"\"Calculate metrics for sliding window predictions\"\"\"\n",
    "    metrics = calculate_metrics(\n",
    "        actual_values,\n",
    "        predicted_values,\n",
    "        insample=None\n",
    "    )\n",
    "    return metrics\n",
    "\n",
    "etth2 = df_etth2.reset_index()[[\"date\", \"OT\"]]\n",
    "etth2[\"date\"] = pd.to_datetime(etth2[\"date\"])\n",
    "\n",
    "target_date = pd.Timestamp('2017-06-27 00:00:00')\n",
    "# target_date = pd.Timestamp('2017-06-29 00:00:00')\n",
    "# target_date = pd.Timestamp('2017-07-04 00:00:00')\n",
    "start_idx = etth2[etth2['date'] < target_date].index[-1]\n",
    "print(f\"Start index: {start_idx}\")\n",
    "# Generate forecasts using sliding window\n",
    "forecasts = generate_sliding_window_forecasts(etth2, start_idx)\n",
    "\n",
    "actual_values = etth2['OT'].iloc[start_idx:start_idx + FORECAST_STEPS + 1].values\n",
    "metrics = calculate_sliding_window_metrics(actual_values, forecasts['median'])\n",
    "\n",
    "print(\"\\nSliding Window Forecast Metrics:\")\n",
    "for metric_name, value in metrics.items():\n",
    "    if value is not None:\n",
    "        print(f\"{metric_name}: {value:.4f}\")\n",
    "    else:\n",
    "        print(f\"{metric_name}: N/A\")\n",
    "\n",
    "plot_forecast_with_sliding_window(etth2, start_idx, forecasts)"
   ]
  },
  {
   "cell_type": "markdown",
   "metadata": {},
   "source": [
    "# ETT-H2 Diagram 2"
   ]
  },
  {
   "cell_type": "code",
   "execution_count": 258,
   "metadata": {},
   "outputs": [
    {
     "name": "stdout",
     "output_type": "stream",
     "text": [
      "Start index: 8711\n",
      "\n",
      "Forecast Setup Details:\n",
      "Total data length: 17420\n",
      "Start index (last point in context window): 8711\n",
      "Context window size: 480\n",
      "\n",
      "Step 1 / 25\n",
      "  Context indices = [8231, 8711]\n",
      "  Forecast index  = 8711\n",
      "  Context date range = 2017-06-08 23:00:00 to 2017-06-28 23:00:00\n",
      "  Forecast date       = 2017-06-29 00:00:00\n",
      "480\n",
      "2017-06-08 23:00:00\n"
     ]
    },
    {
     "name": "stderr",
     "output_type": "stream",
     "text": [
      "/var/folders/x3/lq5xm_7n0p34sd9k354_nyjh0000gn/T/ipykernel_4416/3702767029.py:17: FutureWarning: You are using `torch.load` with `weights_only=False` (the current default value), which uses the default pickle module implicitly. It is possible to construct malicious pickle data which will execute arbitrary code during unpickling (See https://github.com/pytorch/pytorch/blob/main/SECURITY.md#untrusted-models for more details). In a future release, the default value for `weights_only` will be flipped to `True`. This limits the functions that could be executed during unpickling. Arbitrary objects will no longer be allowed to be loaded via this mode unless they are explicitly allowlisted by the user via `torch.serialization.add_safe_globals`. We recommend you start setting `weights_only=True` for any use case where you don't have full control of the loaded file. Please open an issue on GitHub for any issues related to this experimental feature.\n",
      "  ckpt = torch.load(\"weights/lag-llama.ckpt\", map_location=torch.device(\"mps\" if torch.mps.is_available() else \"cpu\"))\n",
      "/Users/anthonybolton/Developer/FYP/ts-fm-benchmark-financial/lag_llama_venv/lib/python3.12/site-packages/lightning/fabric/utilities/cloud_io.py:56: You are using `torch.load` with `weights_only=False` (the current default value), which uses the default pickle module implicitly. It is possible to construct malicious pickle data which will execute arbitrary code during unpickling (See https://github.com/pytorch/pytorch/blob/main/SECURITY.md#untrusted-models for more details). In a future release, the default value for `weights_only` will be flipped to `True`. This limits the functions that could be executed during unpickling. Arbitrary objects will no longer be allowed to be loaded via this mode unless they are explicitly allowlisted by the user via `torch.serialization.add_safe_globals`. We recommend you start setting `weights_only=True` for any use case where you don't have full control of the loaded file. Please open an issue on GitHub for any issues related to this experimental feature.\n"
     ]
    },
    {
     "name": "stdout",
     "output_type": "stream",
     "text": [
      "  Forecast median = 36.77, Actual = 36.47\n",
      "\n",
      "Step 2 / 25\n",
      "  Context indices = [8232, 8712]\n",
      "  Forecast index  = 8712\n",
      "  Context date range = 2017-06-09 00:00:00 to 2017-06-29 00:00:00\n",
      "  Forecast date       = 2017-06-29 01:00:00\n",
      "480\n",
      "2017-06-09 00:00:00\n"
     ]
    },
    {
     "name": "stderr",
     "output_type": "stream",
     "text": [
      "/var/folders/x3/lq5xm_7n0p34sd9k354_nyjh0000gn/T/ipykernel_4416/3702767029.py:17: FutureWarning: You are using `torch.load` with `weights_only=False` (the current default value), which uses the default pickle module implicitly. It is possible to construct malicious pickle data which will execute arbitrary code during unpickling (See https://github.com/pytorch/pytorch/blob/main/SECURITY.md#untrusted-models for more details). In a future release, the default value for `weights_only` will be flipped to `True`. This limits the functions that could be executed during unpickling. Arbitrary objects will no longer be allowed to be loaded via this mode unless they are explicitly allowlisted by the user via `torch.serialization.add_safe_globals`. We recommend you start setting `weights_only=True` for any use case where you don't have full control of the loaded file. Please open an issue on GitHub for any issues related to this experimental feature.\n",
      "  ckpt = torch.load(\"weights/lag-llama.ckpt\", map_location=torch.device(\"mps\" if torch.mps.is_available() else \"cpu\"))\n",
      "/Users/anthonybolton/Developer/FYP/ts-fm-benchmark-financial/lag_llama_venv/lib/python3.12/site-packages/lightning/fabric/utilities/cloud_io.py:56: You are using `torch.load` with `weights_only=False` (the current default value), which uses the default pickle module implicitly. It is possible to construct malicious pickle data which will execute arbitrary code during unpickling (See https://github.com/pytorch/pytorch/blob/main/SECURITY.md#untrusted-models for more details). In a future release, the default value for `weights_only` will be flipped to `True`. This limits the functions that could be executed during unpickling. Arbitrary objects will no longer be allowed to be loaded via this mode unless they are explicitly allowlisted by the user via `torch.serialization.add_safe_globals`. We recommend you start setting `weights_only=True` for any use case where you don't have full control of the loaded file. Please open an issue on GitHub for any issues related to this experimental feature.\n"
     ]
    },
    {
     "name": "stdout",
     "output_type": "stream",
     "text": [
      "  Forecast median = 36.62, Actual = 35.81\n",
      "\n",
      "Step 3 / 25\n",
      "  Context indices = [8233, 8713]\n",
      "  Forecast index  = 8713\n",
      "  Context date range = 2017-06-09 01:00:00 to 2017-06-29 01:00:00\n",
      "  Forecast date       = 2017-06-29 02:00:00\n",
      "480\n",
      "2017-06-09 01:00:00\n"
     ]
    },
    {
     "name": "stderr",
     "output_type": "stream",
     "text": [
      "/var/folders/x3/lq5xm_7n0p34sd9k354_nyjh0000gn/T/ipykernel_4416/3702767029.py:17: FutureWarning: You are using `torch.load` with `weights_only=False` (the current default value), which uses the default pickle module implicitly. It is possible to construct malicious pickle data which will execute arbitrary code during unpickling (See https://github.com/pytorch/pytorch/blob/main/SECURITY.md#untrusted-models for more details). In a future release, the default value for `weights_only` will be flipped to `True`. This limits the functions that could be executed during unpickling. Arbitrary objects will no longer be allowed to be loaded via this mode unless they are explicitly allowlisted by the user via `torch.serialization.add_safe_globals`. We recommend you start setting `weights_only=True` for any use case where you don't have full control of the loaded file. Please open an issue on GitHub for any issues related to this experimental feature.\n",
      "  ckpt = torch.load(\"weights/lag-llama.ckpt\", map_location=torch.device(\"mps\" if torch.mps.is_available() else \"cpu\"))\n",
      "/Users/anthonybolton/Developer/FYP/ts-fm-benchmark-financial/lag_llama_venv/lib/python3.12/site-packages/lightning/fabric/utilities/cloud_io.py:56: You are using `torch.load` with `weights_only=False` (the current default value), which uses the default pickle module implicitly. It is possible to construct malicious pickle data which will execute arbitrary code during unpickling (See https://github.com/pytorch/pytorch/blob/main/SECURITY.md#untrusted-models for more details). In a future release, the default value for `weights_only` will be flipped to `True`. This limits the functions that could be executed during unpickling. Arbitrary objects will no longer be allowed to be loaded via this mode unless they are explicitly allowlisted by the user via `torch.serialization.add_safe_globals`. We recommend you start setting `weights_only=True` for any use case where you don't have full control of the loaded file. Please open an issue on GitHub for any issues related to this experimental feature.\n"
     ]
    },
    {
     "name": "stdout",
     "output_type": "stream",
     "text": [
      "  Forecast median = 36.39, Actual = 35.37\n",
      "\n",
      "Step 4 / 25\n",
      "  Context indices = [8234, 8714]\n",
      "  Forecast index  = 8714\n",
      "  Context date range = 2017-06-09 02:00:00 to 2017-06-29 02:00:00\n",
      "  Forecast date       = 2017-06-29 03:00:00\n",
      "480\n",
      "2017-06-09 02:00:00\n"
     ]
    },
    {
     "name": "stderr",
     "output_type": "stream",
     "text": [
      "/var/folders/x3/lq5xm_7n0p34sd9k354_nyjh0000gn/T/ipykernel_4416/3702767029.py:17: FutureWarning: You are using `torch.load` with `weights_only=False` (the current default value), which uses the default pickle module implicitly. It is possible to construct malicious pickle data which will execute arbitrary code during unpickling (See https://github.com/pytorch/pytorch/blob/main/SECURITY.md#untrusted-models for more details). In a future release, the default value for `weights_only` will be flipped to `True`. This limits the functions that could be executed during unpickling. Arbitrary objects will no longer be allowed to be loaded via this mode unless they are explicitly allowlisted by the user via `torch.serialization.add_safe_globals`. We recommend you start setting `weights_only=True` for any use case where you don't have full control of the loaded file. Please open an issue on GitHub for any issues related to this experimental feature.\n",
      "  ckpt = torch.load(\"weights/lag-llama.ckpt\", map_location=torch.device(\"mps\" if torch.mps.is_available() else \"cpu\"))\n",
      "/Users/anthonybolton/Developer/FYP/ts-fm-benchmark-financial/lag_llama_venv/lib/python3.12/site-packages/lightning/fabric/utilities/cloud_io.py:56: You are using `torch.load` with `weights_only=False` (the current default value), which uses the default pickle module implicitly. It is possible to construct malicious pickle data which will execute arbitrary code during unpickling (See https://github.com/pytorch/pytorch/blob/main/SECURITY.md#untrusted-models for more details). In a future release, the default value for `weights_only` will be flipped to `True`. This limits the functions that could be executed during unpickling. Arbitrary objects will no longer be allowed to be loaded via this mode unless they are explicitly allowlisted by the user via `torch.serialization.add_safe_globals`. We recommend you start setting `weights_only=True` for any use case where you don't have full control of the loaded file. Please open an issue on GitHub for any issues related to this experimental feature.\n"
     ]
    },
    {
     "name": "stdout",
     "output_type": "stream",
     "text": [
      "  Forecast median = 35.56, Actual = 34.93\n",
      "\n",
      "Step 5 / 25\n",
      "  Context indices = [8235, 8715]\n",
      "  Forecast index  = 8715\n",
      "  Context date range = 2017-06-09 03:00:00 to 2017-06-29 03:00:00\n",
      "  Forecast date       = 2017-06-29 04:00:00\n",
      "480\n",
      "2017-06-09 03:00:00\n"
     ]
    },
    {
     "name": "stderr",
     "output_type": "stream",
     "text": [
      "/var/folders/x3/lq5xm_7n0p34sd9k354_nyjh0000gn/T/ipykernel_4416/3702767029.py:17: FutureWarning: You are using `torch.load` with `weights_only=False` (the current default value), which uses the default pickle module implicitly. It is possible to construct malicious pickle data which will execute arbitrary code during unpickling (See https://github.com/pytorch/pytorch/blob/main/SECURITY.md#untrusted-models for more details). In a future release, the default value for `weights_only` will be flipped to `True`. This limits the functions that could be executed during unpickling. Arbitrary objects will no longer be allowed to be loaded via this mode unless they are explicitly allowlisted by the user via `torch.serialization.add_safe_globals`. We recommend you start setting `weights_only=True` for any use case where you don't have full control of the loaded file. Please open an issue on GitHub for any issues related to this experimental feature.\n",
      "  ckpt = torch.load(\"weights/lag-llama.ckpt\", map_location=torch.device(\"mps\" if torch.mps.is_available() else \"cpu\"))\n",
      "/Users/anthonybolton/Developer/FYP/ts-fm-benchmark-financial/lag_llama_venv/lib/python3.12/site-packages/lightning/fabric/utilities/cloud_io.py:56: You are using `torch.load` with `weights_only=False` (the current default value), which uses the default pickle module implicitly. It is possible to construct malicious pickle data which will execute arbitrary code during unpickling (See https://github.com/pytorch/pytorch/blob/main/SECURITY.md#untrusted-models for more details). In a future release, the default value for `weights_only` will be flipped to `True`. This limits the functions that could be executed during unpickling. Arbitrary objects will no longer be allowed to be loaded via this mode unless they are explicitly allowlisted by the user via `torch.serialization.add_safe_globals`. We recommend you start setting `weights_only=True` for any use case where you don't have full control of the loaded file. Please open an issue on GitHub for any issues related to this experimental feature.\n"
     ]
    },
    {
     "name": "stdout",
     "output_type": "stream",
     "text": [
      "  Forecast median = 35.27, Actual = 34.71\n",
      "\n",
      "Step 6 / 25\n",
      "  Context indices = [8236, 8716]\n",
      "  Forecast index  = 8716\n",
      "  Context date range = 2017-06-09 04:00:00 to 2017-06-29 04:00:00\n",
      "  Forecast date       = 2017-06-29 05:00:00\n",
      "480\n",
      "2017-06-09 04:00:00\n"
     ]
    },
    {
     "name": "stderr",
     "output_type": "stream",
     "text": [
      "/var/folders/x3/lq5xm_7n0p34sd9k354_nyjh0000gn/T/ipykernel_4416/3702767029.py:17: FutureWarning: You are using `torch.load` with `weights_only=False` (the current default value), which uses the default pickle module implicitly. It is possible to construct malicious pickle data which will execute arbitrary code during unpickling (See https://github.com/pytorch/pytorch/blob/main/SECURITY.md#untrusted-models for more details). In a future release, the default value for `weights_only` will be flipped to `True`. This limits the functions that could be executed during unpickling. Arbitrary objects will no longer be allowed to be loaded via this mode unless they are explicitly allowlisted by the user via `torch.serialization.add_safe_globals`. We recommend you start setting `weights_only=True` for any use case where you don't have full control of the loaded file. Please open an issue on GitHub for any issues related to this experimental feature.\n",
      "  ckpt = torch.load(\"weights/lag-llama.ckpt\", map_location=torch.device(\"mps\" if torch.mps.is_available() else \"cpu\"))\n",
      "/Users/anthonybolton/Developer/FYP/ts-fm-benchmark-financial/lag_llama_venv/lib/python3.12/site-packages/lightning/fabric/utilities/cloud_io.py:56: You are using `torch.load` with `weights_only=False` (the current default value), which uses the default pickle module implicitly. It is possible to construct malicious pickle data which will execute arbitrary code during unpickling (See https://github.com/pytorch/pytorch/blob/main/SECURITY.md#untrusted-models for more details). In a future release, the default value for `weights_only` will be flipped to `True`. This limits the functions that could be executed during unpickling. Arbitrary objects will no longer be allowed to be loaded via this mode unless they are explicitly allowlisted by the user via `torch.serialization.add_safe_globals`. We recommend you start setting `weights_only=True` for any use case where you don't have full control of the loaded file. Please open an issue on GitHub for any issues related to this experimental feature.\n"
     ]
    },
    {
     "name": "stdout",
     "output_type": "stream",
     "text": [
      "  Forecast median = 34.89, Actual = 34.49\n",
      "\n",
      "Step 7 / 25\n",
      "  Context indices = [8237, 8717]\n",
      "  Forecast index  = 8717\n",
      "  Context date range = 2017-06-09 05:00:00 to 2017-06-29 05:00:00\n",
      "  Forecast date       = 2017-06-29 06:00:00\n",
      "480\n",
      "2017-06-09 05:00:00\n"
     ]
    },
    {
     "name": "stderr",
     "output_type": "stream",
     "text": [
      "/var/folders/x3/lq5xm_7n0p34sd9k354_nyjh0000gn/T/ipykernel_4416/3702767029.py:17: FutureWarning: You are using `torch.load` with `weights_only=False` (the current default value), which uses the default pickle module implicitly. It is possible to construct malicious pickle data which will execute arbitrary code during unpickling (See https://github.com/pytorch/pytorch/blob/main/SECURITY.md#untrusted-models for more details). In a future release, the default value for `weights_only` will be flipped to `True`. This limits the functions that could be executed during unpickling. Arbitrary objects will no longer be allowed to be loaded via this mode unless they are explicitly allowlisted by the user via `torch.serialization.add_safe_globals`. We recommend you start setting `weights_only=True` for any use case where you don't have full control of the loaded file. Please open an issue on GitHub for any issues related to this experimental feature.\n",
      "  ckpt = torch.load(\"weights/lag-llama.ckpt\", map_location=torch.device(\"mps\" if torch.mps.is_available() else \"cpu\"))\n",
      "/Users/anthonybolton/Developer/FYP/ts-fm-benchmark-financial/lag_llama_venv/lib/python3.12/site-packages/lightning/fabric/utilities/cloud_io.py:56: You are using `torch.load` with `weights_only=False` (the current default value), which uses the default pickle module implicitly. It is possible to construct malicious pickle data which will execute arbitrary code during unpickling (See https://github.com/pytorch/pytorch/blob/main/SECURITY.md#untrusted-models for more details). In a future release, the default value for `weights_only` will be flipped to `True`. This limits the functions that could be executed during unpickling. Arbitrary objects will no longer be allowed to be loaded via this mode unless they are explicitly allowlisted by the user via `torch.serialization.add_safe_globals`. We recommend you start setting `weights_only=True` for any use case where you don't have full control of the loaded file. Please open an issue on GitHub for any issues related to this experimental feature.\n"
     ]
    },
    {
     "name": "stdout",
     "output_type": "stream",
     "text": [
      "  Forecast median = 34.86, Actual = 34.05\n",
      "\n",
      "Step 8 / 25\n",
      "  Context indices = [8238, 8718]\n",
      "  Forecast index  = 8718\n",
      "  Context date range = 2017-06-09 06:00:00 to 2017-06-29 06:00:00\n",
      "  Forecast date       = 2017-06-29 07:00:00\n",
      "480\n",
      "2017-06-09 06:00:00\n"
     ]
    },
    {
     "name": "stderr",
     "output_type": "stream",
     "text": [
      "/var/folders/x3/lq5xm_7n0p34sd9k354_nyjh0000gn/T/ipykernel_4416/3702767029.py:17: FutureWarning: You are using `torch.load` with `weights_only=False` (the current default value), which uses the default pickle module implicitly. It is possible to construct malicious pickle data which will execute arbitrary code during unpickling (See https://github.com/pytorch/pytorch/blob/main/SECURITY.md#untrusted-models for more details). In a future release, the default value for `weights_only` will be flipped to `True`. This limits the functions that could be executed during unpickling. Arbitrary objects will no longer be allowed to be loaded via this mode unless they are explicitly allowlisted by the user via `torch.serialization.add_safe_globals`. We recommend you start setting `weights_only=True` for any use case where you don't have full control of the loaded file. Please open an issue on GitHub for any issues related to this experimental feature.\n",
      "  ckpt = torch.load(\"weights/lag-llama.ckpt\", map_location=torch.device(\"mps\" if torch.mps.is_available() else \"cpu\"))\n",
      "/Users/anthonybolton/Developer/FYP/ts-fm-benchmark-financial/lag_llama_venv/lib/python3.12/site-packages/lightning/fabric/utilities/cloud_io.py:56: You are using `torch.load` with `weights_only=False` (the current default value), which uses the default pickle module implicitly. It is possible to construct malicious pickle data which will execute arbitrary code during unpickling (See https://github.com/pytorch/pytorch/blob/main/SECURITY.md#untrusted-models for more details). In a future release, the default value for `weights_only` will be flipped to `True`. This limits the functions that could be executed during unpickling. Arbitrary objects will no longer be allowed to be loaded via this mode unless they are explicitly allowlisted by the user via `torch.serialization.add_safe_globals`. We recommend you start setting `weights_only=True` for any use case where you don't have full control of the loaded file. Please open an issue on GitHub for any issues related to this experimental feature.\n"
     ]
    },
    {
     "name": "stdout",
     "output_type": "stream",
     "text": [
      "  Forecast median = 34.65, Actual = 34.05\n",
      "\n",
      "Step 9 / 25\n",
      "  Context indices = [8239, 8719]\n",
      "  Forecast index  = 8719\n",
      "  Context date range = 2017-06-09 07:00:00 to 2017-06-29 07:00:00\n",
      "  Forecast date       = 2017-06-29 08:00:00\n",
      "480\n",
      "2017-06-09 07:00:00\n"
     ]
    },
    {
     "name": "stderr",
     "output_type": "stream",
     "text": [
      "/var/folders/x3/lq5xm_7n0p34sd9k354_nyjh0000gn/T/ipykernel_4416/3702767029.py:17: FutureWarning: You are using `torch.load` with `weights_only=False` (the current default value), which uses the default pickle module implicitly. It is possible to construct malicious pickle data which will execute arbitrary code during unpickling (See https://github.com/pytorch/pytorch/blob/main/SECURITY.md#untrusted-models for more details). In a future release, the default value for `weights_only` will be flipped to `True`. This limits the functions that could be executed during unpickling. Arbitrary objects will no longer be allowed to be loaded via this mode unless they are explicitly allowlisted by the user via `torch.serialization.add_safe_globals`. We recommend you start setting `weights_only=True` for any use case where you don't have full control of the loaded file. Please open an issue on GitHub for any issues related to this experimental feature.\n",
      "  ckpt = torch.load(\"weights/lag-llama.ckpt\", map_location=torch.device(\"mps\" if torch.mps.is_available() else \"cpu\"))\n",
      "/Users/anthonybolton/Developer/FYP/ts-fm-benchmark-financial/lag_llama_venv/lib/python3.12/site-packages/lightning/fabric/utilities/cloud_io.py:56: You are using `torch.load` with `weights_only=False` (the current default value), which uses the default pickle module implicitly. It is possible to construct malicious pickle data which will execute arbitrary code during unpickling (See https://github.com/pytorch/pytorch/blob/main/SECURITY.md#untrusted-models for more details). In a future release, the default value for `weights_only` will be flipped to `True`. This limits the functions that could be executed during unpickling. Arbitrary objects will no longer be allowed to be loaded via this mode unless they are explicitly allowlisted by the user via `torch.serialization.add_safe_globals`. We recommend you start setting `weights_only=True` for any use case where you don't have full control of the loaded file. Please open an issue on GitHub for any issues related to this experimental feature.\n"
     ]
    },
    {
     "name": "stdout",
     "output_type": "stream",
     "text": [
      "  Forecast median = 34.28, Actual = 35.15\n",
      "\n",
      "Step 10 / 25\n",
      "  Context indices = [8240, 8720]\n",
      "  Forecast index  = 8720\n",
      "  Context date range = 2017-06-09 08:00:00 to 2017-06-29 08:00:00\n",
      "  Forecast date       = 2017-06-29 09:00:00\n",
      "480\n",
      "2017-06-09 08:00:00\n"
     ]
    },
    {
     "name": "stderr",
     "output_type": "stream",
     "text": [
      "/var/folders/x3/lq5xm_7n0p34sd9k354_nyjh0000gn/T/ipykernel_4416/3702767029.py:17: FutureWarning: You are using `torch.load` with `weights_only=False` (the current default value), which uses the default pickle module implicitly. It is possible to construct malicious pickle data which will execute arbitrary code during unpickling (See https://github.com/pytorch/pytorch/blob/main/SECURITY.md#untrusted-models for more details). In a future release, the default value for `weights_only` will be flipped to `True`. This limits the functions that could be executed during unpickling. Arbitrary objects will no longer be allowed to be loaded via this mode unless they are explicitly allowlisted by the user via `torch.serialization.add_safe_globals`. We recommend you start setting `weights_only=True` for any use case where you don't have full control of the loaded file. Please open an issue on GitHub for any issues related to this experimental feature.\n",
      "  ckpt = torch.load(\"weights/lag-llama.ckpt\", map_location=torch.device(\"mps\" if torch.mps.is_available() else \"cpu\"))\n",
      "/Users/anthonybolton/Developer/FYP/ts-fm-benchmark-financial/lag_llama_venv/lib/python3.12/site-packages/lightning/fabric/utilities/cloud_io.py:56: You are using `torch.load` with `weights_only=False` (the current default value), which uses the default pickle module implicitly. It is possible to construct malicious pickle data which will execute arbitrary code during unpickling (See https://github.com/pytorch/pytorch/blob/main/SECURITY.md#untrusted-models for more details). In a future release, the default value for `weights_only` will be flipped to `True`. This limits the functions that could be executed during unpickling. Arbitrary objects will no longer be allowed to be loaded via this mode unless they are explicitly allowlisted by the user via `torch.serialization.add_safe_globals`. We recommend you start setting `weights_only=True` for any use case where you don't have full control of the loaded file. Please open an issue on GitHub for any issues related to this experimental feature.\n"
     ]
    },
    {
     "name": "stdout",
     "output_type": "stream",
     "text": [
      "  Forecast median = 34.43, Actual = 37.12\n",
      "\n",
      "Step 11 / 25\n",
      "  Context indices = [8241, 8721]\n",
      "  Forecast index  = 8721\n",
      "  Context date range = 2017-06-09 09:00:00 to 2017-06-29 09:00:00\n",
      "  Forecast date       = 2017-06-29 10:00:00\n",
      "480\n",
      "2017-06-09 09:00:00\n"
     ]
    },
    {
     "name": "stderr",
     "output_type": "stream",
     "text": [
      "/var/folders/x3/lq5xm_7n0p34sd9k354_nyjh0000gn/T/ipykernel_4416/3702767029.py:17: FutureWarning: You are using `torch.load` with `weights_only=False` (the current default value), which uses the default pickle module implicitly. It is possible to construct malicious pickle data which will execute arbitrary code during unpickling (See https://github.com/pytorch/pytorch/blob/main/SECURITY.md#untrusted-models for more details). In a future release, the default value for `weights_only` will be flipped to `True`. This limits the functions that could be executed during unpickling. Arbitrary objects will no longer be allowed to be loaded via this mode unless they are explicitly allowlisted by the user via `torch.serialization.add_safe_globals`. We recommend you start setting `weights_only=True` for any use case where you don't have full control of the loaded file. Please open an issue on GitHub for any issues related to this experimental feature.\n",
      "  ckpt = torch.load(\"weights/lag-llama.ckpt\", map_location=torch.device(\"mps\" if torch.mps.is_available() else \"cpu\"))\n",
      "/Users/anthonybolton/Developer/FYP/ts-fm-benchmark-financial/lag_llama_venv/lib/python3.12/site-packages/lightning/fabric/utilities/cloud_io.py:56: You are using `torch.load` with `weights_only=False` (the current default value), which uses the default pickle module implicitly. It is possible to construct malicious pickle data which will execute arbitrary code during unpickling (See https://github.com/pytorch/pytorch/blob/main/SECURITY.md#untrusted-models for more details). In a future release, the default value for `weights_only` will be flipped to `True`. This limits the functions that could be executed during unpickling. Arbitrary objects will no longer be allowed to be loaded via this mode unless they are explicitly allowlisted by the user via `torch.serialization.add_safe_globals`. We recommend you start setting `weights_only=True` for any use case where you don't have full control of the loaded file. Please open an issue on GitHub for any issues related to this experimental feature.\n"
     ]
    },
    {
     "name": "stdout",
     "output_type": "stream",
     "text": [
      "  Forecast median = 34.89, Actual = 39.32\n",
      "\n",
      "Step 12 / 25\n",
      "  Context indices = [8242, 8722]\n",
      "  Forecast index  = 8722\n",
      "  Context date range = 2017-06-09 10:00:00 to 2017-06-29 10:00:00\n",
      "  Forecast date       = 2017-06-29 11:00:00\n",
      "480\n",
      "2017-06-09 10:00:00\n"
     ]
    },
    {
     "name": "stderr",
     "output_type": "stream",
     "text": [
      "/var/folders/x3/lq5xm_7n0p34sd9k354_nyjh0000gn/T/ipykernel_4416/3702767029.py:17: FutureWarning: You are using `torch.load` with `weights_only=False` (the current default value), which uses the default pickle module implicitly. It is possible to construct malicious pickle data which will execute arbitrary code during unpickling (See https://github.com/pytorch/pytorch/blob/main/SECURITY.md#untrusted-models for more details). In a future release, the default value for `weights_only` will be flipped to `True`. This limits the functions that could be executed during unpickling. Arbitrary objects will no longer be allowed to be loaded via this mode unless they are explicitly allowlisted by the user via `torch.serialization.add_safe_globals`. We recommend you start setting `weights_only=True` for any use case where you don't have full control of the loaded file. Please open an issue on GitHub for any issues related to this experimental feature.\n",
      "  ckpt = torch.load(\"weights/lag-llama.ckpt\", map_location=torch.device(\"mps\" if torch.mps.is_available() else \"cpu\"))\n",
      "/Users/anthonybolton/Developer/FYP/ts-fm-benchmark-financial/lag_llama_venv/lib/python3.12/site-packages/lightning/fabric/utilities/cloud_io.py:56: You are using `torch.load` with `weights_only=False` (the current default value), which uses the default pickle module implicitly. It is possible to construct malicious pickle data which will execute arbitrary code during unpickling (See https://github.com/pytorch/pytorch/blob/main/SECURITY.md#untrusted-models for more details). In a future release, the default value for `weights_only` will be flipped to `True`. This limits the functions that could be executed during unpickling. Arbitrary objects will no longer be allowed to be loaded via this mode unless they are explicitly allowlisted by the user via `torch.serialization.add_safe_globals`. We recommend you start setting `weights_only=True` for any use case where you don't have full control of the loaded file. Please open an issue on GitHub for any issues related to this experimental feature.\n"
     ]
    },
    {
     "name": "stdout",
     "output_type": "stream",
     "text": [
      "  Forecast median = 36.59, Actual = 41.52\n",
      "\n",
      "Step 13 / 25\n",
      "  Context indices = [8243, 8723]\n",
      "  Forecast index  = 8723\n",
      "  Context date range = 2017-06-09 11:00:00 to 2017-06-29 11:00:00\n",
      "  Forecast date       = 2017-06-29 12:00:00\n",
      "480\n",
      "2017-06-09 11:00:00\n"
     ]
    },
    {
     "name": "stderr",
     "output_type": "stream",
     "text": [
      "/var/folders/x3/lq5xm_7n0p34sd9k354_nyjh0000gn/T/ipykernel_4416/3702767029.py:17: FutureWarning: You are using `torch.load` with `weights_only=False` (the current default value), which uses the default pickle module implicitly. It is possible to construct malicious pickle data which will execute arbitrary code during unpickling (See https://github.com/pytorch/pytorch/blob/main/SECURITY.md#untrusted-models for more details). In a future release, the default value for `weights_only` will be flipped to `True`. This limits the functions that could be executed during unpickling. Arbitrary objects will no longer be allowed to be loaded via this mode unless they are explicitly allowlisted by the user via `torch.serialization.add_safe_globals`. We recommend you start setting `weights_only=True` for any use case where you don't have full control of the loaded file. Please open an issue on GitHub for any issues related to this experimental feature.\n",
      "  ckpt = torch.load(\"weights/lag-llama.ckpt\", map_location=torch.device(\"mps\" if torch.mps.is_available() else \"cpu\"))\n",
      "/Users/anthonybolton/Developer/FYP/ts-fm-benchmark-financial/lag_llama_venv/lib/python3.12/site-packages/lightning/fabric/utilities/cloud_io.py:56: You are using `torch.load` with `weights_only=False` (the current default value), which uses the default pickle module implicitly. It is possible to construct malicious pickle data which will execute arbitrary code during unpickling (See https://github.com/pytorch/pytorch/blob/main/SECURITY.md#untrusted-models for more details). In a future release, the default value for `weights_only` will be flipped to `True`. This limits the functions that could be executed during unpickling. Arbitrary objects will no longer be allowed to be loaded via this mode unless they are explicitly allowlisted by the user via `torch.serialization.add_safe_globals`. We recommend you start setting `weights_only=True` for any use case where you don't have full control of the loaded file. Please open an issue on GitHub for any issues related to this experimental feature.\n"
     ]
    },
    {
     "name": "stdout",
     "output_type": "stream",
     "text": [
      "  Forecast median = 38.20, Actual = 43.50\n",
      "\n",
      "Step 14 / 25\n",
      "  Context indices = [8244, 8724]\n",
      "  Forecast index  = 8724\n",
      "  Context date range = 2017-06-09 12:00:00 to 2017-06-29 12:00:00\n",
      "  Forecast date       = 2017-06-29 13:00:00\n",
      "480\n",
      "2017-06-09 12:00:00\n"
     ]
    },
    {
     "name": "stderr",
     "output_type": "stream",
     "text": [
      "/var/folders/x3/lq5xm_7n0p34sd9k354_nyjh0000gn/T/ipykernel_4416/3702767029.py:17: FutureWarning: You are using `torch.load` with `weights_only=False` (the current default value), which uses the default pickle module implicitly. It is possible to construct malicious pickle data which will execute arbitrary code during unpickling (See https://github.com/pytorch/pytorch/blob/main/SECURITY.md#untrusted-models for more details). In a future release, the default value for `weights_only` will be flipped to `True`. This limits the functions that could be executed during unpickling. Arbitrary objects will no longer be allowed to be loaded via this mode unless they are explicitly allowlisted by the user via `torch.serialization.add_safe_globals`. We recommend you start setting `weights_only=True` for any use case where you don't have full control of the loaded file. Please open an issue on GitHub for any issues related to this experimental feature.\n",
      "  ckpt = torch.load(\"weights/lag-llama.ckpt\", map_location=torch.device(\"mps\" if torch.mps.is_available() else \"cpu\"))\n",
      "/Users/anthonybolton/Developer/FYP/ts-fm-benchmark-financial/lag_llama_venv/lib/python3.12/site-packages/lightning/fabric/utilities/cloud_io.py:56: You are using `torch.load` with `weights_only=False` (the current default value), which uses the default pickle module implicitly. It is possible to construct malicious pickle data which will execute arbitrary code during unpickling (See https://github.com/pytorch/pytorch/blob/main/SECURITY.md#untrusted-models for more details). In a future release, the default value for `weights_only` will be flipped to `True`. This limits the functions that could be executed during unpickling. Arbitrary objects will no longer be allowed to be loaded via this mode unless they are explicitly allowlisted by the user via `torch.serialization.add_safe_globals`. We recommend you start setting `weights_only=True` for any use case where you don't have full control of the loaded file. Please open an issue on GitHub for any issues related to this experimental feature.\n"
     ]
    },
    {
     "name": "stdout",
     "output_type": "stream",
     "text": [
      "  Forecast median = 40.27, Actual = 44.60\n",
      "\n",
      "Step 15 / 25\n",
      "  Context indices = [8245, 8725]\n",
      "  Forecast index  = 8725\n",
      "  Context date range = 2017-06-09 13:00:00 to 2017-06-29 13:00:00\n",
      "  Forecast date       = 2017-06-29 14:00:00\n",
      "480\n",
      "2017-06-09 13:00:00\n"
     ]
    },
    {
     "name": "stderr",
     "output_type": "stream",
     "text": [
      "/var/folders/x3/lq5xm_7n0p34sd9k354_nyjh0000gn/T/ipykernel_4416/3702767029.py:17: FutureWarning: You are using `torch.load` with `weights_only=False` (the current default value), which uses the default pickle module implicitly. It is possible to construct malicious pickle data which will execute arbitrary code during unpickling (See https://github.com/pytorch/pytorch/blob/main/SECURITY.md#untrusted-models for more details). In a future release, the default value for `weights_only` will be flipped to `True`. This limits the functions that could be executed during unpickling. Arbitrary objects will no longer be allowed to be loaded via this mode unless they are explicitly allowlisted by the user via `torch.serialization.add_safe_globals`. We recommend you start setting `weights_only=True` for any use case where you don't have full control of the loaded file. Please open an issue on GitHub for any issues related to this experimental feature.\n",
      "  ckpt = torch.load(\"weights/lag-llama.ckpt\", map_location=torch.device(\"mps\" if torch.mps.is_available() else \"cpu\"))\n",
      "/Users/anthonybolton/Developer/FYP/ts-fm-benchmark-financial/lag_llama_venv/lib/python3.12/site-packages/lightning/fabric/utilities/cloud_io.py:56: You are using `torch.load` with `weights_only=False` (the current default value), which uses the default pickle module implicitly. It is possible to construct malicious pickle data which will execute arbitrary code during unpickling (See https://github.com/pytorch/pytorch/blob/main/SECURITY.md#untrusted-models for more details). In a future release, the default value for `weights_only` will be flipped to `True`. This limits the functions that could be executed during unpickling. Arbitrary objects will no longer be allowed to be loaded via this mode unless they are explicitly allowlisted by the user via `torch.serialization.add_safe_globals`. We recommend you start setting `weights_only=True` for any use case where you don't have full control of the loaded file. Please open an issue on GitHub for any issues related to this experimental feature.\n"
     ]
    },
    {
     "name": "stdout",
     "output_type": "stream",
     "text": [
      "  Forecast median = 42.83, Actual = 46.35\n",
      "\n",
      "Step 16 / 25\n",
      "  Context indices = [8246, 8726]\n",
      "  Forecast index  = 8726\n",
      "  Context date range = 2017-06-09 14:00:00 to 2017-06-29 14:00:00\n",
      "  Forecast date       = 2017-06-29 15:00:00\n",
      "480\n",
      "2017-06-09 14:00:00\n"
     ]
    },
    {
     "name": "stderr",
     "output_type": "stream",
     "text": [
      "/var/folders/x3/lq5xm_7n0p34sd9k354_nyjh0000gn/T/ipykernel_4416/3702767029.py:17: FutureWarning: You are using `torch.load` with `weights_only=False` (the current default value), which uses the default pickle module implicitly. It is possible to construct malicious pickle data which will execute arbitrary code during unpickling (See https://github.com/pytorch/pytorch/blob/main/SECURITY.md#untrusted-models for more details). In a future release, the default value for `weights_only` will be flipped to `True`. This limits the functions that could be executed during unpickling. Arbitrary objects will no longer be allowed to be loaded via this mode unless they are explicitly allowlisted by the user via `torch.serialization.add_safe_globals`. We recommend you start setting `weights_only=True` for any use case where you don't have full control of the loaded file. Please open an issue on GitHub for any issues related to this experimental feature.\n",
      "  ckpt = torch.load(\"weights/lag-llama.ckpt\", map_location=torch.device(\"mps\" if torch.mps.is_available() else \"cpu\"))\n",
      "/Users/anthonybolton/Developer/FYP/ts-fm-benchmark-financial/lag_llama_venv/lib/python3.12/site-packages/lightning/fabric/utilities/cloud_io.py:56: You are using `torch.load` with `weights_only=False` (the current default value), which uses the default pickle module implicitly. It is possible to construct malicious pickle data which will execute arbitrary code during unpickling (See https://github.com/pytorch/pytorch/blob/main/SECURITY.md#untrusted-models for more details). In a future release, the default value for `weights_only` will be flipped to `True`. This limits the functions that could be executed during unpickling. Arbitrary objects will no longer be allowed to be loaded via this mode unless they are explicitly allowlisted by the user via `torch.serialization.add_safe_globals`. We recommend you start setting `weights_only=True` for any use case where you don't have full control of the loaded file. Please open an issue on GitHub for any issues related to this experimental feature.\n"
     ]
    },
    {
     "name": "stdout",
     "output_type": "stream",
     "text": [
      "  Forecast median = 43.91, Actual = 46.35\n",
      "\n",
      "Step 17 / 25\n",
      "  Context indices = [8247, 8727]\n",
      "  Forecast index  = 8727\n",
      "  Context date range = 2017-06-09 15:00:00 to 2017-06-29 15:00:00\n",
      "  Forecast date       = 2017-06-29 16:00:00\n",
      "480\n",
      "2017-06-09 15:00:00\n"
     ]
    },
    {
     "name": "stderr",
     "output_type": "stream",
     "text": [
      "/var/folders/x3/lq5xm_7n0p34sd9k354_nyjh0000gn/T/ipykernel_4416/3702767029.py:17: FutureWarning: You are using `torch.load` with `weights_only=False` (the current default value), which uses the default pickle module implicitly. It is possible to construct malicious pickle data which will execute arbitrary code during unpickling (See https://github.com/pytorch/pytorch/blob/main/SECURITY.md#untrusted-models for more details). In a future release, the default value for `weights_only` will be flipped to `True`. This limits the functions that could be executed during unpickling. Arbitrary objects will no longer be allowed to be loaded via this mode unless they are explicitly allowlisted by the user via `torch.serialization.add_safe_globals`. We recommend you start setting `weights_only=True` for any use case where you don't have full control of the loaded file. Please open an issue on GitHub for any issues related to this experimental feature.\n",
      "  ckpt = torch.load(\"weights/lag-llama.ckpt\", map_location=torch.device(\"mps\" if torch.mps.is_available() else \"cpu\"))\n",
      "/Users/anthonybolton/Developer/FYP/ts-fm-benchmark-financial/lag_llama_venv/lib/python3.12/site-packages/lightning/fabric/utilities/cloud_io.py:56: You are using `torch.load` with `weights_only=False` (the current default value), which uses the default pickle module implicitly. It is possible to construct malicious pickle data which will execute arbitrary code during unpickling (See https://github.com/pytorch/pytorch/blob/main/SECURITY.md#untrusted-models for more details). In a future release, the default value for `weights_only` will be flipped to `True`. This limits the functions that could be executed during unpickling. Arbitrary objects will no longer be allowed to be loaded via this mode unless they are explicitly allowlisted by the user via `torch.serialization.add_safe_globals`. We recommend you start setting `weights_only=True` for any use case where you don't have full control of the loaded file. Please open an issue on GitHub for any issues related to this experimental feature.\n"
     ]
    },
    {
     "name": "stdout",
     "output_type": "stream",
     "text": [
      "  Forecast median = 46.12, Actual = 45.03\n",
      "\n",
      "Step 18 / 25\n",
      "  Context indices = [8248, 8728]\n",
      "  Forecast index  = 8728\n",
      "  Context date range = 2017-06-09 16:00:00 to 2017-06-29 16:00:00\n",
      "  Forecast date       = 2017-06-29 17:00:00\n",
      "480\n",
      "2017-06-09 16:00:00\n"
     ]
    },
    {
     "name": "stderr",
     "output_type": "stream",
     "text": [
      "/var/folders/x3/lq5xm_7n0p34sd9k354_nyjh0000gn/T/ipykernel_4416/3702767029.py:17: FutureWarning: You are using `torch.load` with `weights_only=False` (the current default value), which uses the default pickle module implicitly. It is possible to construct malicious pickle data which will execute arbitrary code during unpickling (See https://github.com/pytorch/pytorch/blob/main/SECURITY.md#untrusted-models for more details). In a future release, the default value for `weights_only` will be flipped to `True`. This limits the functions that could be executed during unpickling. Arbitrary objects will no longer be allowed to be loaded via this mode unless they are explicitly allowlisted by the user via `torch.serialization.add_safe_globals`. We recommend you start setting `weights_only=True` for any use case where you don't have full control of the loaded file. Please open an issue on GitHub for any issues related to this experimental feature.\n",
      "  ckpt = torch.load(\"weights/lag-llama.ckpt\", map_location=torch.device(\"mps\" if torch.mps.is_available() else \"cpu\"))\n",
      "/Users/anthonybolton/Developer/FYP/ts-fm-benchmark-financial/lag_llama_venv/lib/python3.12/site-packages/lightning/fabric/utilities/cloud_io.py:56: You are using `torch.load` with `weights_only=False` (the current default value), which uses the default pickle module implicitly. It is possible to construct malicious pickle data which will execute arbitrary code during unpickling (See https://github.com/pytorch/pytorch/blob/main/SECURITY.md#untrusted-models for more details). In a future release, the default value for `weights_only` will be flipped to `True`. This limits the functions that could be executed during unpickling. Arbitrary objects will no longer be allowed to be loaded via this mode unless they are explicitly allowlisted by the user via `torch.serialization.add_safe_globals`. We recommend you start setting `weights_only=True` for any use case where you don't have full control of the loaded file. Please open an issue on GitHub for any issues related to this experimental feature.\n"
     ]
    },
    {
     "name": "stdout",
     "output_type": "stream",
     "text": [
      "  Forecast median = 45.28, Actual = 43.94\n",
      "\n",
      "Step 19 / 25\n",
      "  Context indices = [8249, 8729]\n",
      "  Forecast index  = 8729\n",
      "  Context date range = 2017-06-09 17:00:00 to 2017-06-29 17:00:00\n",
      "  Forecast date       = 2017-06-29 18:00:00\n",
      "480\n",
      "2017-06-09 17:00:00\n"
     ]
    },
    {
     "name": "stderr",
     "output_type": "stream",
     "text": [
      "/var/folders/x3/lq5xm_7n0p34sd9k354_nyjh0000gn/T/ipykernel_4416/3702767029.py:17: FutureWarning: You are using `torch.load` with `weights_only=False` (the current default value), which uses the default pickle module implicitly. It is possible to construct malicious pickle data which will execute arbitrary code during unpickling (See https://github.com/pytorch/pytorch/blob/main/SECURITY.md#untrusted-models for more details). In a future release, the default value for `weights_only` will be flipped to `True`. This limits the functions that could be executed during unpickling. Arbitrary objects will no longer be allowed to be loaded via this mode unless they are explicitly allowlisted by the user via `torch.serialization.add_safe_globals`. We recommend you start setting `weights_only=True` for any use case where you don't have full control of the loaded file. Please open an issue on GitHub for any issues related to this experimental feature.\n",
      "  ckpt = torch.load(\"weights/lag-llama.ckpt\", map_location=torch.device(\"mps\" if torch.mps.is_available() else \"cpu\"))\n",
      "/Users/anthonybolton/Developer/FYP/ts-fm-benchmark-financial/lag_llama_venv/lib/python3.12/site-packages/lightning/fabric/utilities/cloud_io.py:56: You are using `torch.load` with `weights_only=False` (the current default value), which uses the default pickle module implicitly. It is possible to construct malicious pickle data which will execute arbitrary code during unpickling (See https://github.com/pytorch/pytorch/blob/main/SECURITY.md#untrusted-models for more details). In a future release, the default value for `weights_only` will be flipped to `True`. This limits the functions that could be executed during unpickling. Arbitrary objects will no longer be allowed to be loaded via this mode unless they are explicitly allowlisted by the user via `torch.serialization.add_safe_globals`. We recommend you start setting `weights_only=True` for any use case where you don't have full control of the loaded file. Please open an issue on GitHub for any issues related to this experimental feature.\n"
     ]
    },
    {
     "name": "stdout",
     "output_type": "stream",
     "text": [
      "  Forecast median = 43.04, Actual = 42.40\n",
      "\n",
      "Step 20 / 25\n",
      "  Context indices = [8250, 8730]\n",
      "  Forecast index  = 8730\n",
      "  Context date range = 2017-06-09 18:00:00 to 2017-06-29 18:00:00\n",
      "  Forecast date       = 2017-06-29 19:00:00\n",
      "480\n",
      "2017-06-09 18:00:00\n"
     ]
    },
    {
     "name": "stderr",
     "output_type": "stream",
     "text": [
      "/var/folders/x3/lq5xm_7n0p34sd9k354_nyjh0000gn/T/ipykernel_4416/3702767029.py:17: FutureWarning: You are using `torch.load` with `weights_only=False` (the current default value), which uses the default pickle module implicitly. It is possible to construct malicious pickle data which will execute arbitrary code during unpickling (See https://github.com/pytorch/pytorch/blob/main/SECURITY.md#untrusted-models for more details). In a future release, the default value for `weights_only` will be flipped to `True`. This limits the functions that could be executed during unpickling. Arbitrary objects will no longer be allowed to be loaded via this mode unless they are explicitly allowlisted by the user via `torch.serialization.add_safe_globals`. We recommend you start setting `weights_only=True` for any use case where you don't have full control of the loaded file. Please open an issue on GitHub for any issues related to this experimental feature.\n",
      "  ckpt = torch.load(\"weights/lag-llama.ckpt\", map_location=torch.device(\"mps\" if torch.mps.is_available() else \"cpu\"))\n",
      "/Users/anthonybolton/Developer/FYP/ts-fm-benchmark-financial/lag_llama_venv/lib/python3.12/site-packages/lightning/fabric/utilities/cloud_io.py:56: You are using `torch.load` with `weights_only=False` (the current default value), which uses the default pickle module implicitly. It is possible to construct malicious pickle data which will execute arbitrary code during unpickling (See https://github.com/pytorch/pytorch/blob/main/SECURITY.md#untrusted-models for more details). In a future release, the default value for `weights_only` will be flipped to `True`. This limits the functions that could be executed during unpickling. Arbitrary objects will no longer be allowed to be loaded via this mode unless they are explicitly allowlisted by the user via `torch.serialization.add_safe_globals`. We recommend you start setting `weights_only=True` for any use case where you don't have full control of the loaded file. Please open an issue on GitHub for any issues related to this experimental feature.\n"
     ]
    },
    {
     "name": "stdout",
     "output_type": "stream",
     "text": [
      "  Forecast median = 41.81, Actual = 41.30\n",
      "\n",
      "Step 21 / 25\n",
      "  Context indices = [8251, 8731]\n",
      "  Forecast index  = 8731\n",
      "  Context date range = 2017-06-09 19:00:00 to 2017-06-29 19:00:00\n",
      "  Forecast date       = 2017-06-29 20:00:00\n",
      "480\n",
      "2017-06-09 19:00:00\n"
     ]
    },
    {
     "name": "stderr",
     "output_type": "stream",
     "text": [
      "/var/folders/x3/lq5xm_7n0p34sd9k354_nyjh0000gn/T/ipykernel_4416/3702767029.py:17: FutureWarning: You are using `torch.load` with `weights_only=False` (the current default value), which uses the default pickle module implicitly. It is possible to construct malicious pickle data which will execute arbitrary code during unpickling (See https://github.com/pytorch/pytorch/blob/main/SECURITY.md#untrusted-models for more details). In a future release, the default value for `weights_only` will be flipped to `True`. This limits the functions that could be executed during unpickling. Arbitrary objects will no longer be allowed to be loaded via this mode unless they are explicitly allowlisted by the user via `torch.serialization.add_safe_globals`. We recommend you start setting `weights_only=True` for any use case where you don't have full control of the loaded file. Please open an issue on GitHub for any issues related to this experimental feature.\n",
      "  ckpt = torch.load(\"weights/lag-llama.ckpt\", map_location=torch.device(\"mps\" if torch.mps.is_available() else \"cpu\"))\n",
      "/Users/anthonybolton/Developer/FYP/ts-fm-benchmark-financial/lag_llama_venv/lib/python3.12/site-packages/lightning/fabric/utilities/cloud_io.py:56: You are using `torch.load` with `weights_only=False` (the current default value), which uses the default pickle module implicitly. It is possible to construct malicious pickle data which will execute arbitrary code during unpickling (See https://github.com/pytorch/pytorch/blob/main/SECURITY.md#untrusted-models for more details). In a future release, the default value for `weights_only` will be flipped to `True`. This limits the functions that could be executed during unpickling. Arbitrary objects will no longer be allowed to be loaded via this mode unless they are explicitly allowlisted by the user via `torch.serialization.add_safe_globals`. We recommend you start setting `weights_only=True` for any use case where you don't have full control of the loaded file. Please open an issue on GitHub for any issues related to this experimental feature.\n"
     ]
    },
    {
     "name": "stdout",
     "output_type": "stream",
     "text": [
      "  Forecast median = 40.00, Actual = 40.20\n",
      "\n",
      "Step 22 / 25\n",
      "  Context indices = [8252, 8732]\n",
      "  Forecast index  = 8732\n",
      "  Context date range = 2017-06-09 20:00:00 to 2017-06-29 20:00:00\n",
      "  Forecast date       = 2017-06-29 21:00:00\n",
      "480\n",
      "2017-06-09 20:00:00\n"
     ]
    },
    {
     "name": "stderr",
     "output_type": "stream",
     "text": [
      "/var/folders/x3/lq5xm_7n0p34sd9k354_nyjh0000gn/T/ipykernel_4416/3702767029.py:17: FutureWarning: You are using `torch.load` with `weights_only=False` (the current default value), which uses the default pickle module implicitly. It is possible to construct malicious pickle data which will execute arbitrary code during unpickling (See https://github.com/pytorch/pytorch/blob/main/SECURITY.md#untrusted-models for more details). In a future release, the default value for `weights_only` will be flipped to `True`. This limits the functions that could be executed during unpickling. Arbitrary objects will no longer be allowed to be loaded via this mode unless they are explicitly allowlisted by the user via `torch.serialization.add_safe_globals`. We recommend you start setting `weights_only=True` for any use case where you don't have full control of the loaded file. Please open an issue on GitHub for any issues related to this experimental feature.\n",
      "  ckpt = torch.load(\"weights/lag-llama.ckpt\", map_location=torch.device(\"mps\" if torch.mps.is_available() else \"cpu\"))\n",
      "/Users/anthonybolton/Developer/FYP/ts-fm-benchmark-financial/lag_llama_venv/lib/python3.12/site-packages/lightning/fabric/utilities/cloud_io.py:56: You are using `torch.load` with `weights_only=False` (the current default value), which uses the default pickle module implicitly. It is possible to construct malicious pickle data which will execute arbitrary code during unpickling (See https://github.com/pytorch/pytorch/blob/main/SECURITY.md#untrusted-models for more details). In a future release, the default value for `weights_only` will be flipped to `True`. This limits the functions that could be executed during unpickling. Arbitrary objects will no longer be allowed to be loaded via this mode unless they are explicitly allowlisted by the user via `torch.serialization.add_safe_globals`. We recommend you start setting `weights_only=True` for any use case where you don't have full control of the loaded file. Please open an issue on GitHub for any issues related to this experimental feature.\n"
     ]
    },
    {
     "name": "stdout",
     "output_type": "stream",
     "text": [
      "  Forecast median = 39.51, Actual = 39.32\n",
      "\n",
      "Step 23 / 25\n",
      "  Context indices = [8253, 8733]\n",
      "  Forecast index  = 8733\n",
      "  Context date range = 2017-06-09 21:00:00 to 2017-06-29 21:00:00\n",
      "  Forecast date       = 2017-06-29 22:00:00\n",
      "480\n",
      "2017-06-09 21:00:00\n"
     ]
    },
    {
     "name": "stderr",
     "output_type": "stream",
     "text": [
      "/var/folders/x3/lq5xm_7n0p34sd9k354_nyjh0000gn/T/ipykernel_4416/3702767029.py:17: FutureWarning: You are using `torch.load` with `weights_only=False` (the current default value), which uses the default pickle module implicitly. It is possible to construct malicious pickle data which will execute arbitrary code during unpickling (See https://github.com/pytorch/pytorch/blob/main/SECURITY.md#untrusted-models for more details). In a future release, the default value for `weights_only` will be flipped to `True`. This limits the functions that could be executed during unpickling. Arbitrary objects will no longer be allowed to be loaded via this mode unless they are explicitly allowlisted by the user via `torch.serialization.add_safe_globals`. We recommend you start setting `weights_only=True` for any use case where you don't have full control of the loaded file. Please open an issue on GitHub for any issues related to this experimental feature.\n",
      "  ckpt = torch.load(\"weights/lag-llama.ckpt\", map_location=torch.device(\"mps\" if torch.mps.is_available() else \"cpu\"))\n",
      "/Users/anthonybolton/Developer/FYP/ts-fm-benchmark-financial/lag_llama_venv/lib/python3.12/site-packages/lightning/fabric/utilities/cloud_io.py:56: You are using `torch.load` with `weights_only=False` (the current default value), which uses the default pickle module implicitly. It is possible to construct malicious pickle data which will execute arbitrary code during unpickling (See https://github.com/pytorch/pytorch/blob/main/SECURITY.md#untrusted-models for more details). In a future release, the default value for `weights_only` will be flipped to `True`. This limits the functions that could be executed during unpickling. Arbitrary objects will no longer be allowed to be loaded via this mode unless they are explicitly allowlisted by the user via `torch.serialization.add_safe_globals`. We recommend you start setting `weights_only=True` for any use case where you don't have full control of the loaded file. Please open an issue on GitHub for any issues related to this experimental feature.\n"
     ]
    },
    {
     "name": "stdout",
     "output_type": "stream",
     "text": [
      "  Forecast median = 38.59, Actual = 38.66\n",
      "\n",
      "Step 24 / 25\n",
      "  Context indices = [8254, 8734]\n",
      "  Forecast index  = 8734\n",
      "  Context date range = 2017-06-09 22:00:00 to 2017-06-29 22:00:00\n",
      "  Forecast date       = 2017-06-29 23:00:00\n",
      "480\n",
      "2017-06-09 22:00:00\n"
     ]
    },
    {
     "name": "stderr",
     "output_type": "stream",
     "text": [
      "/var/folders/x3/lq5xm_7n0p34sd9k354_nyjh0000gn/T/ipykernel_4416/3702767029.py:17: FutureWarning: You are using `torch.load` with `weights_only=False` (the current default value), which uses the default pickle module implicitly. It is possible to construct malicious pickle data which will execute arbitrary code during unpickling (See https://github.com/pytorch/pytorch/blob/main/SECURITY.md#untrusted-models for more details). In a future release, the default value for `weights_only` will be flipped to `True`. This limits the functions that could be executed during unpickling. Arbitrary objects will no longer be allowed to be loaded via this mode unless they are explicitly allowlisted by the user via `torch.serialization.add_safe_globals`. We recommend you start setting `weights_only=True` for any use case where you don't have full control of the loaded file. Please open an issue on GitHub for any issues related to this experimental feature.\n",
      "  ckpt = torch.load(\"weights/lag-llama.ckpt\", map_location=torch.device(\"mps\" if torch.mps.is_available() else \"cpu\"))\n",
      "/Users/anthonybolton/Developer/FYP/ts-fm-benchmark-financial/lag_llama_venv/lib/python3.12/site-packages/lightning/fabric/utilities/cloud_io.py:56: You are using `torch.load` with `weights_only=False` (the current default value), which uses the default pickle module implicitly. It is possible to construct malicious pickle data which will execute arbitrary code during unpickling (See https://github.com/pytorch/pytorch/blob/main/SECURITY.md#untrusted-models for more details). In a future release, the default value for `weights_only` will be flipped to `True`. This limits the functions that could be executed during unpickling. Arbitrary objects will no longer be allowed to be loaded via this mode unless they are explicitly allowlisted by the user via `torch.serialization.add_safe_globals`. We recommend you start setting `weights_only=True` for any use case where you don't have full control of the loaded file. Please open an issue on GitHub for any issues related to this experimental feature.\n"
     ]
    },
    {
     "name": "stdout",
     "output_type": "stream",
     "text": [
      "  Forecast median = 37.98, Actual = 38.44\n",
      "\n",
      "Step 25 / 25\n",
      "  Context indices = [8255, 8735]\n",
      "  Forecast index  = 8735\n",
      "  Context date range = 2017-06-09 23:00:00 to 2017-06-29 23:00:00\n",
      "  Forecast date       = 2017-06-30 00:00:00\n",
      "480\n",
      "2017-06-09 23:00:00\n"
     ]
    },
    {
     "name": "stderr",
     "output_type": "stream",
     "text": [
      "/var/folders/x3/lq5xm_7n0p34sd9k354_nyjh0000gn/T/ipykernel_4416/3702767029.py:17: FutureWarning: You are using `torch.load` with `weights_only=False` (the current default value), which uses the default pickle module implicitly. It is possible to construct malicious pickle data which will execute arbitrary code during unpickling (See https://github.com/pytorch/pytorch/blob/main/SECURITY.md#untrusted-models for more details). In a future release, the default value for `weights_only` will be flipped to `True`. This limits the functions that could be executed during unpickling. Arbitrary objects will no longer be allowed to be loaded via this mode unless they are explicitly allowlisted by the user via `torch.serialization.add_safe_globals`. We recommend you start setting `weights_only=True` for any use case where you don't have full control of the loaded file. Please open an issue on GitHub for any issues related to this experimental feature.\n",
      "  ckpt = torch.load(\"weights/lag-llama.ckpt\", map_location=torch.device(\"mps\" if torch.mps.is_available() else \"cpu\"))\n",
      "/Users/anthonybolton/Developer/FYP/ts-fm-benchmark-financial/lag_llama_venv/lib/python3.12/site-packages/lightning/fabric/utilities/cloud_io.py:56: You are using `torch.load` with `weights_only=False` (the current default value), which uses the default pickle module implicitly. It is possible to construct malicious pickle data which will execute arbitrary code during unpickling (See https://github.com/pytorch/pytorch/blob/main/SECURITY.md#untrusted-models for more details). In a future release, the default value for `weights_only` will be flipped to `True`. This limits the functions that could be executed during unpickling. Arbitrary objects will no longer be allowed to be loaded via this mode unless they are explicitly allowlisted by the user via `torch.serialization.add_safe_globals`. We recommend you start setting `weights_only=True` for any use case where you don't have full control of the loaded file. Please open an issue on GitHub for any issues related to this experimental feature.\n"
     ]
    },
    {
     "name": "stdout",
     "output_type": "stream",
     "text": [
      "  Forecast median = 37.69, Actual = 38.00\n",
      "\n",
      "Sliding Window Forecast Metrics:\n",
      "MAE: 1.0146\n",
      "MSE: 1.9842\n",
      "RMSE: 1.4086\n",
      "MAPE: 2.5038\n",
      "SMAPE: 2.5599\n",
      "MASE: N/A\n"
     ]
    },
    {
     "data": {
      "image/png": "[encoded data removed]",
      "text/plain": [
       "<Figure size 1000x600 with 1 Axes>"
      ]
     },
     "metadata": {},
     "output_type": "display_data"
    }
   ],
   "source": [
    "CONTEXT_WINDOW = 480\n",
    "FORECAST_STEPS = 25 \n",
    "\n",
    "# target_date = pd.Timestamp('2017-06-27 00:00:00')\n",
    "target_date = pd.Timestamp('2017-06-29 00:00:00')\n",
    "# target_date = pd.Timestamp('2017-07-04 00:00:00')\n",
    "start_idx = etth2[etth2['date'] < target_date].index[-1]\n",
    "print(f\"Start index: {start_idx}\")\n",
    "# Generate forecasts using sliding window\n",
    "forecasts = generate_sliding_window_forecasts(etth2, start_idx)\n",
    "\n",
    "actual_values = etth2['OT'].iloc[start_idx:start_idx + FORECAST_STEPS].values\n",
    "metrics = calculate_sliding_window_metrics(actual_values, forecasts['median'])\n",
    "\n",
    "print(\"\\nSliding Window Forecast Metrics:\")\n",
    "for metric_name, value in metrics.items():\n",
    "    if value is not None:\n",
    "        print(f\"{metric_name}: {value:.4f}\")\n",
    "    else:\n",
    "        print(f\"{metric_name}: N/A\")\n",
    "\n",
    "plot_forecast_with_sliding_window(etth2, start_idx, forecasts)"
   ]
  },
  {
   "cell_type": "markdown",
   "metadata": {},
   "source": [
    "# ETT-H2 Diagram 2"
   ]
  },
  {
   "cell_type": "code",
   "execution_count": 259,
   "metadata": {},
   "outputs": [
    {
     "name": "stdout",
     "output_type": "stream",
     "text": [
      "Start index: 8831\n",
      "\n",
      "Forecast Setup Details:\n",
      "Total data length: 17420\n",
      "Start index (last point in context window): 8831\n",
      "Context window size: 1120\n",
      "\n",
      "Step 1 / 25\n",
      "  Context indices = [7711, 8831]\n",
      "  Forecast index  = 8831\n",
      "  Context date range = 2017-05-18 07:00:00 to 2017-07-03 23:00:00\n",
      "  Forecast date       = 2017-07-04 00:00:00\n",
      "1120\n",
      "2017-05-18 07:00:00\n"
     ]
    },
    {
     "name": "stderr",
     "output_type": "stream",
     "text": [
      "/var/folders/x3/lq5xm_7n0p34sd9k354_nyjh0000gn/T/ipykernel_4416/3702767029.py:17: FutureWarning: You are using `torch.load` with `weights_only=False` (the current default value), which uses the default pickle module implicitly. It is possible to construct malicious pickle data which will execute arbitrary code during unpickling (See https://github.com/pytorch/pytorch/blob/main/SECURITY.md#untrusted-models for more details). In a future release, the default value for `weights_only` will be flipped to `True`. This limits the functions that could be executed during unpickling. Arbitrary objects will no longer be allowed to be loaded via this mode unless they are explicitly allowlisted by the user via `torch.serialization.add_safe_globals`. We recommend you start setting `weights_only=True` for any use case where you don't have full control of the loaded file. Please open an issue on GitHub for any issues related to this experimental feature.\n",
      "  ckpt = torch.load(\"weights/lag-llama.ckpt\", map_location=torch.device(\"mps\" if torch.mps.is_available() else \"cpu\"))\n",
      "/Users/anthonybolton/Developer/FYP/ts-fm-benchmark-financial/lag_llama_venv/lib/python3.12/site-packages/lightning/fabric/utilities/cloud_io.py:56: You are using `torch.load` with `weights_only=False` (the current default value), which uses the default pickle module implicitly. It is possible to construct malicious pickle data which will execute arbitrary code during unpickling (See https://github.com/pytorch/pytorch/blob/main/SECURITY.md#untrusted-models for more details). In a future release, the default value for `weights_only` will be flipped to `True`. This limits the functions that could be executed during unpickling. Arbitrary objects will no longer be allowed to be loaded via this mode unless they are explicitly allowlisted by the user via `torch.serialization.add_safe_globals`. We recommend you start setting `weights_only=True` for any use case where you don't have full control of the loaded file. Please open an issue on GitHub for any issues related to this experimental feature.\n"
     ]
    },
    {
     "name": "stdout",
     "output_type": "stream",
     "text": [
      "  Forecast median = 37.91, Actual = 36.24\n",
      "\n",
      "Step 2 / 25\n",
      "  Context indices = [7712, 8832]\n",
      "  Forecast index  = 8832\n",
      "  Context date range = 2017-05-18 08:00:00 to 2017-07-04 00:00:00\n",
      "  Forecast date       = 2017-07-04 01:00:00\n",
      "1120\n",
      "2017-05-18 08:00:00\n"
     ]
    },
    {
     "name": "stderr",
     "output_type": "stream",
     "text": [
      "/var/folders/x3/lq5xm_7n0p34sd9k354_nyjh0000gn/T/ipykernel_4416/3702767029.py:17: FutureWarning: You are using `torch.load` with `weights_only=False` (the current default value), which uses the default pickle module implicitly. It is possible to construct malicious pickle data which will execute arbitrary code during unpickling (See https://github.com/pytorch/pytorch/blob/main/SECURITY.md#untrusted-models for more details). In a future release, the default value for `weights_only` will be flipped to `True`. This limits the functions that could be executed during unpickling. Arbitrary objects will no longer be allowed to be loaded via this mode unless they are explicitly allowlisted by the user via `torch.serialization.add_safe_globals`. We recommend you start setting `weights_only=True` for any use case where you don't have full control of the loaded file. Please open an issue on GitHub for any issues related to this experimental feature.\n",
      "  ckpt = torch.load(\"weights/lag-llama.ckpt\", map_location=torch.device(\"mps\" if torch.mps.is_available() else \"cpu\"))\n",
      "/Users/anthonybolton/Developer/FYP/ts-fm-benchmark-financial/lag_llama_venv/lib/python3.12/site-packages/lightning/fabric/utilities/cloud_io.py:56: You are using `torch.load` with `weights_only=False` (the current default value), which uses the default pickle module implicitly. It is possible to construct malicious pickle data which will execute arbitrary code during unpickling (See https://github.com/pytorch/pytorch/blob/main/SECURITY.md#untrusted-models for more details). In a future release, the default value for `weights_only` will be flipped to `True`. This limits the functions that could be executed during unpickling. Arbitrary objects will no longer be allowed to be loaded via this mode unless they are explicitly allowlisted by the user via `torch.serialization.add_safe_globals`. We recommend you start setting `weights_only=True` for any use case where you don't have full control of the loaded file. Please open an issue on GitHub for any issues related to this experimental feature.\n"
     ]
    },
    {
     "name": "stdout",
     "output_type": "stream",
     "text": [
      "  Forecast median = 37.41, Actual = 36.03\n",
      "\n",
      "Step 3 / 25\n",
      "  Context indices = [7713, 8833]\n",
      "  Forecast index  = 8833\n",
      "  Context date range = 2017-05-18 09:00:00 to 2017-07-04 01:00:00\n",
      "  Forecast date       = 2017-07-04 02:00:00\n",
      "1120\n",
      "2017-05-18 09:00:00\n"
     ]
    },
    {
     "name": "stderr",
     "output_type": "stream",
     "text": [
      "/var/folders/x3/lq5xm_7n0p34sd9k354_nyjh0000gn/T/ipykernel_4416/3702767029.py:17: FutureWarning: You are using `torch.load` with `weights_only=False` (the current default value), which uses the default pickle module implicitly. It is possible to construct malicious pickle data which will execute arbitrary code during unpickling (See https://github.com/pytorch/pytorch/blob/main/SECURITY.md#untrusted-models for more details). In a future release, the default value for `weights_only` will be flipped to `True`. This limits the functions that could be executed during unpickling. Arbitrary objects will no longer be allowed to be loaded via this mode unless they are explicitly allowlisted by the user via `torch.serialization.add_safe_globals`. We recommend you start setting `weights_only=True` for any use case where you don't have full control of the loaded file. Please open an issue on GitHub for any issues related to this experimental feature.\n",
      "  ckpt = torch.load(\"weights/lag-llama.ckpt\", map_location=torch.device(\"mps\" if torch.mps.is_available() else \"cpu\"))\n",
      "/Users/anthonybolton/Developer/FYP/ts-fm-benchmark-financial/lag_llama_venv/lib/python3.12/site-packages/lightning/fabric/utilities/cloud_io.py:56: You are using `torch.load` with `weights_only=False` (the current default value), which uses the default pickle module implicitly. It is possible to construct malicious pickle data which will execute arbitrary code during unpickling (See https://github.com/pytorch/pytorch/blob/main/SECURITY.md#untrusted-models for more details). In a future release, the default value for `weights_only` will be flipped to `True`. This limits the functions that could be executed during unpickling. Arbitrary objects will no longer be allowed to be loaded via this mode unless they are explicitly allowlisted by the user via `torch.serialization.add_safe_globals`. We recommend you start setting `weights_only=True` for any use case where you don't have full control of the loaded file. Please open an issue on GitHub for any issues related to this experimental feature.\n"
     ]
    },
    {
     "name": "stdout",
     "output_type": "stream",
     "text": [
      "  Forecast median = 36.26, Actual = 35.81\n",
      "\n",
      "Step 4 / 25\n",
      "  Context indices = [7714, 8834]\n",
      "  Forecast index  = 8834\n",
      "  Context date range = 2017-05-18 10:00:00 to 2017-07-04 02:00:00\n",
      "  Forecast date       = 2017-07-04 03:00:00\n",
      "1120\n",
      "2017-05-18 10:00:00\n"
     ]
    },
    {
     "name": "stderr",
     "output_type": "stream",
     "text": [
      "/var/folders/x3/lq5xm_7n0p34sd9k354_nyjh0000gn/T/ipykernel_4416/3702767029.py:17: FutureWarning: You are using `torch.load` with `weights_only=False` (the current default value), which uses the default pickle module implicitly. It is possible to construct malicious pickle data which will execute arbitrary code during unpickling (See https://github.com/pytorch/pytorch/blob/main/SECURITY.md#untrusted-models for more details). In a future release, the default value for `weights_only` will be flipped to `True`. This limits the functions that could be executed during unpickling. Arbitrary objects will no longer be allowed to be loaded via this mode unless they are explicitly allowlisted by the user via `torch.serialization.add_safe_globals`. We recommend you start setting `weights_only=True` for any use case where you don't have full control of the loaded file. Please open an issue on GitHub for any issues related to this experimental feature.\n",
      "  ckpt = torch.load(\"weights/lag-llama.ckpt\", map_location=torch.device(\"mps\" if torch.mps.is_available() else \"cpu\"))\n",
      "/Users/anthonybolton/Developer/FYP/ts-fm-benchmark-financial/lag_llama_venv/lib/python3.12/site-packages/lightning/fabric/utilities/cloud_io.py:56: You are using `torch.load` with `weights_only=False` (the current default value), which uses the default pickle module implicitly. It is possible to construct malicious pickle data which will execute arbitrary code during unpickling (See https://github.com/pytorch/pytorch/blob/main/SECURITY.md#untrusted-models for more details). In a future release, the default value for `weights_only` will be flipped to `True`. This limits the functions that could be executed during unpickling. Arbitrary objects will no longer be allowed to be loaded via this mode unless they are explicitly allowlisted by the user via `torch.serialization.add_safe_globals`. We recommend you start setting `weights_only=True` for any use case where you don't have full control of the loaded file. Please open an issue on GitHub for any issues related to this experimental feature.\n"
     ]
    },
    {
     "name": "stdout",
     "output_type": "stream",
     "text": [
      "  Forecast median = 36.23, Actual = 35.59\n",
      "\n",
      "Step 5 / 25\n",
      "  Context indices = [7715, 8835]\n",
      "  Forecast index  = 8835\n",
      "  Context date range = 2017-05-18 11:00:00 to 2017-07-04 03:00:00\n",
      "  Forecast date       = 2017-07-04 04:00:00\n",
      "1120\n",
      "2017-05-18 11:00:00\n"
     ]
    },
    {
     "name": "stderr",
     "output_type": "stream",
     "text": [
      "/var/folders/x3/lq5xm_7n0p34sd9k354_nyjh0000gn/T/ipykernel_4416/3702767029.py:17: FutureWarning: You are using `torch.load` with `weights_only=False` (the current default value), which uses the default pickle module implicitly. It is possible to construct malicious pickle data which will execute arbitrary code during unpickling (See https://github.com/pytorch/pytorch/blob/main/SECURITY.md#untrusted-models for more details). In a future release, the default value for `weights_only` will be flipped to `True`. This limits the functions that could be executed during unpickling. Arbitrary objects will no longer be allowed to be loaded via this mode unless they are explicitly allowlisted by the user via `torch.serialization.add_safe_globals`. We recommend you start setting `weights_only=True` for any use case where you don't have full control of the loaded file. Please open an issue on GitHub for any issues related to this experimental feature.\n",
      "  ckpt = torch.load(\"weights/lag-llama.ckpt\", map_location=torch.device(\"mps\" if torch.mps.is_available() else \"cpu\"))\n",
      "/Users/anthonybolton/Developer/FYP/ts-fm-benchmark-financial/lag_llama_venv/lib/python3.12/site-packages/lightning/fabric/utilities/cloud_io.py:56: You are using `torch.load` with `weights_only=False` (the current default value), which uses the default pickle module implicitly. It is possible to construct malicious pickle data which will execute arbitrary code during unpickling (See https://github.com/pytorch/pytorch/blob/main/SECURITY.md#untrusted-models for more details). In a future release, the default value for `weights_only` will be flipped to `True`. This limits the functions that could be executed during unpickling. Arbitrary objects will no longer be allowed to be loaded via this mode unless they are explicitly allowlisted by the user via `torch.serialization.add_safe_globals`. We recommend you start setting `weights_only=True` for any use case where you don't have full control of the loaded file. Please open an issue on GitHub for any issues related to this experimental feature.\n"
     ]
    },
    {
     "name": "stdout",
     "output_type": "stream",
     "text": [
      "  Forecast median = 35.12, Actual = 35.37\n",
      "\n",
      "Step 6 / 25\n",
      "  Context indices = [7716, 8836]\n",
      "  Forecast index  = 8836\n",
      "  Context date range = 2017-05-18 12:00:00 to 2017-07-04 04:00:00\n",
      "  Forecast date       = 2017-07-04 05:00:00\n",
      "1120\n",
      "2017-05-18 12:00:00\n"
     ]
    },
    {
     "name": "stderr",
     "output_type": "stream",
     "text": [
      "/var/folders/x3/lq5xm_7n0p34sd9k354_nyjh0000gn/T/ipykernel_4416/3702767029.py:17: FutureWarning: You are using `torch.load` with `weights_only=False` (the current default value), which uses the default pickle module implicitly. It is possible to construct malicious pickle data which will execute arbitrary code during unpickling (See https://github.com/pytorch/pytorch/blob/main/SECURITY.md#untrusted-models for more details). In a future release, the default value for `weights_only` will be flipped to `True`. This limits the functions that could be executed during unpickling. Arbitrary objects will no longer be allowed to be loaded via this mode unless they are explicitly allowlisted by the user via `torch.serialization.add_safe_globals`. We recommend you start setting `weights_only=True` for any use case where you don't have full control of the loaded file. Please open an issue on GitHub for any issues related to this experimental feature.\n",
      "  ckpt = torch.load(\"weights/lag-llama.ckpt\", map_location=torch.device(\"mps\" if torch.mps.is_available() else \"cpu\"))\n",
      "/Users/anthonybolton/Developer/FYP/ts-fm-benchmark-financial/lag_llama_venv/lib/python3.12/site-packages/lightning/fabric/utilities/cloud_io.py:56: You are using `torch.load` with `weights_only=False` (the current default value), which uses the default pickle module implicitly. It is possible to construct malicious pickle data which will execute arbitrary code during unpickling (See https://github.com/pytorch/pytorch/blob/main/SECURITY.md#untrusted-models for more details). In a future release, the default value for `weights_only` will be flipped to `True`. This limits the functions that could be executed during unpickling. Arbitrary objects will no longer be allowed to be loaded via this mode unless they are explicitly allowlisted by the user via `torch.serialization.add_safe_globals`. We recommend you start setting `weights_only=True` for any use case where you don't have full control of the loaded file. Please open an issue on GitHub for any issues related to this experimental feature.\n"
     ]
    },
    {
     "name": "stdout",
     "output_type": "stream",
     "text": [
      "  Forecast median = 35.81, Actual = 35.37\n",
      "\n",
      "Step 7 / 25\n",
      "  Context indices = [7717, 8837]\n",
      "  Forecast index  = 8837\n",
      "  Context date range = 2017-05-18 13:00:00 to 2017-07-04 05:00:00\n",
      "  Forecast date       = 2017-07-04 06:00:00\n",
      "1120\n",
      "2017-05-18 13:00:00\n"
     ]
    },
    {
     "name": "stderr",
     "output_type": "stream",
     "text": [
      "/var/folders/x3/lq5xm_7n0p34sd9k354_nyjh0000gn/T/ipykernel_4416/3702767029.py:17: FutureWarning: You are using `torch.load` with `weights_only=False` (the current default value), which uses the default pickle module implicitly. It is possible to construct malicious pickle data which will execute arbitrary code during unpickling (See https://github.com/pytorch/pytorch/blob/main/SECURITY.md#untrusted-models for more details). In a future release, the default value for `weights_only` will be flipped to `True`. This limits the functions that could be executed during unpickling. Arbitrary objects will no longer be allowed to be loaded via this mode unless they are explicitly allowlisted by the user via `torch.serialization.add_safe_globals`. We recommend you start setting `weights_only=True` for any use case where you don't have full control of the loaded file. Please open an issue on GitHub for any issues related to this experimental feature.\n",
      "  ckpt = torch.load(\"weights/lag-llama.ckpt\", map_location=torch.device(\"mps\" if torch.mps.is_available() else \"cpu\"))\n",
      "/Users/anthonybolton/Developer/FYP/ts-fm-benchmark-financial/lag_llama_venv/lib/python3.12/site-packages/lightning/fabric/utilities/cloud_io.py:56: You are using `torch.load` with `weights_only=False` (the current default value), which uses the default pickle module implicitly. It is possible to construct malicious pickle data which will execute arbitrary code during unpickling (See https://github.com/pytorch/pytorch/blob/main/SECURITY.md#untrusted-models for more details). In a future release, the default value for `weights_only` will be flipped to `True`. This limits the functions that could be executed during unpickling. Arbitrary objects will no longer be allowed to be loaded via this mode unless they are explicitly allowlisted by the user via `torch.serialization.add_safe_globals`. We recommend you start setting `weights_only=True` for any use case where you don't have full control of the loaded file. Please open an issue on GitHub for any issues related to this experimental feature.\n"
     ]
    },
    {
     "name": "stdout",
     "output_type": "stream",
     "text": [
      "  Forecast median = 35.13, Actual = 35.37\n",
      "\n",
      "Step 8 / 25\n",
      "  Context indices = [7718, 8838]\n",
      "  Forecast index  = 8838\n",
      "  Context date range = 2017-05-18 14:00:00 to 2017-07-04 06:00:00\n",
      "  Forecast date       = 2017-07-04 07:00:00\n",
      "1120\n",
      "2017-05-18 14:00:00\n"
     ]
    },
    {
     "name": "stderr",
     "output_type": "stream",
     "text": [
      "/var/folders/x3/lq5xm_7n0p34sd9k354_nyjh0000gn/T/ipykernel_4416/3702767029.py:17: FutureWarning: You are using `torch.load` with `weights_only=False` (the current default value), which uses the default pickle module implicitly. It is possible to construct malicious pickle data which will execute arbitrary code during unpickling (See https://github.com/pytorch/pytorch/blob/main/SECURITY.md#untrusted-models for more details). In a future release, the default value for `weights_only` will be flipped to `True`. This limits the functions that could be executed during unpickling. Arbitrary objects will no longer be allowed to be loaded via this mode unless they are explicitly allowlisted by the user via `torch.serialization.add_safe_globals`. We recommend you start setting `weights_only=True` for any use case where you don't have full control of the loaded file. Please open an issue on GitHub for any issues related to this experimental feature.\n",
      "  ckpt = torch.load(\"weights/lag-llama.ckpt\", map_location=torch.device(\"mps\" if torch.mps.is_available() else \"cpu\"))\n",
      "/Users/anthonybolton/Developer/FYP/ts-fm-benchmark-financial/lag_llama_venv/lib/python3.12/site-packages/lightning/fabric/utilities/cloud_io.py:56: You are using `torch.load` with `weights_only=False` (the current default value), which uses the default pickle module implicitly. It is possible to construct malicious pickle data which will execute arbitrary code during unpickling (See https://github.com/pytorch/pytorch/blob/main/SECURITY.md#untrusted-models for more details). In a future release, the default value for `weights_only` will be flipped to `True`. This limits the functions that could be executed during unpickling. Arbitrary objects will no longer be allowed to be loaded via this mode unless they are explicitly allowlisted by the user via `torch.serialization.add_safe_globals`. We recommend you start setting `weights_only=True` for any use case where you don't have full control of the loaded file. Please open an issue on GitHub for any issues related to this experimental feature.\n"
     ]
    },
    {
     "name": "stdout",
     "output_type": "stream",
     "text": [
      "  Forecast median = 35.01, Actual = 35.59\n",
      "\n",
      "Step 9 / 25\n",
      "  Context indices = [7719, 8839]\n",
      "  Forecast index  = 8839\n",
      "  Context date range = 2017-05-18 15:00:00 to 2017-07-04 07:00:00\n",
      "  Forecast date       = 2017-07-04 08:00:00\n",
      "1120\n",
      "2017-05-18 15:00:00\n"
     ]
    },
    {
     "name": "stderr",
     "output_type": "stream",
     "text": [
      "/var/folders/x3/lq5xm_7n0p34sd9k354_nyjh0000gn/T/ipykernel_4416/3702767029.py:17: FutureWarning: You are using `torch.load` with `weights_only=False` (the current default value), which uses the default pickle module implicitly. It is possible to construct malicious pickle data which will execute arbitrary code during unpickling (See https://github.com/pytorch/pytorch/blob/main/SECURITY.md#untrusted-models for more details). In a future release, the default value for `weights_only` will be flipped to `True`. This limits the functions that could be executed during unpickling. Arbitrary objects will no longer be allowed to be loaded via this mode unless they are explicitly allowlisted by the user via `torch.serialization.add_safe_globals`. We recommend you start setting `weights_only=True` for any use case where you don't have full control of the loaded file. Please open an issue on GitHub for any issues related to this experimental feature.\n",
      "  ckpt = torch.load(\"weights/lag-llama.ckpt\", map_location=torch.device(\"mps\" if torch.mps.is_available() else \"cpu\"))\n",
      "/Users/anthonybolton/Developer/FYP/ts-fm-benchmark-financial/lag_llama_venv/lib/python3.12/site-packages/lightning/fabric/utilities/cloud_io.py:56: You are using `torch.load` with `weights_only=False` (the current default value), which uses the default pickle module implicitly. It is possible to construct malicious pickle data which will execute arbitrary code during unpickling (See https://github.com/pytorch/pytorch/blob/main/SECURITY.md#untrusted-models for more details). In a future release, the default value for `weights_only` will be flipped to `True`. This limits the functions that could be executed during unpickling. Arbitrary objects will no longer be allowed to be loaded via this mode unless they are explicitly allowlisted by the user via `torch.serialization.add_safe_globals`. We recommend you start setting `weights_only=True` for any use case where you don't have full control of the loaded file. Please open an issue on GitHub for any issues related to this experimental feature.\n"
     ]
    },
    {
     "name": "stdout",
     "output_type": "stream",
     "text": [
      "  Forecast median = 35.34, Actual = 37.56\n",
      "\n",
      "Step 10 / 25\n",
      "  Context indices = [7720, 8840]\n",
      "  Forecast index  = 8840\n",
      "  Context date range = 2017-05-18 16:00:00 to 2017-07-04 08:00:00\n",
      "  Forecast date       = 2017-07-04 09:00:00\n",
      "1120\n",
      "2017-05-18 16:00:00\n"
     ]
    },
    {
     "name": "stderr",
     "output_type": "stream",
     "text": [
      "/var/folders/x3/lq5xm_7n0p34sd9k354_nyjh0000gn/T/ipykernel_4416/3702767029.py:17: FutureWarning: You are using `torch.load` with `weights_only=False` (the current default value), which uses the default pickle module implicitly. It is possible to construct malicious pickle data which will execute arbitrary code during unpickling (See https://github.com/pytorch/pytorch/blob/main/SECURITY.md#untrusted-models for more details). In a future release, the default value for `weights_only` will be flipped to `True`. This limits the functions that could be executed during unpickling. Arbitrary objects will no longer be allowed to be loaded via this mode unless they are explicitly allowlisted by the user via `torch.serialization.add_safe_globals`. We recommend you start setting `weights_only=True` for any use case where you don't have full control of the loaded file. Please open an issue on GitHub for any issues related to this experimental feature.\n",
      "  ckpt = torch.load(\"weights/lag-llama.ckpt\", map_location=torch.device(\"mps\" if torch.mps.is_available() else \"cpu\"))\n",
      "/Users/anthonybolton/Developer/FYP/ts-fm-benchmark-financial/lag_llama_venv/lib/python3.12/site-packages/lightning/fabric/utilities/cloud_io.py:56: You are using `torch.load` with `weights_only=False` (the current default value), which uses the default pickle module implicitly. It is possible to construct malicious pickle data which will execute arbitrary code during unpickling (See https://github.com/pytorch/pytorch/blob/main/SECURITY.md#untrusted-models for more details). In a future release, the default value for `weights_only` will be flipped to `True`. This limits the functions that could be executed during unpickling. Arbitrary objects will no longer be allowed to be loaded via this mode unless they are explicitly allowlisted by the user via `torch.serialization.add_safe_globals`. We recommend you start setting `weights_only=True` for any use case where you don't have full control of the loaded file. Please open an issue on GitHub for any issues related to this experimental feature.\n"
     ]
    },
    {
     "name": "stdout",
     "output_type": "stream",
     "text": [
      "  Forecast median = 35.78, Actual = 39.32\n",
      "\n",
      "Step 11 / 25\n",
      "  Context indices = [7721, 8841]\n",
      "  Forecast index  = 8841\n",
      "  Context date range = 2017-05-18 17:00:00 to 2017-07-04 09:00:00\n",
      "  Forecast date       = 2017-07-04 10:00:00\n",
      "1120\n",
      "2017-05-18 17:00:00\n"
     ]
    },
    {
     "name": "stderr",
     "output_type": "stream",
     "text": [
      "/var/folders/x3/lq5xm_7n0p34sd9k354_nyjh0000gn/T/ipykernel_4416/3702767029.py:17: FutureWarning: You are using `torch.load` with `weights_only=False` (the current default value), which uses the default pickle module implicitly. It is possible to construct malicious pickle data which will execute arbitrary code during unpickling (See https://github.com/pytorch/pytorch/blob/main/SECURITY.md#untrusted-models for more details). In a future release, the default value for `weights_only` will be flipped to `True`. This limits the functions that could be executed during unpickling. Arbitrary objects will no longer be allowed to be loaded via this mode unless they are explicitly allowlisted by the user via `torch.serialization.add_safe_globals`. We recommend you start setting `weights_only=True` for any use case where you don't have full control of the loaded file. Please open an issue on GitHub for any issues related to this experimental feature.\n",
      "  ckpt = torch.load(\"weights/lag-llama.ckpt\", map_location=torch.device(\"mps\" if torch.mps.is_available() else \"cpu\"))\n",
      "/Users/anthonybolton/Developer/FYP/ts-fm-benchmark-financial/lag_llama_venv/lib/python3.12/site-packages/lightning/fabric/utilities/cloud_io.py:56: You are using `torch.load` with `weights_only=False` (the current default value), which uses the default pickle module implicitly. It is possible to construct malicious pickle data which will execute arbitrary code during unpickling (See https://github.com/pytorch/pytorch/blob/main/SECURITY.md#untrusted-models for more details). In a future release, the default value for `weights_only` will be flipped to `True`. This limits the functions that could be executed during unpickling. Arbitrary objects will no longer be allowed to be loaded via this mode unless they are explicitly allowlisted by the user via `torch.serialization.add_safe_globals`. We recommend you start setting `weights_only=True` for any use case where you don't have full control of the loaded file. Please open an issue on GitHub for any issues related to this experimental feature.\n"
     ]
    },
    {
     "name": "stdout",
     "output_type": "stream",
     "text": [
      "  Forecast median = 38.04, Actual = 40.20\n",
      "\n",
      "Step 12 / 25\n",
      "  Context indices = [7722, 8842]\n",
      "  Forecast index  = 8842\n",
      "  Context date range = 2017-05-18 18:00:00 to 2017-07-04 10:00:00\n",
      "  Forecast date       = 2017-07-04 11:00:00\n",
      "1120\n",
      "2017-05-18 18:00:00\n"
     ]
    },
    {
     "name": "stderr",
     "output_type": "stream",
     "text": [
      "/var/folders/x3/lq5xm_7n0p34sd9k354_nyjh0000gn/T/ipykernel_4416/3702767029.py:17: FutureWarning: You are using `torch.load` with `weights_only=False` (the current default value), which uses the default pickle module implicitly. It is possible to construct malicious pickle data which will execute arbitrary code during unpickling (See https://github.com/pytorch/pytorch/blob/main/SECURITY.md#untrusted-models for more details). In a future release, the default value for `weights_only` will be flipped to `True`. This limits the functions that could be executed during unpickling. Arbitrary objects will no longer be allowed to be loaded via this mode unless they are explicitly allowlisted by the user via `torch.serialization.add_safe_globals`. We recommend you start setting `weights_only=True` for any use case where you don't have full control of the loaded file. Please open an issue on GitHub for any issues related to this experimental feature.\n",
      "  ckpt = torch.load(\"weights/lag-llama.ckpt\", map_location=torch.device(\"mps\" if torch.mps.is_available() else \"cpu\"))\n",
      "/Users/anthonybolton/Developer/FYP/ts-fm-benchmark-financial/lag_llama_venv/lib/python3.12/site-packages/lightning/fabric/utilities/cloud_io.py:56: You are using `torch.load` with `weights_only=False` (the current default value), which uses the default pickle module implicitly. It is possible to construct malicious pickle data which will execute arbitrary code during unpickling (See https://github.com/pytorch/pytorch/blob/main/SECURITY.md#untrusted-models for more details). In a future release, the default value for `weights_only` will be flipped to `True`. This limits the functions that could be executed during unpickling. Arbitrary objects will no longer be allowed to be loaded via this mode unless they are explicitly allowlisted by the user via `torch.serialization.add_safe_globals`. We recommend you start setting `weights_only=True` for any use case where you don't have full control of the loaded file. Please open an issue on GitHub for any issues related to this experimental feature.\n"
     ]
    },
    {
     "name": "stdout",
     "output_type": "stream",
     "text": [
      "  Forecast median = 40.36, Actual = 42.40\n",
      "\n",
      "Step 13 / 25\n",
      "  Context indices = [7723, 8843]\n",
      "  Forecast index  = 8843\n",
      "  Context date range = 2017-05-18 19:00:00 to 2017-07-04 11:00:00\n",
      "  Forecast date       = 2017-07-04 12:00:00\n",
      "1120\n",
      "2017-05-18 19:00:00\n"
     ]
    },
    {
     "name": "stderr",
     "output_type": "stream",
     "text": [
      "/var/folders/x3/lq5xm_7n0p34sd9k354_nyjh0000gn/T/ipykernel_4416/3702767029.py:17: FutureWarning: You are using `torch.load` with `weights_only=False` (the current default value), which uses the default pickle module implicitly. It is possible to construct malicious pickle data which will execute arbitrary code during unpickling (See https://github.com/pytorch/pytorch/blob/main/SECURITY.md#untrusted-models for more details). In a future release, the default value for `weights_only` will be flipped to `True`. This limits the functions that could be executed during unpickling. Arbitrary objects will no longer be allowed to be loaded via this mode unless they are explicitly allowlisted by the user via `torch.serialization.add_safe_globals`. We recommend you start setting `weights_only=True` for any use case where you don't have full control of the loaded file. Please open an issue on GitHub for any issues related to this experimental feature.\n",
      "  ckpt = torch.load(\"weights/lag-llama.ckpt\", map_location=torch.device(\"mps\" if torch.mps.is_available() else \"cpu\"))\n",
      "/Users/anthonybolton/Developer/FYP/ts-fm-benchmark-financial/lag_llama_venv/lib/python3.12/site-packages/lightning/fabric/utilities/cloud_io.py:56: You are using `torch.load` with `weights_only=False` (the current default value), which uses the default pickle module implicitly. It is possible to construct malicious pickle data which will execute arbitrary code during unpickling (See https://github.com/pytorch/pytorch/blob/main/SECURITY.md#untrusted-models for more details). In a future release, the default value for `weights_only` will be flipped to `True`. This limits the functions that could be executed during unpickling. Arbitrary objects will no longer be allowed to be loaded via this mode unless they are explicitly allowlisted by the user via `torch.serialization.add_safe_globals`. We recommend you start setting `weights_only=True` for any use case where you don't have full control of the loaded file. Please open an issue on GitHub for any issues related to this experimental feature.\n"
     ]
    },
    {
     "name": "stdout",
     "output_type": "stream",
     "text": [
      "  Forecast median = 40.59, Actual = 43.94\n",
      "\n",
      "Step 14 / 25\n",
      "  Context indices = [7724, 8844]\n",
      "  Forecast index  = 8844\n",
      "  Context date range = 2017-05-18 20:00:00 to 2017-07-04 12:00:00\n",
      "  Forecast date       = 2017-07-04 13:00:00\n",
      "1120\n",
      "2017-05-18 20:00:00\n"
     ]
    },
    {
     "name": "stderr",
     "output_type": "stream",
     "text": [
      "/var/folders/x3/lq5xm_7n0p34sd9k354_nyjh0000gn/T/ipykernel_4416/3702767029.py:17: FutureWarning: You are using `torch.load` with `weights_only=False` (the current default value), which uses the default pickle module implicitly. It is possible to construct malicious pickle data which will execute arbitrary code during unpickling (See https://github.com/pytorch/pytorch/blob/main/SECURITY.md#untrusted-models for more details). In a future release, the default value for `weights_only` will be flipped to `True`. This limits the functions that could be executed during unpickling. Arbitrary objects will no longer be allowed to be loaded via this mode unless they are explicitly allowlisted by the user via `torch.serialization.add_safe_globals`. We recommend you start setting `weights_only=True` for any use case where you don't have full control of the loaded file. Please open an issue on GitHub for any issues related to this experimental feature.\n",
      "  ckpt = torch.load(\"weights/lag-llama.ckpt\", map_location=torch.device(\"mps\" if torch.mps.is_available() else \"cpu\"))\n",
      "/Users/anthonybolton/Developer/FYP/ts-fm-benchmark-financial/lag_llama_venv/lib/python3.12/site-packages/lightning/fabric/utilities/cloud_io.py:56: You are using `torch.load` with `weights_only=False` (the current default value), which uses the default pickle module implicitly. It is possible to construct malicious pickle data which will execute arbitrary code during unpickling (See https://github.com/pytorch/pytorch/blob/main/SECURITY.md#untrusted-models for more details). In a future release, the default value for `weights_only` will be flipped to `True`. This limits the functions that could be executed during unpickling. Arbitrary objects will no longer be allowed to be loaded via this mode unless they are explicitly allowlisted by the user via `torch.serialization.add_safe_globals`. We recommend you start setting `weights_only=True` for any use case where you don't have full control of the loaded file. Please open an issue on GitHub for any issues related to this experimental feature.\n"
     ]
    },
    {
     "name": "stdout",
     "output_type": "stream",
     "text": [
      "  Forecast median = 42.12, Actual = 46.13\n",
      "\n",
      "Step 15 / 25\n",
      "  Context indices = [7725, 8845]\n",
      "  Forecast index  = 8845\n",
      "  Context date range = 2017-05-18 21:00:00 to 2017-07-04 13:00:00\n",
      "  Forecast date       = 2017-07-04 14:00:00\n",
      "1120\n",
      "2017-05-18 21:00:00\n"
     ]
    },
    {
     "name": "stderr",
     "output_type": "stream",
     "text": [
      "/var/folders/x3/lq5xm_7n0p34sd9k354_nyjh0000gn/T/ipykernel_4416/3702767029.py:17: FutureWarning: You are using `torch.load` with `weights_only=False` (the current default value), which uses the default pickle module implicitly. It is possible to construct malicious pickle data which will execute arbitrary code during unpickling (See https://github.com/pytorch/pytorch/blob/main/SECURITY.md#untrusted-models for more details). In a future release, the default value for `weights_only` will be flipped to `True`. This limits the functions that could be executed during unpickling. Arbitrary objects will no longer be allowed to be loaded via this mode unless they are explicitly allowlisted by the user via `torch.serialization.add_safe_globals`. We recommend you start setting `weights_only=True` for any use case where you don't have full control of the loaded file. Please open an issue on GitHub for any issues related to this experimental feature.\n",
      "  ckpt = torch.load(\"weights/lag-llama.ckpt\", map_location=torch.device(\"mps\" if torch.mps.is_available() else \"cpu\"))\n",
      "/Users/anthonybolton/Developer/FYP/ts-fm-benchmark-financial/lag_llama_venv/lib/python3.12/site-packages/lightning/fabric/utilities/cloud_io.py:56: You are using `torch.load` with `weights_only=False` (the current default value), which uses the default pickle module implicitly. It is possible to construct malicious pickle data which will execute arbitrary code during unpickling (See https://github.com/pytorch/pytorch/blob/main/SECURITY.md#untrusted-models for more details). In a future release, the default value for `weights_only` will be flipped to `True`. This limits the functions that could be executed during unpickling. Arbitrary objects will no longer be allowed to be loaded via this mode unless they are explicitly allowlisted by the user via `torch.serialization.add_safe_globals`. We recommend you start setting `weights_only=True` for any use case where you don't have full control of the loaded file. Please open an issue on GitHub for any issues related to this experimental feature.\n"
     ]
    },
    {
     "name": "stdout",
     "output_type": "stream",
     "text": [
      "  Forecast median = 42.09, Actual = 47.45\n",
      "\n",
      "Step 16 / 25\n",
      "  Context indices = [7726, 8846]\n",
      "  Forecast index  = 8846\n",
      "  Context date range = 2017-05-18 22:00:00 to 2017-07-04 14:00:00\n",
      "  Forecast date       = 2017-07-04 15:00:00\n",
      "1120\n",
      "2017-05-18 22:00:00\n"
     ]
    },
    {
     "name": "stderr",
     "output_type": "stream",
     "text": [
      "/var/folders/x3/lq5xm_7n0p34sd9k354_nyjh0000gn/T/ipykernel_4416/3702767029.py:17: FutureWarning: You are using `torch.load` with `weights_only=False` (the current default value), which uses the default pickle module implicitly. It is possible to construct malicious pickle data which will execute arbitrary code during unpickling (See https://github.com/pytorch/pytorch/blob/main/SECURITY.md#untrusted-models for more details). In a future release, the default value for `weights_only` will be flipped to `True`. This limits the functions that could be executed during unpickling. Arbitrary objects will no longer be allowed to be loaded via this mode unless they are explicitly allowlisted by the user via `torch.serialization.add_safe_globals`. We recommend you start setting `weights_only=True` for any use case where you don't have full control of the loaded file. Please open an issue on GitHub for any issues related to this experimental feature.\n",
      "  ckpt = torch.load(\"weights/lag-llama.ckpt\", map_location=torch.device(\"mps\" if torch.mps.is_available() else \"cpu\"))\n",
      "/Users/anthonybolton/Developer/FYP/ts-fm-benchmark-financial/lag_llama_venv/lib/python3.12/site-packages/lightning/fabric/utilities/cloud_io.py:56: You are using `torch.load` with `weights_only=False` (the current default value), which uses the default pickle module implicitly. It is possible to construct malicious pickle data which will execute arbitrary code during unpickling (See https://github.com/pytorch/pytorch/blob/main/SECURITY.md#untrusted-models for more details). In a future release, the default value for `weights_only` will be flipped to `True`. This limits the functions that could be executed during unpickling. Arbitrary objects will no longer be allowed to be loaded via this mode unless they are explicitly allowlisted by the user via `torch.serialization.add_safe_globals`. We recommend you start setting `weights_only=True` for any use case where you don't have full control of the loaded file. Please open an issue on GitHub for any issues related to this experimental feature.\n"
     ]
    },
    {
     "name": "stdout",
     "output_type": "stream",
     "text": [
      "  Forecast median = 45.70, Actual = 48.99\n",
      "\n",
      "Step 17 / 25\n",
      "  Context indices = [7727, 8847]\n",
      "  Forecast index  = 8847\n",
      "  Context date range = 2017-05-18 23:00:00 to 2017-07-04 15:00:00\n",
      "  Forecast date       = 2017-07-04 16:00:00\n",
      "1120\n",
      "2017-05-18 23:00:00\n"
     ]
    },
    {
     "name": "stderr",
     "output_type": "stream",
     "text": [
      "/var/folders/x3/lq5xm_7n0p34sd9k354_nyjh0000gn/T/ipykernel_4416/3702767029.py:17: FutureWarning: You are using `torch.load` with `weights_only=False` (the current default value), which uses the default pickle module implicitly. It is possible to construct malicious pickle data which will execute arbitrary code during unpickling (See https://github.com/pytorch/pytorch/blob/main/SECURITY.md#untrusted-models for more details). In a future release, the default value for `weights_only` will be flipped to `True`. This limits the functions that could be executed during unpickling. Arbitrary objects will no longer be allowed to be loaded via this mode unless they are explicitly allowlisted by the user via `torch.serialization.add_safe_globals`. We recommend you start setting `weights_only=True` for any use case where you don't have full control of the loaded file. Please open an issue on GitHub for any issues related to this experimental feature.\n",
      "  ckpt = torch.load(\"weights/lag-llama.ckpt\", map_location=torch.device(\"mps\" if torch.mps.is_available() else \"cpu\"))\n",
      "/Users/anthonybolton/Developer/FYP/ts-fm-benchmark-financial/lag_llama_venv/lib/python3.12/site-packages/lightning/fabric/utilities/cloud_io.py:56: You are using `torch.load` with `weights_only=False` (the current default value), which uses the default pickle module implicitly. It is possible to construct malicious pickle data which will execute arbitrary code during unpickling (See https://github.com/pytorch/pytorch/blob/main/SECURITY.md#untrusted-models for more details). In a future release, the default value for `weights_only` will be flipped to `True`. This limits the functions that could be executed during unpickling. Arbitrary objects will no longer be allowed to be loaded via this mode unless they are explicitly allowlisted by the user via `torch.serialization.add_safe_globals`. We recommend you start setting `weights_only=True` for any use case where you don't have full control of the loaded file. Please open an issue on GitHub for any issues related to this experimental feature.\n"
     ]
    },
    {
     "name": "stdout",
     "output_type": "stream",
     "text": [
      "  Forecast median = 46.64, Actual = 47.67\n",
      "\n",
      "Step 18 / 25\n",
      "  Context indices = [7728, 8848]\n",
      "  Forecast index  = 8848\n",
      "  Context date range = 2017-05-19 00:00:00 to 2017-07-04 16:00:00\n",
      "  Forecast date       = 2017-07-04 17:00:00\n",
      "1120\n",
      "2017-05-19 00:00:00\n"
     ]
    },
    {
     "name": "stderr",
     "output_type": "stream",
     "text": [
      "/var/folders/x3/lq5xm_7n0p34sd9k354_nyjh0000gn/T/ipykernel_4416/3702767029.py:17: FutureWarning: You are using `torch.load` with `weights_only=False` (the current default value), which uses the default pickle module implicitly. It is possible to construct malicious pickle data which will execute arbitrary code during unpickling (See https://github.com/pytorch/pytorch/blob/main/SECURITY.md#untrusted-models for more details). In a future release, the default value for `weights_only` will be flipped to `True`. This limits the functions that could be executed during unpickling. Arbitrary objects will no longer be allowed to be loaded via this mode unless they are explicitly allowlisted by the user via `torch.serialization.add_safe_globals`. We recommend you start setting `weights_only=True` for any use case where you don't have full control of the loaded file. Please open an issue on GitHub for any issues related to this experimental feature.\n",
      "  ckpt = torch.load(\"weights/lag-llama.ckpt\", map_location=torch.device(\"mps\" if torch.mps.is_available() else \"cpu\"))\n",
      "/Users/anthonybolton/Developer/FYP/ts-fm-benchmark-financial/lag_llama_venv/lib/python3.12/site-packages/lightning/fabric/utilities/cloud_io.py:56: You are using `torch.load` with `weights_only=False` (the current default value), which uses the default pickle module implicitly. It is possible to construct malicious pickle data which will execute arbitrary code during unpickling (See https://github.com/pytorch/pytorch/blob/main/SECURITY.md#untrusted-models for more details). In a future release, the default value for `weights_only` will be flipped to `True`. This limits the functions that could be executed during unpickling. Arbitrary objects will no longer be allowed to be loaded via this mode unless they are explicitly allowlisted by the user via `torch.serialization.add_safe_globals`. We recommend you start setting `weights_only=True` for any use case where you don't have full control of the loaded file. Please open an issue on GitHub for any issues related to this experimental feature.\n"
     ]
    },
    {
     "name": "stdout",
     "output_type": "stream",
     "text": [
      "  Forecast median = 48.10, Actual = 45.25\n",
      "\n",
      "Step 19 / 25\n",
      "  Context indices = [7729, 8849]\n",
      "  Forecast index  = 8849\n",
      "  Context date range = 2017-05-19 01:00:00 to 2017-07-04 17:00:00\n",
      "  Forecast date       = 2017-07-04 18:00:00\n",
      "1120\n",
      "2017-05-19 01:00:00\n"
     ]
    },
    {
     "name": "stderr",
     "output_type": "stream",
     "text": [
      "/var/folders/x3/lq5xm_7n0p34sd9k354_nyjh0000gn/T/ipykernel_4416/3702767029.py:17: FutureWarning: You are using `torch.load` with `weights_only=False` (the current default value), which uses the default pickle module implicitly. It is possible to construct malicious pickle data which will execute arbitrary code during unpickling (See https://github.com/pytorch/pytorch/blob/main/SECURITY.md#untrusted-models for more details). In a future release, the default value for `weights_only` will be flipped to `True`. This limits the functions that could be executed during unpickling. Arbitrary objects will no longer be allowed to be loaded via this mode unless they are explicitly allowlisted by the user via `torch.serialization.add_safe_globals`. We recommend you start setting `weights_only=True` for any use case where you don't have full control of the loaded file. Please open an issue on GitHub for any issues related to this experimental feature.\n",
      "  ckpt = torch.load(\"weights/lag-llama.ckpt\", map_location=torch.device(\"mps\" if torch.mps.is_available() else \"cpu\"))\n",
      "/Users/anthonybolton/Developer/FYP/ts-fm-benchmark-financial/lag_llama_venv/lib/python3.12/site-packages/lightning/fabric/utilities/cloud_io.py:56: You are using `torch.load` with `weights_only=False` (the current default value), which uses the default pickle module implicitly. It is possible to construct malicious pickle data which will execute arbitrary code during unpickling (See https://github.com/pytorch/pytorch/blob/main/SECURITY.md#untrusted-models for more details). In a future release, the default value for `weights_only` will be flipped to `True`. This limits the functions that could be executed during unpickling. Arbitrary objects will no longer be allowed to be loaded via this mode unless they are explicitly allowlisted by the user via `torch.serialization.add_safe_globals`. We recommend you start setting `weights_only=True` for any use case where you don't have full control of the loaded file. Please open an issue on GitHub for any issues related to this experimental feature.\n"
     ]
    },
    {
     "name": "stdout",
     "output_type": "stream",
     "text": [
      "  Forecast median = 46.64, Actual = 44.16\n",
      "\n",
      "Step 20 / 25\n",
      "  Context indices = [7730, 8850]\n",
      "  Forecast index  = 8850\n",
      "  Context date range = 2017-05-19 02:00:00 to 2017-07-04 18:00:00\n",
      "  Forecast date       = 2017-07-04 19:00:00\n",
      "1120\n",
      "2017-05-19 02:00:00\n"
     ]
    },
    {
     "name": "stderr",
     "output_type": "stream",
     "text": [
      "/var/folders/x3/lq5xm_7n0p34sd9k354_nyjh0000gn/T/ipykernel_4416/3702767029.py:17: FutureWarning: You are using `torch.load` with `weights_only=False` (the current default value), which uses the default pickle module implicitly. It is possible to construct malicious pickle data which will execute arbitrary code during unpickling (See https://github.com/pytorch/pytorch/blob/main/SECURITY.md#untrusted-models for more details). In a future release, the default value for `weights_only` will be flipped to `True`. This limits the functions that could be executed during unpickling. Arbitrary objects will no longer be allowed to be loaded via this mode unless they are explicitly allowlisted by the user via `torch.serialization.add_safe_globals`. We recommend you start setting `weights_only=True` for any use case where you don't have full control of the loaded file. Please open an issue on GitHub for any issues related to this experimental feature.\n",
      "  ckpt = torch.load(\"weights/lag-llama.ckpt\", map_location=torch.device(\"mps\" if torch.mps.is_available() else \"cpu\"))\n",
      "/Users/anthonybolton/Developer/FYP/ts-fm-benchmark-financial/lag_llama_venv/lib/python3.12/site-packages/lightning/fabric/utilities/cloud_io.py:56: You are using `torch.load` with `weights_only=False` (the current default value), which uses the default pickle module implicitly. It is possible to construct malicious pickle data which will execute arbitrary code during unpickling (See https://github.com/pytorch/pytorch/blob/main/SECURITY.md#untrusted-models for more details). In a future release, the default value for `weights_only` will be flipped to `True`. This limits the functions that could be executed during unpickling. Arbitrary objects will no longer be allowed to be loaded via this mode unless they are explicitly allowlisted by the user via `torch.serialization.add_safe_globals`. We recommend you start setting `weights_only=True` for any use case where you don't have full control of the loaded file. Please open an issue on GitHub for any issues related to this experimental feature.\n"
     ]
    },
    {
     "name": "stdout",
     "output_type": "stream",
     "text": [
      "  Forecast median = 43.68, Actual = 43.28\n",
      "\n",
      "Step 21 / 25\n",
      "  Context indices = [7731, 8851]\n",
      "  Forecast index  = 8851\n",
      "  Context date range = 2017-05-19 03:00:00 to 2017-07-04 19:00:00\n",
      "  Forecast date       = 2017-07-04 20:00:00\n",
      "1120\n",
      "2017-05-19 03:00:00\n"
     ]
    },
    {
     "name": "stderr",
     "output_type": "stream",
     "text": [
      "/var/folders/x3/lq5xm_7n0p34sd9k354_nyjh0000gn/T/ipykernel_4416/3702767029.py:17: FutureWarning: You are using `torch.load` with `weights_only=False` (the current default value), which uses the default pickle module implicitly. It is possible to construct malicious pickle data which will execute arbitrary code during unpickling (See https://github.com/pytorch/pytorch/blob/main/SECURITY.md#untrusted-models for more details). In a future release, the default value for `weights_only` will be flipped to `True`. This limits the functions that could be executed during unpickling. Arbitrary objects will no longer be allowed to be loaded via this mode unless they are explicitly allowlisted by the user via `torch.serialization.add_safe_globals`. We recommend you start setting `weights_only=True` for any use case where you don't have full control of the loaded file. Please open an issue on GitHub for any issues related to this experimental feature.\n",
      "  ckpt = torch.load(\"weights/lag-llama.ckpt\", map_location=torch.device(\"mps\" if torch.mps.is_available() else \"cpu\"))\n",
      "/Users/anthonybolton/Developer/FYP/ts-fm-benchmark-financial/lag_llama_venv/lib/python3.12/site-packages/lightning/fabric/utilities/cloud_io.py:56: You are using `torch.load` with `weights_only=False` (the current default value), which uses the default pickle module implicitly. It is possible to construct malicious pickle data which will execute arbitrary code during unpickling (See https://github.com/pytorch/pytorch/blob/main/SECURITY.md#untrusted-models for more details). In a future release, the default value for `weights_only` will be flipped to `True`. This limits the functions that could be executed during unpickling. Arbitrary objects will no longer be allowed to be loaded via this mode unless they are explicitly allowlisted by the user via `torch.serialization.add_safe_globals`. We recommend you start setting `weights_only=True` for any use case where you don't have full control of the loaded file. Please open an issue on GitHub for any issues related to this experimental feature.\n"
     ]
    },
    {
     "name": "stdout",
     "output_type": "stream",
     "text": [
      "  Forecast median = 42.17, Actual = 41.96\n",
      "\n",
      "Step 22 / 25\n",
      "  Context indices = [7732, 8852]\n",
      "  Forecast index  = 8852\n",
      "  Context date range = 2017-05-19 04:00:00 to 2017-07-04 20:00:00\n",
      "  Forecast date       = 2017-07-04 21:00:00\n",
      "1120\n",
      "2017-05-19 04:00:00\n"
     ]
    },
    {
     "name": "stderr",
     "output_type": "stream",
     "text": [
      "/var/folders/x3/lq5xm_7n0p34sd9k354_nyjh0000gn/T/ipykernel_4416/3702767029.py:17: FutureWarning: You are using `torch.load` with `weights_only=False` (the current default value), which uses the default pickle module implicitly. It is possible to construct malicious pickle data which will execute arbitrary code during unpickling (See https://github.com/pytorch/pytorch/blob/main/SECURITY.md#untrusted-models for more details). In a future release, the default value for `weights_only` will be flipped to `True`. This limits the functions that could be executed during unpickling. Arbitrary objects will no longer be allowed to be loaded via this mode unless they are explicitly allowlisted by the user via `torch.serialization.add_safe_globals`. We recommend you start setting `weights_only=True` for any use case where you don't have full control of the loaded file. Please open an issue on GitHub for any issues related to this experimental feature.\n",
      "  ckpt = torch.load(\"weights/lag-llama.ckpt\", map_location=torch.device(\"mps\" if torch.mps.is_available() else \"cpu\"))\n",
      "/Users/anthonybolton/Developer/FYP/ts-fm-benchmark-financial/lag_llama_venv/lib/python3.12/site-packages/lightning/fabric/utilities/cloud_io.py:56: You are using `torch.load` with `weights_only=False` (the current default value), which uses the default pickle module implicitly. It is possible to construct malicious pickle data which will execute arbitrary code during unpickling (See https://github.com/pytorch/pytorch/blob/main/SECURITY.md#untrusted-models for more details). In a future release, the default value for `weights_only` will be flipped to `True`. This limits the functions that could be executed during unpickling. Arbitrary objects will no longer be allowed to be loaded via this mode unless they are explicitly allowlisted by the user via `torch.serialization.add_safe_globals`. We recommend you start setting `weights_only=True` for any use case where you don't have full control of the loaded file. Please open an issue on GitHub for any issues related to this experimental feature.\n"
     ]
    },
    {
     "name": "stdout",
     "output_type": "stream",
     "text": [
      "  Forecast median = 41.73, Actual = 41.08\n",
      "\n",
      "Step 23 / 25\n",
      "  Context indices = [7733, 8853]\n",
      "  Forecast index  = 8853\n",
      "  Context date range = 2017-05-19 05:00:00 to 2017-07-04 21:00:00\n",
      "  Forecast date       = 2017-07-04 22:00:00\n",
      "1120\n",
      "2017-05-19 05:00:00\n"
     ]
    },
    {
     "name": "stderr",
     "output_type": "stream",
     "text": [
      "/var/folders/x3/lq5xm_7n0p34sd9k354_nyjh0000gn/T/ipykernel_4416/3702767029.py:17: FutureWarning: You are using `torch.load` with `weights_only=False` (the current default value), which uses the default pickle module implicitly. It is possible to construct malicious pickle data which will execute arbitrary code during unpickling (See https://github.com/pytorch/pytorch/blob/main/SECURITY.md#untrusted-models for more details). In a future release, the default value for `weights_only` will be flipped to `True`. This limits the functions that could be executed during unpickling. Arbitrary objects will no longer be allowed to be loaded via this mode unless they are explicitly allowlisted by the user via `torch.serialization.add_safe_globals`. We recommend you start setting `weights_only=True` for any use case where you don't have full control of the loaded file. Please open an issue on GitHub for any issues related to this experimental feature.\n",
      "  ckpt = torch.load(\"weights/lag-llama.ckpt\", map_location=torch.device(\"mps\" if torch.mps.is_available() else \"cpu\"))\n",
      "/Users/anthonybolton/Developer/FYP/ts-fm-benchmark-financial/lag_llama_venv/lib/python3.12/site-packages/lightning/fabric/utilities/cloud_io.py:56: You are using `torch.load` with `weights_only=False` (the current default value), which uses the default pickle module implicitly. It is possible to construct malicious pickle data which will execute arbitrary code during unpickling (See https://github.com/pytorch/pytorch/blob/main/SECURITY.md#untrusted-models for more details). In a future release, the default value for `weights_only` will be flipped to `True`. This limits the functions that could be executed during unpickling. Arbitrary objects will no longer be allowed to be loaded via this mode unless they are explicitly allowlisted by the user via `torch.serialization.add_safe_globals`. We recommend you start setting `weights_only=True` for any use case where you don't have full control of the loaded file. Please open an issue on GitHub for any issues related to this experimental feature.\n"
     ]
    },
    {
     "name": "stdout",
     "output_type": "stream",
     "text": [
      "  Forecast median = 41.38, Actual = 40.20\n",
      "\n",
      "Step 24 / 25\n",
      "  Context indices = [7734, 8854]\n",
      "  Forecast index  = 8854\n",
      "  Context date range = 2017-05-19 06:00:00 to 2017-07-04 22:00:00\n",
      "  Forecast date       = 2017-07-04 23:00:00\n",
      "1120\n",
      "2017-05-19 06:00:00\n"
     ]
    },
    {
     "name": "stderr",
     "output_type": "stream",
     "text": [
      "/var/folders/x3/lq5xm_7n0p34sd9k354_nyjh0000gn/T/ipykernel_4416/3702767029.py:17: FutureWarning: You are using `torch.load` with `weights_only=False` (the current default value), which uses the default pickle module implicitly. It is possible to construct malicious pickle data which will execute arbitrary code during unpickling (See https://github.com/pytorch/pytorch/blob/main/SECURITY.md#untrusted-models for more details). In a future release, the default value for `weights_only` will be flipped to `True`. This limits the functions that could be executed during unpickling. Arbitrary objects will no longer be allowed to be loaded via this mode unless they are explicitly allowlisted by the user via `torch.serialization.add_safe_globals`. We recommend you start setting `weights_only=True` for any use case where you don't have full control of the loaded file. Please open an issue on GitHub for any issues related to this experimental feature.\n",
      "  ckpt = torch.load(\"weights/lag-llama.ckpt\", map_location=torch.device(\"mps\" if torch.mps.is_available() else \"cpu\"))\n",
      "/Users/anthonybolton/Developer/FYP/ts-fm-benchmark-financial/lag_llama_venv/lib/python3.12/site-packages/lightning/fabric/utilities/cloud_io.py:56: You are using `torch.load` with `weights_only=False` (the current default value), which uses the default pickle module implicitly. It is possible to construct malicious pickle data which will execute arbitrary code during unpickling (See https://github.com/pytorch/pytorch/blob/main/SECURITY.md#untrusted-models for more details). In a future release, the default value for `weights_only` will be flipped to `True`. This limits the functions that could be executed during unpickling. Arbitrary objects will no longer be allowed to be loaded via this mode unless they are explicitly allowlisted by the user via `torch.serialization.add_safe_globals`. We recommend you start setting `weights_only=True` for any use case where you don't have full control of the loaded file. Please open an issue on GitHub for any issues related to this experimental feature.\n"
     ]
    },
    {
     "name": "stdout",
     "output_type": "stream",
     "text": [
      "  Forecast median = 40.29, Actual = 39.76\n",
      "\n",
      "Step 25 / 25\n",
      "  Context indices = [7735, 8855]\n",
      "  Forecast index  = 8855\n",
      "  Context date range = 2017-05-19 07:00:00 to 2017-07-04 23:00:00\n",
      "  Forecast date       = 2017-07-05 00:00:00\n",
      "1120\n",
      "2017-05-19 07:00:00\n"
     ]
    },
    {
     "name": "stderr",
     "output_type": "stream",
     "text": [
      "/var/folders/x3/lq5xm_7n0p34sd9k354_nyjh0000gn/T/ipykernel_4416/3702767029.py:17: FutureWarning: You are using `torch.load` with `weights_only=False` (the current default value), which uses the default pickle module implicitly. It is possible to construct malicious pickle data which will execute arbitrary code during unpickling (See https://github.com/pytorch/pytorch/blob/main/SECURITY.md#untrusted-models for more details). In a future release, the default value for `weights_only` will be flipped to `True`. This limits the functions that could be executed during unpickling. Arbitrary objects will no longer be allowed to be loaded via this mode unless they are explicitly allowlisted by the user via `torch.serialization.add_safe_globals`. We recommend you start setting `weights_only=True` for any use case where you don't have full control of the loaded file. Please open an issue on GitHub for any issues related to this experimental feature.\n",
      "  ckpt = torch.load(\"weights/lag-llama.ckpt\", map_location=torch.device(\"mps\" if torch.mps.is_available() else \"cpu\"))\n",
      "/Users/anthonybolton/Developer/FYP/ts-fm-benchmark-financial/lag_llama_venv/lib/python3.12/site-packages/lightning/fabric/utilities/cloud_io.py:56: You are using `torch.load` with `weights_only=False` (the current default value), which uses the default pickle module implicitly. It is possible to construct malicious pickle data which will execute arbitrary code during unpickling (See https://github.com/pytorch/pytorch/blob/main/SECURITY.md#untrusted-models for more details). In a future release, the default value for `weights_only` will be flipped to `True`. This limits the functions that could be executed during unpickling. Arbitrary objects will no longer be allowed to be loaded via this mode unless they are explicitly allowlisted by the user via `torch.serialization.add_safe_globals`. We recommend you start setting `weights_only=True` for any use case where you don't have full control of the loaded file. Please open an issue on GitHub for any issues related to this experimental feature.\n"
     ]
    },
    {
     "name": "stdout",
     "output_type": "stream",
     "text": [
      "  Forecast median = 40.18, Actual = 39.32\n",
      "\n",
      "Sliding Window Forecast Metrics:\n",
      "MAE: 0.9686\n",
      "MSE: 1.7590\n",
      "RMSE: 1.3263\n",
      "MAPE: 2.2996\n",
      "SMAPE: 2.3322\n",
      "MASE: N/A\n"
     ]
    },
    {
     "data": {
      "image/png": "[encoded data removed]",
      "text/plain": [
       "<Figure size 1000x600 with 1 Axes>"
      ]
     },
     "metadata": {},
     "output_type": "display_data"
    }
   ],
   "source": [
    "CONTEXT_WINDOW = 1120\n",
    "FORECAST_STEPS = 25 \n",
    "\n",
    "# target_date = pd.Timestamp('2017-06-27 00:00:00')\n",
    "# target_date = pd.Timestamp('2017-06-29 00:00:00')\n",
    "target_date = pd.Timestamp('2017-07-04 00:00:00')\n",
    "start_idx = etth2[etth2['date'] < target_date].index[-1]\n",
    "print(f\"Start index: {start_idx}\")\n",
    "# Generate forecasts using sliding window\n",
    "forecasts = generate_sliding_window_forecasts(etth2, start_idx)\n",
    "\n",
    "actual_values = etth2['OT'].iloc[start_idx:start_idx + FORECAST_STEPS].values\n",
    "metrics = calculate_sliding_window_metrics(actual_values, forecasts['median'])\n",
    "\n",
    "print(\"\\nSliding Window Forecast Metrics:\")\n",
    "for metric_name, value in metrics.items():\n",
    "    if value is not None:\n",
    "        print(f\"{metric_name}: {value:.4f}\")\n",
    "    else:\n",
    "        print(f\"{metric_name}: N/A\")\n",
    "\n",
    "plot_forecast_with_sliding_window(etth2, start_idx, forecasts)"
   ]
  }
 ],
 "metadata": {
  "kernelspec": {
   "display_name": "lag_llama_venv",
   "language": "python",
   "name": "python3"
  },
  "language_info": {
   "codemirror_mode": {
    "name": "ipython",
    "version": 3
   },
   "file_extension": ".py",
   "mimetype": "text/x-python",
   "name": "python",
   "nbconvert_exporter": "python",
   "pygments_lexer": "ipython3",
   "version": "3.12.4"
  }
 },
 "nbformat": 4,
 "nbformat_minor": 2
}
