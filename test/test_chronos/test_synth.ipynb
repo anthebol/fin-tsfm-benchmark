{
 "cells": [
  {
   "cell_type": "code",
   "execution_count": 3,
   "metadata": {},
   "outputs": [
    {
     "name": "stdout",
     "output_type": "stream",
     "text": [
      "Final sys.path: ['/Users/anthonybolton/Developer/FYP/ts-fm-benchmark-financial/test/test_chronos', '/opt/anaconda3/lib/python312.zip', '/opt/anaconda3/lib/python3.12', '/opt/anaconda3/lib/python3.12/lib-dynload', '', '/opt/anaconda3/lib/python3.12/site-packages', '__editable__.lag_llama-0.1.0.finder.__path_hook__', '/opt/anaconda3/lib/python3.12/site-packages/aeosa', '/opt/anaconda3/lib/python3.12/site-packages/setuptools/_vendor', '/Users/anthonybolton/Developer/FYP/ts-fm-benchmark-financial']\n"
     ]
    }
   ],
   "source": [
    "import os\n",
    "import sys\n",
    "\n",
    "data_path = os.path.abspath(os.path.join(os.getcwd(), '../..'))\n",
    "if data_path not in sys.path:\n",
    "    sys.path.append(data_path)\n",
    "\n",
    "print(\"Final sys.path:\", sys.path)"
   ]
  },
  {
   "cell_type": "code",
   "execution_count": 4,
   "metadata": {},
   "outputs": [
    {
     "ename": "ModuleNotFoundError",
     "evalue": "No module named 'data.synthetic'",
     "output_type": "error",
     "traceback": [
      "\u001b[0;31m---------------------------------------------------------------------------\u001b[0m",
      "\u001b[0;31mModuleNotFoundError\u001b[0m                       Traceback (most recent call last)",
      "Cell \u001b[0;32mIn[4], line 1\u001b[0m\n\u001b[0;32m----> 1\u001b[0m \u001b[38;5;28;01mfrom\u001b[39;00m \u001b[38;5;21;01mdata\u001b[39;00m\u001b[38;5;21;01m.\u001b[39;00m\u001b[38;5;21;01msynthetic\u001b[39;00m\u001b[38;5;21;01m.\u001b[39;00m\u001b[38;5;21;01mnonstationary\u001b[39;00m \u001b[38;5;28;01mimport\u001b[39;00m TrendGenerator\n",
      "\u001b[0;31mModuleNotFoundError\u001b[0m: No module named 'data.synthetic'"
     ]
    }
   ],
   "source": [
    "from data.synthetic.nonstationary import TrendGenerator"
   ]
  },
  {
   "cell_type": "code",
   "execution_count": 2,
   "metadata": {},
   "outputs": [
    {
     "name": "stdout",
     "output_type": "stream",
     "text": [
      "\u001b[33mWARNING: Ignoring invalid distribution ~orch (/opt/anaconda3/lib/python3.12/site-packages)\u001b[0m\u001b[33m\n",
      "\u001b[0m\u001b[33mWARNING: Ignoring invalid distribution ~orch (/opt/anaconda3/lib/python3.12/site-packages)\u001b[0m\u001b[33m\n",
      "\u001b[0mCollecting git+https://github.com/amazon-science/chronos-forecasting.git\n",
      "  Cloning https://github.com/amazon-science/chronos-forecasting.git to /private/var/folders/x3/lq5xm_7n0p34sd9k354_nyjh0000gn/T/pip-req-build-w71jttet\n",
      "  Running command git clone --filter=blob:none --quiet https://github.com/amazon-science/chronos-forecasting.git /private/var/folders/x3/lq5xm_7n0p34sd9k354_nyjh0000gn/T/pip-req-build-w71jttet\n",
      "  Resolved https://github.com/amazon-science/chronos-forecasting.git to commit eec771e3394c7b92e0641767aab9316043918363\n",
      "  Installing build dependencies ... \u001b[?25ldone\n",
      "\u001b[?25h  Getting requirements to build wheel ... \u001b[?25ldone\n",
      "\u001b[?25h  Preparing metadata (pyproject.toml) ... \u001b[?25ldone\n",
      "\u001b[?25hRequirement already satisfied: accelerate<1,>=0.32 in /opt/anaconda3/lib/python3.12/site-packages (from chronos-forecasting==1.5.0) (0.34.2)\n",
      "Requirement already satisfied: torch<3,>=2.0 in /opt/anaconda3/lib/python3.12/site-packages (from chronos-forecasting==1.5.0) (2.5.1)\n",
      "Requirement already satisfied: transformers<5,>=4.48 in /opt/anaconda3/lib/python3.12/site-packages (from chronos-forecasting==1.5.0) (4.48.3)\n",
      "Requirement already satisfied: numpy<3.0.0,>=1.17 in /opt/anaconda3/lib/python3.12/site-packages (from accelerate<1,>=0.32->chronos-forecasting==1.5.0) (1.26.4)\n",
      "Requirement already satisfied: packaging>=20.0 in /opt/anaconda3/lib/python3.12/site-packages (from accelerate<1,>=0.32->chronos-forecasting==1.5.0) (23.2)\n",
      "Requirement already satisfied: psutil in /opt/anaconda3/lib/python3.12/site-packages (from accelerate<1,>=0.32->chronos-forecasting==1.5.0) (5.9.0)\n",
      "Requirement already satisfied: pyyaml in /opt/anaconda3/lib/python3.12/site-packages (from accelerate<1,>=0.32->chronos-forecasting==1.5.0) (6.0.1)\n",
      "Requirement already satisfied: huggingface-hub>=0.21.0 in /opt/anaconda3/lib/python3.12/site-packages (from accelerate<1,>=0.32->chronos-forecasting==1.5.0) (0.27.0)\n",
      "Requirement already satisfied: safetensors>=0.4.3 in /opt/anaconda3/lib/python3.12/site-packages (from accelerate<1,>=0.32->chronos-forecasting==1.5.0) (0.4.5)\n",
      "Requirement already satisfied: filelock in /opt/anaconda3/lib/python3.12/site-packages (from torch<3,>=2.0->chronos-forecasting==1.5.0) (3.13.1)\n",
      "Requirement already satisfied: typing-extensions>=4.8.0 in /opt/anaconda3/lib/python3.12/site-packages (from torch<3,>=2.0->chronos-forecasting==1.5.0) (4.12.2)\n",
      "Requirement already satisfied: networkx in /opt/anaconda3/lib/python3.12/site-packages (from torch<3,>=2.0->chronos-forecasting==1.5.0) (3.2.1)\n",
      "Requirement already satisfied: jinja2 in /opt/anaconda3/lib/python3.12/site-packages (from torch<3,>=2.0->chronos-forecasting==1.5.0) (3.1.4)\n",
      "Requirement already satisfied: fsspec in /opt/anaconda3/lib/python3.12/site-packages (from torch<3,>=2.0->chronos-forecasting==1.5.0) (2023.10.0)\n",
      "Requirement already satisfied: setuptools in /opt/anaconda3/lib/python3.12/site-packages (from torch<3,>=2.0->chronos-forecasting==1.5.0) (75.7.0)\n",
      "Requirement already satisfied: sympy==1.13.1 in /opt/anaconda3/lib/python3.12/site-packages (from torch<3,>=2.0->chronos-forecasting==1.5.0) (1.13.1)\n",
      "Requirement already satisfied: mpmath<1.4,>=1.1.0 in /opt/anaconda3/lib/python3.12/site-packages (from sympy==1.13.1->torch<3,>=2.0->chronos-forecasting==1.5.0) (1.3.0)\n",
      "Requirement already satisfied: regex!=2019.12.17 in /opt/anaconda3/lib/python3.12/site-packages (from transformers<5,>=4.48->chronos-forecasting==1.5.0) (2023.10.3)\n",
      "Requirement already satisfied: requests in /opt/anaconda3/lib/python3.12/site-packages (from transformers<5,>=4.48->chronos-forecasting==1.5.0) (2.32.2)\n",
      "Requirement already satisfied: tokenizers<0.22,>=0.21 in /opt/anaconda3/lib/python3.12/site-packages (from transformers<5,>=4.48->chronos-forecasting==1.5.0) (0.21.0)\n",
      "Requirement already satisfied: tqdm>=4.27 in /opt/anaconda3/lib/python3.12/site-packages (from transformers<5,>=4.48->chronos-forecasting==1.5.0) (4.66.4)\n",
      "Requirement already satisfied: MarkupSafe>=2.0 in /opt/anaconda3/lib/python3.12/site-packages (from jinja2->torch<3,>=2.0->chronos-forecasting==1.5.0) (2.1.3)\n",
      "Requirement already satisfied: charset-normalizer<4,>=2 in /opt/anaconda3/lib/python3.12/site-packages (from requests->transformers<5,>=4.48->chronos-forecasting==1.5.0) (2.0.4)\n",
      "Requirement already satisfied: idna<4,>=2.5 in /opt/anaconda3/lib/python3.12/site-packages (from requests->transformers<5,>=4.48->chronos-forecasting==1.5.0) (3.7)\n",
      "Requirement already satisfied: urllib3<3,>=1.21.1 in /opt/anaconda3/lib/python3.12/site-packages (from requests->transformers<5,>=4.48->chronos-forecasting==1.5.0) (1.26.20)\n",
      "Requirement already satisfied: certifi>=2017.4.17 in /opt/anaconda3/lib/python3.12/site-packages (from requests->transformers<5,>=4.48->chronos-forecasting==1.5.0) (2024.8.30)\n",
      "\u001b[33mWARNING: Ignoring invalid distribution ~orch (/opt/anaconda3/lib/python3.12/site-packages)\u001b[0m\u001b[33m\n",
      "\u001b[0m\u001b[33mWARNING: Ignoring invalid distribution ~orch (/opt/anaconda3/lib/python3.12/site-packages)\u001b[0m\u001b[33m\n",
      "\u001b[0m\u001b[33mWARNING: Ignoring invalid distribution ~orch (/opt/anaconda3/lib/python3.12/site-packages)\u001b[0m\u001b[33m\n",
      "\u001b[0m\u001b[33mWARNING: Ignoring invalid distribution ~orch (/opt/anaconda3/lib/python3.12/site-packages)\u001b[0m\u001b[33m\n",
      "\u001b[0mNote: you may need to restart the kernel to use updated packages.\n"
     ]
    }
   ],
   "source": [
    "pip install git+https://github.com/amazon-science/chronos-forecasting.git"
   ]
  },
  {
   "cell_type": "code",
   "execution_count": 3,
   "metadata": {},
   "outputs": [],
   "source": [
    "import matplotlib.pyplot as plt\n",
    "\n",
    "# ======================\n",
    "# Finalized Forecasting Plot Function\n",
    "# ======================\n",
    "\n",
    "plt.style.use(\"seaborn-v0_8-whitegrid\")\n",
    "plt.rcParams[\"figure.dpi\"] = 300\n",
    "plt.rcParams[\"savefig.dpi\"] = 400\n",
    "plt.rcParams[\"figure.figsize\"] = (14, 8)\n",
    "\n",
    "custom_palette = {\n",
    "    \"historical\": \"#333333\",           # dark grey \n",
    "    \"ground_truth\": \"#0077CC\",         # bright blue \n",
    "    \"forecast\": \"#FFA500\",             # orange\n",
    "    \"prediction_interval\": \"#FF7F0E\",  # bright orange\n",
    "}\n",
    "\n",
    "\n",
    "def plot_forecasts(data, start_idx, forecasts, method, historical_window, FORECAST_STEPS):\n",
    "    \"\"\"Plot forecasting results with historical data, ground truth, and model predictions.\"\"\"\n",
    "\n",
    "    fig, ax = plt.subplots()\n",
    "\n",
    "    # Historical data (context window before forecast start)\n",
    "    context_data = data.iloc[start_idx - historical_window : start_idx + 1]\n",
    "    ax.plot(\n",
    "        context_data[\"Date\"],\n",
    "        context_data[\"Close\"],\n",
    "        label=\"Historical Data\",\n",
    "        color=custom_palette[\"historical\"],\n",
    "        linewidth=1.75,\n",
    "    )\n",
    "\n",
    "    # Ground truth for the forecast period\n",
    "    actual_data = data.iloc[start_idx : start_idx + FORECAST_STEPS]\n",
    "    ax.plot(\n",
    "        actual_data[\"Date\"],\n",
    "        actual_data[\"Close\"],\n",
    "        label=\"Ground Truth\",\n",
    "        color=custom_palette[\"ground_truth\"],\n",
    "        linewidth=1.75,\n",
    "    )\n",
    "\n",
    "    # Forecast median and uncertainty band\n",
    "    ax.plot(\n",
    "        forecasts[\"dates\"],\n",
    "        forecasts[\"median\"],\n",
    "        label=f\"Prediction\",\n",
    "        color=custom_palette[\"forecast\"],\n",
    "        linewidth=1.75,\n",
    "    )\n",
    "    ax.fill_between(\n",
    "        forecasts[\"dates\"],\n",
    "        forecasts[\"low\"],\n",
    "        forecasts[\"high\"],\n",
    "        color=custom_palette[\"forecast\"],\n",
    "        alpha=0.4,\n",
    "    )\n",
    "\n",
    "    # Labels and title\n",
    "    ax.set_xlabel(\"Time\", fontsize=12)\n",
    "    ax.set_ylabel(\"Value\", fontsize=12)\n",
    "    ax.set_title(\n",
    "        f\"{method}\",\n",
    "        fontsize=14,\n",
    "    )\n",
    "\n",
    "    # Tick formatting\n",
    "    plt.xticks(rotation=45, fontsize=10)\n",
    "    plt.yticks(fontsize=10)\n",
    "\n",
    "    # Legend\n",
    "    ax.legend(fontsize=10, frameon=True)\n",
    "\n",
    "    # Grid and layout\n",
    "    ax.grid(True, alpha=0.3)\n",
    "    plt.tight_layout()\n",
    "    plt.show()"
   ]
  },
  {
   "cell_type": "code",
   "execution_count": 4,
   "metadata": {},
   "outputs": [],
   "source": [
    "import pandas as pd\n",
    "import numpy as np\n",
    "from datetime import datetime, timedelta\n",
    "\n",
    "def convert_synthetic_to_dataframe(synthetic_data):\n",
    "    \"\"\"\n",
    "    Convert synthetic data to a simple DataFrame with Date and Close columns\n",
    "    \n",
    "    Args:\n",
    "        synthetic_data: Output from generator's generate() method (numpy array)\n",
    "        \n",
    "    Returns:\n",
    "        pandas DataFrame with Date and Close columns\n",
    "    \"\"\"\n",
    "    # Extract the first sample\n",
    "    series = synthetic_data[0]\n",
    "    \n",
    "    # Create dates (daily, starting from today going backwards)\n",
    "    end_date = datetime.now()\n",
    "    dates = [end_date - timedelta(days=i) for i in range(len(series))]\n",
    "    dates.reverse()  # So they go from past to present\n",
    "    \n",
    "    # Create DataFrame with just Date and Close columns\n",
    "    df = pd.DataFrame({\n",
    "        'Date': dates,\n",
    "        'Close': series\n",
    "    })\n",
    "    \n",
    "    return df"
   ]
  },
  {
   "cell_type": "code",
   "execution_count": 5,
   "metadata": {},
   "outputs": [
    {
     "ename": "ModuleNotFoundError",
     "evalue": "No module named 'base'",
     "output_type": "error",
     "traceback": [
      "\u001b[0;31m---------------------------------------------------------------------------\u001b[0m",
      "\u001b[0;31mModuleNotFoundError\u001b[0m                       Traceback (most recent call last)",
      "Cell \u001b[0;32mIn[5], line 1\u001b[0m\n\u001b[0;32m----> 1\u001b[0m \u001b[38;5;28;01mfrom\u001b[39;00m \u001b[38;5;21;01mdata\u001b[39;00m\u001b[38;5;21;01m.\u001b[39;00m\u001b[38;5;21;01msynthetic\u001b[39;00m\u001b[38;5;21;01m.\u001b[39;00m\u001b[38;5;21;01mstationary\u001b[39;00m \u001b[38;5;28;01mimport\u001b[39;00m SineWaveGenerator\n\u001b[1;32m      3\u001b[0m sine_gen \u001b[38;5;241m=\u001b[39m SineWaveGenerator(\n\u001b[1;32m      4\u001b[0m     seq_length\u001b[38;5;241m=\u001b[39m\u001b[38;5;241m2000\u001b[39m,  \u001b[38;5;66;03m# Make sure this is >= CONTEXT_WINDOW + FORECAST_STEPS\u001b[39;00m\n\u001b[1;32m      5\u001b[0m     num_samples\u001b[38;5;241m=\u001b[39m\u001b[38;5;241m1\u001b[39m,\n\u001b[1;32m      6\u001b[0m     freq\u001b[38;5;241m=\u001b[39m\u001b[38;5;241m0.05\u001b[39m,\n\u001b[1;32m      7\u001b[0m     amplitude\u001b[38;5;241m=\u001b[39m\u001b[38;5;241m1.0\u001b[39m\n\u001b[1;32m      8\u001b[0m )\n\u001b[1;32m      9\u001b[0m sine_data \u001b[38;5;241m=\u001b[39m sine_gen\u001b[38;5;241m.\u001b[39mgenerate()\n",
      "File \u001b[0;32m~/Developer/FYP/ts-fm-benchmark-financial/data/synthetic/stationary.py:3\u001b[0m\n\u001b[1;32m      1\u001b[0m \u001b[38;5;28;01mimport\u001b[39;00m \u001b[38;5;21;01mnumpy\u001b[39;00m \u001b[38;5;28;01mas\u001b[39;00m \u001b[38;5;21;01mnp\u001b[39;00m\n\u001b[0;32m----> 3\u001b[0m \u001b[38;5;28;01mfrom\u001b[39;00m \u001b[38;5;21;01mbase\u001b[39;00m \u001b[38;5;28;01mimport\u001b[39;00m TimeSeriesGenerator\n\u001b[1;32m      6\u001b[0m \u001b[38;5;28;01mclass\u001b[39;00m \u001b[38;5;21;01mSineWaveGenerator\u001b[39;00m(TimeSeriesGenerator):\n\u001b[1;32m      7\u001b[0m \u001b[38;5;250m    \u001b[39m\u001b[38;5;124;03m\"\"\"Generator for pure sine wave data\"\"\"\u001b[39;00m\n",
      "\u001b[0;31mModuleNotFoundError\u001b[0m: No module named 'base'"
     ]
    }
   ],
   "source": [
    "from data.synthetic.stationary import SineWaveGenerator\n",
    "\n",
    "sine_gen = SineWaveGenerator(\n",
    "    seq_length=2000,  # Make sure this is >= CONTEXT_WINDOW + FORECAST_STEPS\n",
    "    num_samples=1,\n",
    "    freq=0.05,\n",
    "    amplitude=1.0\n",
    ")\n",
    "sine_data = sine_gen.generate()\n",
    "\n",
    "sine_df = convert_synthetic_to_dataframe(sine_data)"
   ]
  },
  {
   "cell_type": "code",
   "execution_count": 2,
   "metadata": {},
   "outputs": [
    {
     "ename": "ModuleNotFoundError",
     "evalue": "No module named 'data.synthetic'",
     "output_type": "error",
     "traceback": [
      "\u001b[0;31m---------------------------------------------------------------------------\u001b[0m",
      "\u001b[0;31mModuleNotFoundError\u001b[0m                       Traceback (most recent call last)",
      "Cell \u001b[0;32mIn[2], line 1\u001b[0m\n\u001b[0;32m----> 1\u001b[0m \u001b[38;5;28;01mfrom\u001b[39;00m \u001b[38;5;21;01mdata\u001b[39;00m\u001b[38;5;21;01m.\u001b[39;00m\u001b[38;5;21;01msynthetic\u001b[39;00m\u001b[38;5;21;01m.\u001b[39;00m\u001b[38;5;21;01mnonstationary\u001b[39;00m \u001b[38;5;28;01mimport\u001b[39;00m TrendGenerator\n",
      "\u001b[0;31mModuleNotFoundError\u001b[0m: No module named 'data.synthetic'"
     ]
    }
   ],
   "source": [
    "from data.synthetic.nonstationary import TrendGenerator"
   ]
  }
 ],
 "metadata": {
  "kernelspec": {
   "display_name": "base",
   "language": "python",
   "name": "python3"
  },
  "language_info": {
   "codemirror_mode": {
    "name": "ipython",
    "version": 3
   },
   "file_extension": ".py",
   "mimetype": "text/x-python",
   "name": "python",
   "nbconvert_exporter": "python",
   "pygments_lexer": "ipython3",
   "version": "3.12.4"
  }
 },
 "nbformat": 4,
 "nbformat_minor": 2
}
